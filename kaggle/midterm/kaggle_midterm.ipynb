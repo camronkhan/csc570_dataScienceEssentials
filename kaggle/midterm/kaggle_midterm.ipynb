{
 "cells": [
  {
   "cell_type": "markdown",
   "metadata": {},
   "source": [
    "# Customer Retention Classifier\n",
    "\n",
    "### Customer Retention Classifier\n",
    "\n",
    "This will be CS 570's midterm assignment. For the midterm, we will be using everything you've learned so far to build a customer \"churn\" model.\n",
    "\n",
    "Imagine you work for GreenPlate, the west coast's fastest growing new subscription box service. GreenPlate's customers get a monthly box, full of healthy and sometimes delicious snacks. GreenPlate wants to know which customers are most likely to cancel their subscription service so that they can use incentives to retain those customers.\n",
    "\n",
    "You need to use the training dataset given to create a model that predicts if the customers in the testing dataset will cancel their subscription to GreenPlate.\n",
    "\n",
    "The dataset contains multiple features, and you can use any of those features you want. The names of those features have been hidden from you.\n",
    "\n",
    "The dependent variable is y. If y=0 that means the customer didn't cancel. If y=1 that means the customer DID cancel. You should predict the probability of cancellation because your model will be evaluated using AUC.\n",
    "\n",
    "You have two separate deliverables, listed below:\n",
    "\n",
    "1. Please submit your answer via Kaggle. You'll need to be on the leaderboard to receive credit for this assignment.\n",
    "\n",
    "2. Please submit all the code you used for cleaning, prepping, and modeling your data via blackboard (NOT github).\n",
    "<br>\n",
    "<br>"
   ]
  },
  {
   "cell_type": "code",
   "execution_count": 4,
   "metadata": {
    "collapsed": false
   },
   "outputs": [],
   "source": [
    "import math\n",
    "import re\n",
    "import pandas as pd\n",
    "import numpy as np\n",
    "from sklearn.ensemble import RandomForestClassifier\n",
    "from sklearn.grid_search import GridSearchCV\n",
    "from sklearn.metrics import roc_auc_score"
   ]
  },
  {
   "cell_type": "code",
   "execution_count": 5,
   "metadata": {
    "collapsed": false
   },
   "outputs": [
    {
     "data": {
      "text/plain": [
       "100"
      ]
     },
     "execution_count": 5,
     "metadata": {},
     "output_type": "execute_result"
    }
   ],
   "source": [
    "pd.set_option(\"display.max_columns\", 100)\n",
    "pd.options.display.max_columns"
   ]
  },
  {
   "cell_type": "code",
   "execution_count": 6,
   "metadata": {
    "collapsed": false
   },
   "outputs": [],
   "source": [
    "TRAIN_DATA = pd.read_csv(\"../../../kaggle_data/customer_retention/midterm_train.csv\")\n",
    "TEST_DATA = pd.read_csv(\"../../../kaggle_data/customer_retention/midterm_test.csv\")\n",
    "X = TRAIN_DATA\n",
    "y = X.pop('y')\n",
    "X_combined = pd.concat([X, TEST_DATA])"
   ]
  },
  {
   "cell_type": "code",
   "execution_count": 7,
   "metadata": {
    "collapsed": false
   },
   "outputs": [
    {
     "data": {
      "text/plain": [
       "(200000, 50)"
      ]
     },
     "execution_count": 7,
     "metadata": {},
     "output_type": "execute_result"
    }
   ],
   "source": [
    "X_combined.shape"
   ]
  },
  {
   "cell_type": "code",
   "execution_count": 8,
   "metadata": {
    "collapsed": false
   },
   "outputs": [
    {
     "data": {
      "text/plain": [
       "x0     float64\n",
       "x1     float64\n",
       "x2     float64\n",
       "x3     float64\n",
       "x4     float64\n",
       "x5     float64\n",
       "x6     float64\n",
       "x7     float64\n",
       "x8     float64\n",
       "x9      object\n",
       "x10    float64\n",
       "x11    float64\n",
       "x12    float64\n",
       "x13    float64\n",
       "x14    float64\n",
       "x15    float64\n",
       "x16     object\n",
       "x17    float64\n",
       "x18    float64\n",
       "x19     object\n",
       "x20    float64\n",
       "x21    float64\n",
       "x22    float64\n",
       "x23    float64\n",
       "x24    float64\n",
       "x25    float64\n",
       "x26    float64\n",
       "x27    float64\n",
       "x28    float64\n",
       "x29    float64\n",
       "x30    float64\n",
       "x31    float64\n",
       "x32    float64\n",
       "x33    float64\n",
       "x34    float64\n",
       "x35    float64\n",
       "x36    float64\n",
       "x37    float64\n",
       "x38    float64\n",
       "x39    float64\n",
       "x40    float64\n",
       "x41    float64\n",
       "x42    float64\n",
       "x43     object\n",
       "x44     object\n",
       "x45    float64\n",
       "x46    float64\n",
       "x47    float64\n",
       "x48    float64\n",
       "x49    float64\n",
       "dtype: object"
      ]
     },
     "execution_count": 8,
     "metadata": {},
     "output_type": "execute_result"
    }
   ],
   "source": [
    "X_combined.dtypes"
   ]
  },
  {
   "cell_type": "code",
   "execution_count": 9,
   "metadata": {
    "collapsed": false
   },
   "outputs": [
    {
     "data": {
      "text/html": [
       "<div>\n",
       "<table border=\"1\" class=\"dataframe\">\n",
       "  <thead>\n",
       "    <tr style=\"text-align: right;\">\n",
       "      <th></th>\n",
       "      <th>x0</th>\n",
       "      <th>x1</th>\n",
       "      <th>x2</th>\n",
       "      <th>x3</th>\n",
       "      <th>x4</th>\n",
       "      <th>x5</th>\n",
       "      <th>x6</th>\n",
       "      <th>x7</th>\n",
       "      <th>x8</th>\n",
       "      <th>x9</th>\n",
       "      <th>x10</th>\n",
       "      <th>x11</th>\n",
       "      <th>x12</th>\n",
       "      <th>x13</th>\n",
       "      <th>x14</th>\n",
       "      <th>x15</th>\n",
       "      <th>x16</th>\n",
       "      <th>x17</th>\n",
       "      <th>x18</th>\n",
       "      <th>x19</th>\n",
       "      <th>x20</th>\n",
       "      <th>x21</th>\n",
       "      <th>x22</th>\n",
       "      <th>x23</th>\n",
       "      <th>x24</th>\n",
       "      <th>x25</th>\n",
       "      <th>x26</th>\n",
       "      <th>x27</th>\n",
       "      <th>x28</th>\n",
       "      <th>x29</th>\n",
       "      <th>x30</th>\n",
       "      <th>x31</th>\n",
       "      <th>x32</th>\n",
       "      <th>x33</th>\n",
       "      <th>x34</th>\n",
       "      <th>x35</th>\n",
       "      <th>x36</th>\n",
       "      <th>x37</th>\n",
       "      <th>x38</th>\n",
       "      <th>x39</th>\n",
       "      <th>x40</th>\n",
       "      <th>x41</th>\n",
       "      <th>x42</th>\n",
       "      <th>x43</th>\n",
       "      <th>x44</th>\n",
       "      <th>x45</th>\n",
       "      <th>x46</th>\n",
       "      <th>x47</th>\n",
       "      <th>x48</th>\n",
       "      <th>x49</th>\n",
       "    </tr>\n",
       "  </thead>\n",
       "  <tbody>\n",
       "    <tr>\n",
       "      <th>0</th>\n",
       "      <td>-5.900707</td>\n",
       "      <td>0.469389</td>\n",
       "      <td>4.733068</td>\n",
       "      <td>9.223027</td>\n",
       "      <td>3.170787</td>\n",
       "      <td>0.024669</td>\n",
       "      <td>-2.055880</td>\n",
       "      <td>-2.045466</td>\n",
       "      <td>3.004170</td>\n",
       "      <td>0.02%</td>\n",
       "      <td>-4.685655</td>\n",
       "      <td>5.895884</td>\n",
       "      <td>12.235718</td>\n",
       "      <td>-17.658996</td>\n",
       "      <td>-19.322599</td>\n",
       "      <td>1.978951</td>\n",
       "      <td>asia</td>\n",
       "      <td>0.831200</td>\n",
       "      <td>1.980735</td>\n",
       "      <td>Jun</td>\n",
       "      <td>-1.347138</td>\n",
       "      <td>0.320392</td>\n",
       "      <td>-1.177156</td>\n",
       "      <td>-2.704137</td>\n",
       "      <td>-14.103989</td>\n",
       "      <td>-5.655715</td>\n",
       "      <td>5.481989</td>\n",
       "      <td>-1.161496</td>\n",
       "      <td>-3.931582</td>\n",
       "      <td>7.643024</td>\n",
       "      <td>3.421198</td>\n",
       "      <td>3.762529</td>\n",
       "      <td>8.698367</td>\n",
       "      <td>-6.727415</td>\n",
       "      <td>-10.732802</td>\n",
       "      <td>-0.728671</td>\n",
       "      <td>0.018602</td>\n",
       "      <td>-32.680226</td>\n",
       "      <td>-0.106695</td>\n",
       "      <td>3.913680</td>\n",
       "      <td>-5.335641</td>\n",
       "      <td>-3.694592</td>\n",
       "      <td>-1.008670</td>\n",
       "      <td>wednesday</td>\n",
       "      <td>$-180.16</td>\n",
       "      <td>1.236134</td>\n",
       "      <td>4.462951</td>\n",
       "      <td>4.592803</td>\n",
       "      <td>-0.034478</td>\n",
       "      <td>3.680401</td>\n",
       "    </tr>\n",
       "    <tr>\n",
       "      <th>1</th>\n",
       "      <td>-3.530391</td>\n",
       "      <td>4.229818</td>\n",
       "      <td>-4.619433</td>\n",
       "      <td>2.154913</td>\n",
       "      <td>5.619903</td>\n",
       "      <td>-1.955667</td>\n",
       "      <td>7.713001</td>\n",
       "      <td>-1.279395</td>\n",
       "      <td>14.941269</td>\n",
       "      <td>0.0%</td>\n",
       "      <td>-3.103170</td>\n",
       "      <td>0.982095</td>\n",
       "      <td>3.753298</td>\n",
       "      <td>7.537105</td>\n",
       "      <td>5.942761</td>\n",
       "      <td>0.088104</td>\n",
       "      <td>asia</td>\n",
       "      <td>0.022300</td>\n",
       "      <td>-5.310811</td>\n",
       "      <td>Jun</td>\n",
       "      <td>0.898115</td>\n",
       "      <td>-1.935222</td>\n",
       "      <td>-0.398599</td>\n",
       "      <td>-0.979549</td>\n",
       "      <td>-10.746822</td>\n",
       "      <td>2.507350</td>\n",
       "      <td>1.280838</td>\n",
       "      <td>3.452034</td>\n",
       "      <td>0.624896</td>\n",
       "      <td>0.426659</td>\n",
       "      <td>2.874107</td>\n",
       "      <td>18.712973</td>\n",
       "      <td>7.312360</td>\n",
       "      <td>-15.853969</td>\n",
       "      <td>-1.455398</td>\n",
       "      <td>0.236479</td>\n",
       "      <td>-3.252878</td>\n",
       "      <td>-1.289889</td>\n",
       "      <td>14.377643</td>\n",
       "      <td>6.201034</td>\n",
       "      <td>-8.490805</td>\n",
       "      <td>6.414948</td>\n",
       "      <td>5.831287</td>\n",
       "      <td>tuesday</td>\n",
       "      <td>$432.31</td>\n",
       "      <td>-6.570015</td>\n",
       "      <td>-5.308026</td>\n",
       "      <td>-5.462467</td>\n",
       "      <td>-0.229518</td>\n",
       "      <td>-2.332947</td>\n",
       "    </tr>\n",
       "    <tr>\n",
       "      <th>2</th>\n",
       "      <td>1.003389</td>\n",
       "      <td>-0.012547</td>\n",
       "      <td>6.250503</td>\n",
       "      <td>3.368675</td>\n",
       "      <td>1.711321</td>\n",
       "      <td>6.192718</td>\n",
       "      <td>4.166159</td>\n",
       "      <td>-0.363055</td>\n",
       "      <td>15.175681</td>\n",
       "      <td>-0.01%</td>\n",
       "      <td>-5.424805</td>\n",
       "      <td>7.969230</td>\n",
       "      <td>-16.521783</td>\n",
       "      <td>-10.213318</td>\n",
       "      <td>9.272947</td>\n",
       "      <td>1.128275</td>\n",
       "      <td>asia</td>\n",
       "      <td>0.725844</td>\n",
       "      <td>-10.495085</td>\n",
       "      <td>July</td>\n",
       "      <td>4.546223</td>\n",
       "      <td>2.019324</td>\n",
       "      <td>4.339569</td>\n",
       "      <td>-0.205385</td>\n",
       "      <td>-15.868465</td>\n",
       "      <td>-0.501901</td>\n",
       "      <td>2.002275</td>\n",
       "      <td>0.225154</td>\n",
       "      <td>-0.882617</td>\n",
       "      <td>-14.174509</td>\n",
       "      <td>-14.707616</td>\n",
       "      <td>19.006559</td>\n",
       "      <td>2.732869</td>\n",
       "      <td>-35.200541</td>\n",
       "      <td>-21.825129</td>\n",
       "      <td>0.365506</td>\n",
       "      <td>-5.381501</td>\n",
       "      <td>16.668153</td>\n",
       "      <td>-7.932493</td>\n",
       "      <td>-0.397368</td>\n",
       "      <td>-4.172583</td>\n",
       "      <td>0.371862</td>\n",
       "      <td>-7.025987</td>\n",
       "      <td>wednesday</td>\n",
       "      <td>$-119.17</td>\n",
       "      <td>-66.851394</td>\n",
       "      <td>-11.084558</td>\n",
       "      <td>-11.407072</td>\n",
       "      <td>6.395551</td>\n",
       "      <td>3.545332</td>\n",
       "    </tr>\n",
       "    <tr>\n",
       "      <th>3</th>\n",
       "      <td>-16.041769</td>\n",
       "      <td>-3.243507</td>\n",
       "      <td>-0.546649</td>\n",
       "      <td>-11.594427</td>\n",
       "      <td>5.111965</td>\n",
       "      <td>0.609785</td>\n",
       "      <td>-1.540136</td>\n",
       "      <td>-1.227567</td>\n",
       "      <td>-16.460535</td>\n",
       "      <td>-0.0%</td>\n",
       "      <td>5.624369</td>\n",
       "      <td>9.138195</td>\n",
       "      <td>2.538420</td>\n",
       "      <td>14.740934</td>\n",
       "      <td>10.200809</td>\n",
       "      <td>-2.862860</td>\n",
       "      <td>asia</td>\n",
       "      <td>-0.358076</td>\n",
       "      <td>2.548242</td>\n",
       "      <td>Aug</td>\n",
       "      <td>-1.207699</td>\n",
       "      <td>-1.183008</td>\n",
       "      <td>-11.578898</td>\n",
       "      <td>-2.626346</td>\n",
       "      <td>15.628244</td>\n",
       "      <td>-16.420842</td>\n",
       "      <td>-6.891503</td>\n",
       "      <td>-4.772674</td>\n",
       "      <td>-0.172465</td>\n",
       "      <td>2.928158</td>\n",
       "      <td>-11.267913</td>\n",
       "      <td>-20.615756</td>\n",
       "      <td>5.138457</td>\n",
       "      <td>20.096343</td>\n",
       "      <td>11.691170</td>\n",
       "      <td>0.442023</td>\n",
       "      <td>-0.380077</td>\n",
       "      <td>29.446823</td>\n",
       "      <td>10.975024</td>\n",
       "      <td>1.148454</td>\n",
       "      <td>1.666316</td>\n",
       "      <td>-2.920478</td>\n",
       "      <td>-2.135088</td>\n",
       "      <td>thurday</td>\n",
       "      <td>$-1309.54</td>\n",
       "      <td>0.442939</td>\n",
       "      <td>11.808383</td>\n",
       "      <td>12.151957</td>\n",
       "      <td>-2.923916</td>\n",
       "      <td>-1.471336</td>\n",
       "    </tr>\n",
       "    <tr>\n",
       "      <th>4</th>\n",
       "      <td>20.498575</td>\n",
       "      <td>10.766191</td>\n",
       "      <td>1.478032</td>\n",
       "      <td>-5.723594</td>\n",
       "      <td>-0.768839</td>\n",
       "      <td>-3.482515</td>\n",
       "      <td>-11.169389</td>\n",
       "      <td>-0.361478</td>\n",
       "      <td>2.194909</td>\n",
       "      <td>-0.02%</td>\n",
       "      <td>1.331710</td>\n",
       "      <td>13.616031</td>\n",
       "      <td>2.503163</td>\n",
       "      <td>-21.545901</td>\n",
       "      <td>-31.082999</td>\n",
       "      <td>0.964522</td>\n",
       "      <td>euorpe</td>\n",
       "      <td>-0.340416</td>\n",
       "      <td>-4.412438</td>\n",
       "      <td>May</td>\n",
       "      <td>-0.504193</td>\n",
       "      <td>0.198800</td>\n",
       "      <td>-1.763387</td>\n",
       "      <td>3.767706</td>\n",
       "      <td>-13.312645</td>\n",
       "      <td>-6.421953</td>\n",
       "      <td>-3.401994</td>\n",
       "      <td>-2.892450</td>\n",
       "      <td>-5.740850</td>\n",
       "      <td>7.334497</td>\n",
       "      <td>0.836239</td>\n",
       "      <td>2.748982</td>\n",
       "      <td>7.637753</td>\n",
       "      <td>-15.819318</td>\n",
       "      <td>-7.478481</td>\n",
       "      <td>0.470682</td>\n",
       "      <td>-2.954060</td>\n",
       "      <td>-10.051513</td>\n",
       "      <td>4.656588</td>\n",
       "      <td>-5.186225</td>\n",
       "      <td>-0.757455</td>\n",
       "      <td>-1.769904</td>\n",
       "      <td>-0.532896</td>\n",
       "      <td>wednesday</td>\n",
       "      <td>$-1103.32</td>\n",
       "      <td>61.136654</td>\n",
       "      <td>48.077895</td>\n",
       "      <td>49.476758</td>\n",
       "      <td>1.043061</td>\n",
       "      <td>9.927952</td>\n",
       "    </tr>\n",
       "  </tbody>\n",
       "</table>\n",
       "</div>"
      ],
      "text/plain": [
       "          x0         x1        x2         x3        x4        x5         x6  \\\n",
       "0  -5.900707   0.469389  4.733068   9.223027  3.170787  0.024669  -2.055880   \n",
       "1  -3.530391   4.229818 -4.619433   2.154913  5.619903 -1.955667   7.713001   \n",
       "2   1.003389  -0.012547  6.250503   3.368675  1.711321  6.192718   4.166159   \n",
       "3 -16.041769  -3.243507 -0.546649 -11.594427  5.111965  0.609785  -1.540136   \n",
       "4  20.498575  10.766191  1.478032  -5.723594 -0.768839 -3.482515 -11.169389   \n",
       "\n",
       "         x7         x8      x9       x10        x11        x12        x13  \\\n",
       "0 -2.045466   3.004170   0.02% -4.685655   5.895884  12.235718 -17.658996   \n",
       "1 -1.279395  14.941269    0.0% -3.103170   0.982095   3.753298   7.537105   \n",
       "2 -0.363055  15.175681  -0.01% -5.424805   7.969230 -16.521783 -10.213318   \n",
       "3 -1.227567 -16.460535   -0.0%  5.624369   9.138195   2.538420  14.740934   \n",
       "4 -0.361478   2.194909  -0.02%  1.331710  13.616031   2.503163 -21.545901   \n",
       "\n",
       "         x14       x15     x16       x17        x18   x19       x20       x21  \\\n",
       "0 -19.322599  1.978951    asia  0.831200   1.980735   Jun -1.347138  0.320392   \n",
       "1   5.942761  0.088104    asia  0.022300  -5.310811   Jun  0.898115 -1.935222   \n",
       "2   9.272947  1.128275    asia  0.725844 -10.495085  July  4.546223  2.019324   \n",
       "3  10.200809 -2.862860    asia -0.358076   2.548242   Aug -1.207699 -1.183008   \n",
       "4 -31.082999  0.964522  euorpe -0.340416  -4.412438   May -0.504193  0.198800   \n",
       "\n",
       "         x22       x23        x24        x25       x26       x27       x28  \\\n",
       "0  -1.177156 -2.704137 -14.103989  -5.655715  5.481989 -1.161496 -3.931582   \n",
       "1  -0.398599 -0.979549 -10.746822   2.507350  1.280838  3.452034  0.624896   \n",
       "2   4.339569 -0.205385 -15.868465  -0.501901  2.002275  0.225154 -0.882617   \n",
       "3 -11.578898 -2.626346  15.628244 -16.420842 -6.891503 -4.772674 -0.172465   \n",
       "4  -1.763387  3.767706 -13.312645  -6.421953 -3.401994 -2.892450 -5.740850   \n",
       "\n",
       "         x29        x30        x31       x32        x33        x34       x35  \\\n",
       "0   7.643024   3.421198   3.762529  8.698367  -6.727415 -10.732802 -0.728671   \n",
       "1   0.426659   2.874107  18.712973  7.312360 -15.853969  -1.455398  0.236479   \n",
       "2 -14.174509 -14.707616  19.006559  2.732869 -35.200541 -21.825129  0.365506   \n",
       "3   2.928158 -11.267913 -20.615756  5.138457  20.096343  11.691170  0.442023   \n",
       "4   7.334497   0.836239   2.748982  7.637753 -15.819318  -7.478481  0.470682   \n",
       "\n",
       "        x36        x37        x38       x39       x40       x41       x42  \\\n",
       "0  0.018602 -32.680226  -0.106695  3.913680 -5.335641 -3.694592 -1.008670   \n",
       "1 -3.252878  -1.289889  14.377643  6.201034 -8.490805  6.414948  5.831287   \n",
       "2 -5.381501  16.668153  -7.932493 -0.397368 -4.172583  0.371862 -7.025987   \n",
       "3 -0.380077  29.446823  10.975024  1.148454  1.666316 -2.920478 -2.135088   \n",
       "4 -2.954060 -10.051513   4.656588 -5.186225 -0.757455 -1.769904 -0.532896   \n",
       "\n",
       "         x43        x44        x45        x46        x47       x48       x49  \n",
       "0  wednesday   $-180.16   1.236134   4.462951   4.592803 -0.034478  3.680401  \n",
       "1    tuesday    $432.31  -6.570015  -5.308026  -5.462467 -0.229518 -2.332947  \n",
       "2  wednesday   $-119.17 -66.851394 -11.084558 -11.407072  6.395551  3.545332  \n",
       "3    thurday  $-1309.54   0.442939  11.808383  12.151957 -2.923916 -1.471336  \n",
       "4  wednesday  $-1103.32  61.136654  48.077895  49.476758  1.043061  9.927952  "
      ]
     },
     "execution_count": 9,
     "metadata": {},
     "output_type": "execute_result"
    }
   ],
   "source": [
    "X_combined.head()"
   ]
  },
  {
   "cell_type": "markdown",
   "metadata": {},
   "source": [
    "### Categorical Objects:\n",
    "- **x9:** string; percent change? (i.e., 0.02%, -0.01%)\n",
    "- **x16:** string; region (i.e., asia, europe)\n",
    "- **x19:** string; month (i.e., july, august)\n",
    "- **x43:** string; day of week (i.e., wednesday, tuesday)\n",
    "- **x44:** string; dollar amount (i.e., DS-180.16, DS-119.17), where DS stands in for dollar sign\n"
   ]
  },
  {
   "cell_type": "markdown",
   "metadata": {},
   "source": [
    "### Convert Percent to Float"
   ]
  },
  {
   "cell_type": "code",
   "execution_count": 62,
   "metadata": {
    "collapsed": false
   },
   "outputs": [
    {
     "data": {
      "text/plain": [
       "array(['0.02%', '0.0%', '-0.01%', '-0.0%', '-0.02%', '0.01%', '0.03%',\n",
       "       '-0.03%', '-0.04%', nan, '0.05%', '0.04%', '-0.05%'], dtype=object)"
      ]
     },
     "execution_count": 62,
     "metadata": {},
     "output_type": "execute_result"
    }
   ],
   "source": [
    "X_combined.x9.unique()"
   ]
  },
  {
   "cell_type": "code",
   "execution_count": 69,
   "metadata": {
    "collapsed": false
   },
   "outputs": [],
   "source": [
    "def parsePercent(x):\n",
    "    if isinstance(x, str): return float(re.sub('%', '', x)) / 100.00"
   ]
  },
  {
   "cell_type": "code",
   "execution_count": 70,
   "metadata": {
    "collapsed": false
   },
   "outputs": [],
   "source": [
    "X_combined['percentChange'] = [parsePercent(x) for x in X_combined.x9]"
   ]
  },
  {
   "cell_type": "code",
   "execution_count": 71,
   "metadata": {
    "collapsed": false
   },
   "outputs": [
    {
     "data": {
      "text/plain": [
       "array([ 0.0002,  0.    , -0.0001, -0.0002,  0.0001,  0.0003, -0.0003,\n",
       "       -0.0004,     nan,  0.0005,  0.0004, -0.0005])"
      ]
     },
     "execution_count": 71,
     "metadata": {},
     "output_type": "execute_result"
    }
   ],
   "source": [
    "X_combined.percentChange.unique()"
   ]
  },
  {
   "cell_type": "code",
   "execution_count": 72,
   "metadata": {
    "collapsed": false
   },
   "outputs": [
    {
     "data": {
      "text/plain": [
       "count    1.999630e+05\n",
       "mean     5.250971e-08\n",
       "std      1.041038e-04\n",
       "min     -5.000000e-04\n",
       "25%     -1.000000e-04\n",
       "50%      0.000000e+00\n",
       "75%      1.000000e-04\n",
       "max      5.000000e-04\n",
       "Name: percentChange, dtype: float64"
      ]
     },
     "execution_count": 72,
     "metadata": {},
     "output_type": "execute_result"
    }
   ],
   "source": [
    "X_combined.percentChange.describe()"
   ]
  },
  {
   "cell_type": "markdown",
   "metadata": {},
   "source": [
    "### Clean Month & Convert to Dummy"
   ]
  },
  {
   "cell_type": "code",
   "execution_count": 73,
   "metadata": {
    "collapsed": false
   },
   "outputs": [
    {
     "data": {
      "text/plain": [
       "array(['Jun', 'July', 'Aug', 'May', 'Mar', 'Apr', 'sept.', 'Feb', 'Oct',\n",
       "       'Nov', nan, 'January', 'Dev'], dtype=object)"
      ]
     },
     "execution_count": 73,
     "metadata": {},
     "output_type": "execute_result"
    }
   ],
   "source": [
    "X_combined.x19.unique()"
   ]
  },
  {
   "cell_type": "code",
   "execution_count": 87,
   "metadata": {
    "collapsed": false
   },
   "outputs": [],
   "source": [
    "def convertMonth(x):\n",
    "    if isinstance(x, str):\n",
    "        if x == 'Jun': return 'june'\n",
    "        elif x == 'July': return 'july'\n",
    "        elif x == 'Aug': return 'august'\n",
    "        elif x == 'May': return 'may'\n",
    "        elif x == 'Mar': return 'march'\n",
    "        elif x == 'Apr': return 'april'\n",
    "        elif x == 'sept.': return 'september'\n",
    "        elif x == 'Feb': return 'february'\n",
    "        elif x == 'Oct': return 'october'\n",
    "        elif x == 'Nov': return 'november'\n",
    "        elif x == 'January': return 'january'\n",
    "        elif x == 'Dev': return 'december'"
   ]
  },
  {
   "cell_type": "code",
   "execution_count": 88,
   "metadata": {
    "collapsed": false
   },
   "outputs": [],
   "source": [
    "X_combined['month'] = [convertMonth(x) for x in X_combined.x19]"
   ]
  },
  {
   "cell_type": "code",
   "execution_count": 89,
   "metadata": {
    "collapsed": false
   },
   "outputs": [
    {
     "data": {
      "text/plain": [
       "count     199965\n",
       "unique        12\n",
       "top          jun\n",
       "freq       55795\n",
       "Name: month, dtype: object"
      ]
     },
     "execution_count": 89,
     "metadata": {},
     "output_type": "execute_result"
    }
   ],
   "source": [
    "X_combined.month.describe()"
   ]
  },
  {
   "cell_type": "code",
   "execution_count": 90,
   "metadata": {
    "collapsed": false
   },
   "outputs": [
    {
     "data": {
      "text/plain": [
       "array(['jun', 'jul', 'aug', 'may', 'mar', 'apr', 'sep', 'feb', 'oct',\n",
       "       'nov', None, 'jan', 'dec'], dtype=object)"
      ]
     },
     "execution_count": 90,
     "metadata": {},
     "output_type": "execute_result"
    }
   ],
   "source": [
    "X_combined.month.unique()"
   ]
  },
  {
   "cell_type": "markdown",
   "metadata": {},
   "source": [
    "### Clean Day of Week & Dummy"
   ]
  },
  {
   "cell_type": "code",
   "execution_count": 91,
   "metadata": {
    "collapsed": false
   },
   "outputs": [
    {
     "data": {
      "text/plain": [
       "array(['wednesday', 'tuesday', 'thurday', 'friday', 'monday', nan], dtype=object)"
      ]
     },
     "execution_count": 91,
     "metadata": {},
     "output_type": "execute_result"
    }
   ],
   "source": [
    "X_combined.x43.unique()"
   ]
  },
  {
   "cell_type": "code",
   "execution_count": 92,
   "metadata": {
    "collapsed": true
   },
   "outputs": [],
   "source": [
    "def convertDay(x):\n",
    "    if isinstance(x, str):\n",
    "        if x == 'monday': return 'monday'\n",
    "        elif x == 'tuesday': return 'tuesday'\n",
    "        elif x == 'wednesday': return 'wednesday'\n",
    "        elif x == 'thurday': return 'thursday'\n",
    "        elif x == 'friday': return 'friday'"
   ]
  },
  {
   "cell_type": "code",
   "execution_count": 93,
   "metadata": {
    "collapsed": false
   },
   "outputs": [],
   "source": [
    "X_combined['day'] = [convertDay(x) for x in X_combined.x43]"
   ]
  },
  {
   "cell_type": "code",
   "execution_count": 94,
   "metadata": {
    "collapsed": false
   },
   "outputs": [
    {
     "data": {
      "text/plain": [
       "array(['wednesday', 'tuesday', 'thursday', 'friday', 'monday', None], dtype=object)"
      ]
     },
     "execution_count": 94,
     "metadata": {},
     "output_type": "execute_result"
    }
   ],
   "source": [
    "X_combined.day.unique()"
   ]
  },
  {
   "cell_type": "code",
   "execution_count": 95,
   "metadata": {
    "collapsed": false
   },
   "outputs": [
    {
     "data": {
      "text/plain": [
       "count        199966\n",
       "unique            5\n",
       "top       wednesday\n",
       "freq         126413\n",
       "Name: day, dtype: object"
      ]
     },
     "execution_count": 95,
     "metadata": {},
     "output_type": "execute_result"
    }
   ],
   "source": [
    "X_combined.day.describe()"
   ]
  },
  {
   "cell_type": "markdown",
   "metadata": {},
   "source": [
    "### Clean Region & Dummy"
   ]
  },
  {
   "cell_type": "code",
   "execution_count": 96,
   "metadata": {
    "collapsed": false
   },
   "outputs": [
    {
     "data": {
      "text/plain": [
       "array(['asia', 'euorpe', 'america', nan], dtype=object)"
      ]
     },
     "execution_count": 96,
     "metadata": {},
     "output_type": "execute_result"
    }
   ],
   "source": [
    "X_combined.x16.unique()"
   ]
  },
  {
   "cell_type": "code",
   "execution_count": 97,
   "metadata": {
    "collapsed": false
   },
   "outputs": [],
   "source": [
    "def convertRegion(x):\n",
    "    if isinstance(x, str):\n",
    "        if x == 'asia': return 'asia'\n",
    "        elif x == 'euorpe': return 'europe'\n",
    "        elif x == 'america': return 'america'"
   ]
  },
  {
   "cell_type": "code",
   "execution_count": 98,
   "metadata": {
    "collapsed": false
   },
   "outputs": [],
   "source": [
    "X_combined['region'] = [convertRegion(x) for x in X_combined.x16]"
   ]
  },
  {
   "cell_type": "code",
   "execution_count": 99,
   "metadata": {
    "collapsed": false
   },
   "outputs": [
    {
     "data": {
      "text/plain": [
       "array(['asia', 'europe', 'america', None], dtype=object)"
      ]
     },
     "execution_count": 99,
     "metadata": {},
     "output_type": "execute_result"
    }
   ],
   "source": [
    "X_combined.region.unique()"
   ]
  },
  {
   "cell_type": "code",
   "execution_count": 100,
   "metadata": {
    "collapsed": false
   },
   "outputs": [
    {
     "data": {
      "text/plain": [
       "count     199953\n",
       "unique         3\n",
       "top         asia\n",
       "freq      173129\n",
       "Name: region, dtype: object"
      ]
     },
     "execution_count": 100,
     "metadata": {},
     "output_type": "execute_result"
    }
   ],
   "source": [
    "X_combined.region.describe()"
   ]
  },
  {
   "cell_type": "markdown",
   "metadata": {
    "collapsed": false
   },
   "source": [
    "### Convert Dollar Amount to Float"
   ]
  },
  {
   "cell_type": "code",
   "execution_count": 101,
   "metadata": {
    "collapsed": false
   },
   "outputs": [
    {
     "data": {
      "text/plain": [
       "array(['$-180.16', '$432.31', '$-119.17', ..., '$87.09', '$829.09',\n",
       "       '$362.35'], dtype=object)"
      ]
     },
     "execution_count": 101,
     "metadata": {},
     "output_type": "execute_result"
    }
   ],
   "source": [
    "X_combined.x44.unique()"
   ]
  },
  {
   "cell_type": "code",
   "execution_count": 102,
   "metadata": {
    "collapsed": true
   },
   "outputs": [],
   "source": [
    "def convertDollarAmount(x):\n",
    "    if isinstance(x, str): return float(re.sub('[$]', '', x))"
   ]
  },
  {
   "cell_type": "code",
   "execution_count": 103,
   "metadata": {
    "collapsed": false
   },
   "outputs": [],
   "source": [
    "X_combined['dollarAmt'] = [convertDollarAmount(x) for x in X_combined.x44]"
   ]
  },
  {
   "cell_type": "code",
   "execution_count": 104,
   "metadata": {
    "collapsed": false
   },
   "outputs": [
    {
     "data": {
      "text/plain": [
       "array([-180.16,  432.31, -119.17, ...,   87.09,  829.09,  362.35])"
      ]
     },
     "execution_count": 104,
     "metadata": {},
     "output_type": "execute_result"
    }
   ],
   "source": [
    "X_combined.dollarAmt.unique()"
   ]
  },
  {
   "cell_type": "code",
   "execution_count": 105,
   "metadata": {
    "collapsed": false
   },
   "outputs": [
    {
     "data": {
      "text/plain": [
       "count    199951.000000\n",
       "mean          0.027069\n",
       "std        1000.004508\n",
       "min       -4343.800000\n",
       "25%        -672.880000\n",
       "50%           1.590000\n",
       "75%         672.980000\n",
       "max        4929.460000\n",
       "Name: dollarAmt, dtype: float64"
      ]
     },
     "execution_count": 105,
     "metadata": {},
     "output_type": "execute_result"
    }
   ],
   "source": [
    "X_combined.dollarAmt.describe()"
   ]
  },
  {
   "cell_type": "code",
   "execution_count": 107,
   "metadata": {
    "collapsed": false
   },
   "outputs": [
    {
     "data": {
      "text/html": [
       "<div>\n",
       "<table border=\"1\" class=\"dataframe\">\n",
       "  <thead>\n",
       "    <tr style=\"text-align: right;\">\n",
       "      <th></th>\n",
       "      <th>x0</th>\n",
       "      <th>x1</th>\n",
       "      <th>x2</th>\n",
       "      <th>x3</th>\n",
       "      <th>x4</th>\n",
       "      <th>x5</th>\n",
       "      <th>x6</th>\n",
       "      <th>x7</th>\n",
       "      <th>x8</th>\n",
       "      <th>x9</th>\n",
       "      <th>x10</th>\n",
       "      <th>x11</th>\n",
       "      <th>x12</th>\n",
       "      <th>x13</th>\n",
       "      <th>x14</th>\n",
       "      <th>x15</th>\n",
       "      <th>x16</th>\n",
       "      <th>x17</th>\n",
       "      <th>x18</th>\n",
       "      <th>x19</th>\n",
       "      <th>x20</th>\n",
       "      <th>x21</th>\n",
       "      <th>x22</th>\n",
       "      <th>x23</th>\n",
       "      <th>x24</th>\n",
       "      <th>x25</th>\n",
       "      <th>x26</th>\n",
       "      <th>x27</th>\n",
       "      <th>x28</th>\n",
       "      <th>x29</th>\n",
       "      <th>x30</th>\n",
       "      <th>x31</th>\n",
       "      <th>x32</th>\n",
       "      <th>x33</th>\n",
       "      <th>x34</th>\n",
       "      <th>x35</th>\n",
       "      <th>x36</th>\n",
       "      <th>x37</th>\n",
       "      <th>x38</th>\n",
       "      <th>x39</th>\n",
       "      <th>x40</th>\n",
       "      <th>x41</th>\n",
       "      <th>x42</th>\n",
       "      <th>x43</th>\n",
       "      <th>x44</th>\n",
       "      <th>x45</th>\n",
       "      <th>x46</th>\n",
       "      <th>x47</th>\n",
       "      <th>x48</th>\n",
       "      <th>x49</th>\n",
       "      <th>percentChange</th>\n",
       "      <th>month</th>\n",
       "      <th>day</th>\n",
       "      <th>region</th>\n",
       "      <th>dollarAmt</th>\n",
       "    </tr>\n",
       "  </thead>\n",
       "  <tbody>\n",
       "    <tr>\n",
       "      <th>0</th>\n",
       "      <td>-5.900707</td>\n",
       "      <td>0.469389</td>\n",
       "      <td>4.733068</td>\n",
       "      <td>9.223027</td>\n",
       "      <td>3.170787</td>\n",
       "      <td>0.024669</td>\n",
       "      <td>-2.055880</td>\n",
       "      <td>-2.045466</td>\n",
       "      <td>3.004170</td>\n",
       "      <td>0.02%</td>\n",
       "      <td>-4.685655</td>\n",
       "      <td>5.895884</td>\n",
       "      <td>12.235718</td>\n",
       "      <td>-17.658996</td>\n",
       "      <td>-19.322599</td>\n",
       "      <td>1.978951</td>\n",
       "      <td>asia</td>\n",
       "      <td>0.831200</td>\n",
       "      <td>1.980735</td>\n",
       "      <td>Jun</td>\n",
       "      <td>-1.347138</td>\n",
       "      <td>0.320392</td>\n",
       "      <td>-1.177156</td>\n",
       "      <td>-2.704137</td>\n",
       "      <td>-14.103989</td>\n",
       "      <td>-5.655715</td>\n",
       "      <td>5.481989</td>\n",
       "      <td>-1.161496</td>\n",
       "      <td>-3.931582</td>\n",
       "      <td>7.643024</td>\n",
       "      <td>3.421198</td>\n",
       "      <td>3.762529</td>\n",
       "      <td>8.698367</td>\n",
       "      <td>-6.727415</td>\n",
       "      <td>-10.732802</td>\n",
       "      <td>-0.728671</td>\n",
       "      <td>0.018602</td>\n",
       "      <td>-32.680226</td>\n",
       "      <td>-0.106695</td>\n",
       "      <td>3.913680</td>\n",
       "      <td>-5.335641</td>\n",
       "      <td>-3.694592</td>\n",
       "      <td>-1.008670</td>\n",
       "      <td>wednesday</td>\n",
       "      <td>$-180.16</td>\n",
       "      <td>1.236134</td>\n",
       "      <td>4.462951</td>\n",
       "      <td>4.592803</td>\n",
       "      <td>-0.034478</td>\n",
       "      <td>3.680401</td>\n",
       "      <td>0.0002</td>\n",
       "      <td>jun</td>\n",
       "      <td>wednesday</td>\n",
       "      <td>asia</td>\n",
       "      <td>-180.16</td>\n",
       "    </tr>\n",
       "    <tr>\n",
       "      <th>1</th>\n",
       "      <td>-3.530391</td>\n",
       "      <td>4.229818</td>\n",
       "      <td>-4.619433</td>\n",
       "      <td>2.154913</td>\n",
       "      <td>5.619903</td>\n",
       "      <td>-1.955667</td>\n",
       "      <td>7.713001</td>\n",
       "      <td>-1.279395</td>\n",
       "      <td>14.941269</td>\n",
       "      <td>0.0%</td>\n",
       "      <td>-3.103170</td>\n",
       "      <td>0.982095</td>\n",
       "      <td>3.753298</td>\n",
       "      <td>7.537105</td>\n",
       "      <td>5.942761</td>\n",
       "      <td>0.088104</td>\n",
       "      <td>asia</td>\n",
       "      <td>0.022300</td>\n",
       "      <td>-5.310811</td>\n",
       "      <td>Jun</td>\n",
       "      <td>0.898115</td>\n",
       "      <td>-1.935222</td>\n",
       "      <td>-0.398599</td>\n",
       "      <td>-0.979549</td>\n",
       "      <td>-10.746822</td>\n",
       "      <td>2.507350</td>\n",
       "      <td>1.280838</td>\n",
       "      <td>3.452034</td>\n",
       "      <td>0.624896</td>\n",
       "      <td>0.426659</td>\n",
       "      <td>2.874107</td>\n",
       "      <td>18.712973</td>\n",
       "      <td>7.312360</td>\n",
       "      <td>-15.853969</td>\n",
       "      <td>-1.455398</td>\n",
       "      <td>0.236479</td>\n",
       "      <td>-3.252878</td>\n",
       "      <td>-1.289889</td>\n",
       "      <td>14.377643</td>\n",
       "      <td>6.201034</td>\n",
       "      <td>-8.490805</td>\n",
       "      <td>6.414948</td>\n",
       "      <td>5.831287</td>\n",
       "      <td>tuesday</td>\n",
       "      <td>$432.31</td>\n",
       "      <td>-6.570015</td>\n",
       "      <td>-5.308026</td>\n",
       "      <td>-5.462467</td>\n",
       "      <td>-0.229518</td>\n",
       "      <td>-2.332947</td>\n",
       "      <td>0.0000</td>\n",
       "      <td>jun</td>\n",
       "      <td>tuesday</td>\n",
       "      <td>asia</td>\n",
       "      <td>432.31</td>\n",
       "    </tr>\n",
       "    <tr>\n",
       "      <th>2</th>\n",
       "      <td>1.003389</td>\n",
       "      <td>-0.012547</td>\n",
       "      <td>6.250503</td>\n",
       "      <td>3.368675</td>\n",
       "      <td>1.711321</td>\n",
       "      <td>6.192718</td>\n",
       "      <td>4.166159</td>\n",
       "      <td>-0.363055</td>\n",
       "      <td>15.175681</td>\n",
       "      <td>-0.01%</td>\n",
       "      <td>-5.424805</td>\n",
       "      <td>7.969230</td>\n",
       "      <td>-16.521783</td>\n",
       "      <td>-10.213318</td>\n",
       "      <td>9.272947</td>\n",
       "      <td>1.128275</td>\n",
       "      <td>asia</td>\n",
       "      <td>0.725844</td>\n",
       "      <td>-10.495085</td>\n",
       "      <td>July</td>\n",
       "      <td>4.546223</td>\n",
       "      <td>2.019324</td>\n",
       "      <td>4.339569</td>\n",
       "      <td>-0.205385</td>\n",
       "      <td>-15.868465</td>\n",
       "      <td>-0.501901</td>\n",
       "      <td>2.002275</td>\n",
       "      <td>0.225154</td>\n",
       "      <td>-0.882617</td>\n",
       "      <td>-14.174509</td>\n",
       "      <td>-14.707616</td>\n",
       "      <td>19.006559</td>\n",
       "      <td>2.732869</td>\n",
       "      <td>-35.200541</td>\n",
       "      <td>-21.825129</td>\n",
       "      <td>0.365506</td>\n",
       "      <td>-5.381501</td>\n",
       "      <td>16.668153</td>\n",
       "      <td>-7.932493</td>\n",
       "      <td>-0.397368</td>\n",
       "      <td>-4.172583</td>\n",
       "      <td>0.371862</td>\n",
       "      <td>-7.025987</td>\n",
       "      <td>wednesday</td>\n",
       "      <td>$-119.17</td>\n",
       "      <td>-66.851394</td>\n",
       "      <td>-11.084558</td>\n",
       "      <td>-11.407072</td>\n",
       "      <td>6.395551</td>\n",
       "      <td>3.545332</td>\n",
       "      <td>-0.0001</td>\n",
       "      <td>jul</td>\n",
       "      <td>wednesday</td>\n",
       "      <td>asia</td>\n",
       "      <td>-119.17</td>\n",
       "    </tr>\n",
       "    <tr>\n",
       "      <th>3</th>\n",
       "      <td>-16.041769</td>\n",
       "      <td>-3.243507</td>\n",
       "      <td>-0.546649</td>\n",
       "      <td>-11.594427</td>\n",
       "      <td>5.111965</td>\n",
       "      <td>0.609785</td>\n",
       "      <td>-1.540136</td>\n",
       "      <td>-1.227567</td>\n",
       "      <td>-16.460535</td>\n",
       "      <td>-0.0%</td>\n",
       "      <td>5.624369</td>\n",
       "      <td>9.138195</td>\n",
       "      <td>2.538420</td>\n",
       "      <td>14.740934</td>\n",
       "      <td>10.200809</td>\n",
       "      <td>-2.862860</td>\n",
       "      <td>asia</td>\n",
       "      <td>-0.358076</td>\n",
       "      <td>2.548242</td>\n",
       "      <td>Aug</td>\n",
       "      <td>-1.207699</td>\n",
       "      <td>-1.183008</td>\n",
       "      <td>-11.578898</td>\n",
       "      <td>-2.626346</td>\n",
       "      <td>15.628244</td>\n",
       "      <td>-16.420842</td>\n",
       "      <td>-6.891503</td>\n",
       "      <td>-4.772674</td>\n",
       "      <td>-0.172465</td>\n",
       "      <td>2.928158</td>\n",
       "      <td>-11.267913</td>\n",
       "      <td>-20.615756</td>\n",
       "      <td>5.138457</td>\n",
       "      <td>20.096343</td>\n",
       "      <td>11.691170</td>\n",
       "      <td>0.442023</td>\n",
       "      <td>-0.380077</td>\n",
       "      <td>29.446823</td>\n",
       "      <td>10.975024</td>\n",
       "      <td>1.148454</td>\n",
       "      <td>1.666316</td>\n",
       "      <td>-2.920478</td>\n",
       "      <td>-2.135088</td>\n",
       "      <td>thurday</td>\n",
       "      <td>$-1309.54</td>\n",
       "      <td>0.442939</td>\n",
       "      <td>11.808383</td>\n",
       "      <td>12.151957</td>\n",
       "      <td>-2.923916</td>\n",
       "      <td>-1.471336</td>\n",
       "      <td>-0.0000</td>\n",
       "      <td>aug</td>\n",
       "      <td>thursday</td>\n",
       "      <td>asia</td>\n",
       "      <td>-1309.54</td>\n",
       "    </tr>\n",
       "    <tr>\n",
       "      <th>4</th>\n",
       "      <td>20.498575</td>\n",
       "      <td>10.766191</td>\n",
       "      <td>1.478032</td>\n",
       "      <td>-5.723594</td>\n",
       "      <td>-0.768839</td>\n",
       "      <td>-3.482515</td>\n",
       "      <td>-11.169389</td>\n",
       "      <td>-0.361478</td>\n",
       "      <td>2.194909</td>\n",
       "      <td>-0.02%</td>\n",
       "      <td>1.331710</td>\n",
       "      <td>13.616031</td>\n",
       "      <td>2.503163</td>\n",
       "      <td>-21.545901</td>\n",
       "      <td>-31.082999</td>\n",
       "      <td>0.964522</td>\n",
       "      <td>euorpe</td>\n",
       "      <td>-0.340416</td>\n",
       "      <td>-4.412438</td>\n",
       "      <td>May</td>\n",
       "      <td>-0.504193</td>\n",
       "      <td>0.198800</td>\n",
       "      <td>-1.763387</td>\n",
       "      <td>3.767706</td>\n",
       "      <td>-13.312645</td>\n",
       "      <td>-6.421953</td>\n",
       "      <td>-3.401994</td>\n",
       "      <td>-2.892450</td>\n",
       "      <td>-5.740850</td>\n",
       "      <td>7.334497</td>\n",
       "      <td>0.836239</td>\n",
       "      <td>2.748982</td>\n",
       "      <td>7.637753</td>\n",
       "      <td>-15.819318</td>\n",
       "      <td>-7.478481</td>\n",
       "      <td>0.470682</td>\n",
       "      <td>-2.954060</td>\n",
       "      <td>-10.051513</td>\n",
       "      <td>4.656588</td>\n",
       "      <td>-5.186225</td>\n",
       "      <td>-0.757455</td>\n",
       "      <td>-1.769904</td>\n",
       "      <td>-0.532896</td>\n",
       "      <td>wednesday</td>\n",
       "      <td>$-1103.32</td>\n",
       "      <td>61.136654</td>\n",
       "      <td>48.077895</td>\n",
       "      <td>49.476758</td>\n",
       "      <td>1.043061</td>\n",
       "      <td>9.927952</td>\n",
       "      <td>-0.0002</td>\n",
       "      <td>may</td>\n",
       "      <td>wednesday</td>\n",
       "      <td>europe</td>\n",
       "      <td>-1103.32</td>\n",
       "    </tr>\n",
       "  </tbody>\n",
       "</table>\n",
       "</div>"
      ],
      "text/plain": [
       "          x0         x1        x2         x3        x4        x5         x6  \\\n",
       "0  -5.900707   0.469389  4.733068   9.223027  3.170787  0.024669  -2.055880   \n",
       "1  -3.530391   4.229818 -4.619433   2.154913  5.619903 -1.955667   7.713001   \n",
       "2   1.003389  -0.012547  6.250503   3.368675  1.711321  6.192718   4.166159   \n",
       "3 -16.041769  -3.243507 -0.546649 -11.594427  5.111965  0.609785  -1.540136   \n",
       "4  20.498575  10.766191  1.478032  -5.723594 -0.768839 -3.482515 -11.169389   \n",
       "\n",
       "         x7         x8      x9       x10        x11        x12        x13  \\\n",
       "0 -2.045466   3.004170   0.02% -4.685655   5.895884  12.235718 -17.658996   \n",
       "1 -1.279395  14.941269    0.0% -3.103170   0.982095   3.753298   7.537105   \n",
       "2 -0.363055  15.175681  -0.01% -5.424805   7.969230 -16.521783 -10.213318   \n",
       "3 -1.227567 -16.460535   -0.0%  5.624369   9.138195   2.538420  14.740934   \n",
       "4 -0.361478   2.194909  -0.02%  1.331710  13.616031   2.503163 -21.545901   \n",
       "\n",
       "         x14       x15     x16       x17        x18   x19       x20       x21  \\\n",
       "0 -19.322599  1.978951    asia  0.831200   1.980735   Jun -1.347138  0.320392   \n",
       "1   5.942761  0.088104    asia  0.022300  -5.310811   Jun  0.898115 -1.935222   \n",
       "2   9.272947  1.128275    asia  0.725844 -10.495085  July  4.546223  2.019324   \n",
       "3  10.200809 -2.862860    asia -0.358076   2.548242   Aug -1.207699 -1.183008   \n",
       "4 -31.082999  0.964522  euorpe -0.340416  -4.412438   May -0.504193  0.198800   \n",
       "\n",
       "         x22       x23        x24        x25       x26       x27       x28  \\\n",
       "0  -1.177156 -2.704137 -14.103989  -5.655715  5.481989 -1.161496 -3.931582   \n",
       "1  -0.398599 -0.979549 -10.746822   2.507350  1.280838  3.452034  0.624896   \n",
       "2   4.339569 -0.205385 -15.868465  -0.501901  2.002275  0.225154 -0.882617   \n",
       "3 -11.578898 -2.626346  15.628244 -16.420842 -6.891503 -4.772674 -0.172465   \n",
       "4  -1.763387  3.767706 -13.312645  -6.421953 -3.401994 -2.892450 -5.740850   \n",
       "\n",
       "         x29        x30        x31       x32        x33        x34       x35  \\\n",
       "0   7.643024   3.421198   3.762529  8.698367  -6.727415 -10.732802 -0.728671   \n",
       "1   0.426659   2.874107  18.712973  7.312360 -15.853969  -1.455398  0.236479   \n",
       "2 -14.174509 -14.707616  19.006559  2.732869 -35.200541 -21.825129  0.365506   \n",
       "3   2.928158 -11.267913 -20.615756  5.138457  20.096343  11.691170  0.442023   \n",
       "4   7.334497   0.836239   2.748982  7.637753 -15.819318  -7.478481  0.470682   \n",
       "\n",
       "        x36        x37        x38       x39       x40       x41       x42  \\\n",
       "0  0.018602 -32.680226  -0.106695  3.913680 -5.335641 -3.694592 -1.008670   \n",
       "1 -3.252878  -1.289889  14.377643  6.201034 -8.490805  6.414948  5.831287   \n",
       "2 -5.381501  16.668153  -7.932493 -0.397368 -4.172583  0.371862 -7.025987   \n",
       "3 -0.380077  29.446823  10.975024  1.148454  1.666316 -2.920478 -2.135088   \n",
       "4 -2.954060 -10.051513   4.656588 -5.186225 -0.757455 -1.769904 -0.532896   \n",
       "\n",
       "         x43        x44        x45        x46        x47       x48       x49  \\\n",
       "0  wednesday   $-180.16   1.236134   4.462951   4.592803 -0.034478  3.680401   \n",
       "1    tuesday    $432.31  -6.570015  -5.308026  -5.462467 -0.229518 -2.332947   \n",
       "2  wednesday   $-119.17 -66.851394 -11.084558 -11.407072  6.395551  3.545332   \n",
       "3    thurday  $-1309.54   0.442939  11.808383  12.151957 -2.923916 -1.471336   \n",
       "4  wednesday  $-1103.32  61.136654  48.077895  49.476758  1.043061  9.927952   \n",
       "\n",
       "   percentChange month        day  region  dollarAmt  \n",
       "0         0.0002   jun  wednesday    asia    -180.16  \n",
       "1         0.0000   jun    tuesday    asia     432.31  \n",
       "2        -0.0001   jul  wednesday    asia    -119.17  \n",
       "3        -0.0000   aug   thursday    asia   -1309.54  \n",
       "4        -0.0002   may  wednesday  europe   -1103.32  "
      ]
     },
     "execution_count": 107,
     "metadata": {},
     "output_type": "execute_result"
    }
   ],
   "source": [
    "X_combined.head()"
   ]
  },
  {
   "cell_type": "code",
   "execution_count": null,
   "metadata": {
    "collapsed": true
   },
   "outputs": [],
   "source": []
  }
 ],
 "metadata": {
  "anaconda-cloud": {},
  "kernelspec": {
   "display_name": "Python 3",
   "language": "python",
   "name": "python3"
  },
  "language_info": {
   "codemirror_mode": {
    "name": "ipython",
    "version": 3
   },
   "file_extension": ".py",
   "mimetype": "text/x-python",
   "name": "python",
   "nbconvert_exporter": "python",
   "pygments_lexer": "ipython3",
   "version": "3.6.0"
  }
 },
 "nbformat": 4,
 "nbformat_minor": 2
}
