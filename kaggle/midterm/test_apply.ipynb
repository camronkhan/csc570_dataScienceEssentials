{
 "cells": [
  {
   "cell_type": "code",
   "execution_count": 7,
   "metadata": {
    "collapsed": true
   },
   "outputs": [],
   "source": [
    "import math\n",
    "import re\n",
    "import pandas as pd\n",
    "import numpy as np\n",
    "from sklearn.ensemble import RandomForestRegressor\n",
    "from sklearn.metrics import roc_auc_score\n",
    "from sklearn.preprocessing import Imputer\n",
    "from scipy.stats import mode\n",
    "from sklearn.model_selection import cross_val_score\n",
    "from sklearn.model_selection import GridSearchCV\n",
    "import matplotlib.pyplot as plt\n",
    "%matplotlib inline\n",
    "import matplotlib\n",
    "matplotlib.style.use('ggplot')"
   ]
  },
  {
   "cell_type": "code",
   "execution_count": 8,
   "metadata": {
    "collapsed": true
   },
   "outputs": [],
   "source": [
    "df1 = pd.DataFrame({'A': [-1,-1,0,10,12],\n",
    "                   'B': [-20,-10,0,10,20]})\n",
    "\n",
    "df2 = pd.DataFrame({'A': [-1,-1,0,10,12],\n",
    "                    'B': [-20,-10,0,10,20],\n",
    "                    'C': [-4,-2,66,0,1],\n",
    "                    'D': [-20,-1,4,11,20]})"
   ]
  },
  {
   "cell_type": "code",
   "execution_count": 9,
   "metadata": {
    "collapsed": true
   },
   "outputs": [],
   "source": [
    "def doStuff(col):\n",
    "    df1[col > 0] = 666"
   ]
  },
  {
   "cell_type": "code",
   "execution_count": 10,
   "metadata": {
    "collapsed": false
   },
   "outputs": [
    {
     "data": {
      "text/plain": [
       "A    None\n",
       "B    None\n",
       "dtype: object"
      ]
     },
     "execution_count": 10,
     "metadata": {},
     "output_type": "execute_result"
    }
   ],
   "source": [
    "df1.apply(doStuff)"
   ]
  },
  {
   "cell_type": "code",
   "execution_count": 11,
   "metadata": {
    "collapsed": false
   },
   "outputs": [
    {
     "data": {
      "text/html": [
       "<div>\n",
       "<table border=\"1\" class=\"dataframe\">\n",
       "  <thead>\n",
       "    <tr style=\"text-align: right;\">\n",
       "      <th></th>\n",
       "      <th>A</th>\n",
       "      <th>B</th>\n",
       "    </tr>\n",
       "  </thead>\n",
       "  <tbody>\n",
       "    <tr>\n",
       "      <th>0</th>\n",
       "      <td>-1</td>\n",
       "      <td>-20</td>\n",
       "    </tr>\n",
       "    <tr>\n",
       "      <th>1</th>\n",
       "      <td>-1</td>\n",
       "      <td>-10</td>\n",
       "    </tr>\n",
       "    <tr>\n",
       "      <th>2</th>\n",
       "      <td>0</td>\n",
       "      <td>0</td>\n",
       "    </tr>\n",
       "    <tr>\n",
       "      <th>3</th>\n",
       "      <td>666</td>\n",
       "      <td>666</td>\n",
       "    </tr>\n",
       "    <tr>\n",
       "      <th>4</th>\n",
       "      <td>666</td>\n",
       "      <td>666</td>\n",
       "    </tr>\n",
       "  </tbody>\n",
       "</table>\n",
       "</div>"
      ],
      "text/plain": [
       "     A    B\n",
       "0   -1  -20\n",
       "1   -1  -10\n",
       "2    0    0\n",
       "3  666  666\n",
       "4  666  666"
      ]
     },
     "execution_count": 11,
     "metadata": {},
     "output_type": "execute_result"
    }
   ],
   "source": [
    "df1"
   ]
  },
  {
   "cell_type": "code",
   "execution_count": 12,
   "metadata": {
    "collapsed": true
   },
   "outputs": [],
   "source": [
    "def moreStuff(col):\n",
    "    print(df2[col.name].shape)"
   ]
  },
  {
   "cell_type": "code",
   "execution_count": 13,
   "metadata": {
    "collapsed": false
   },
   "outputs": [
    {
     "name": "stdout",
     "output_type": "stream",
     "text": [
      "(5,)\n",
      "(5,)\n"
     ]
    },
    {
     "data": {
      "text/plain": [
       "A    None\n",
       "B    None\n",
       "dtype: object"
      ]
     },
     "execution_count": 13,
     "metadata": {},
     "output_type": "execute_result"
    }
   ],
   "source": [
    "df1.apply(moreStuff)"
   ]
  },
  {
   "cell_type": "code",
   "execution_count": 14,
   "metadata": {
    "collapsed": false
   },
   "outputs": [
    {
     "data": {
      "text/plain": [
       "0    1\n",
       "1    1\n",
       "2    1\n",
       "3    1\n",
       "4    1\n",
       "dtype: int64"
      ]
     },
     "execution_count": 14,
     "metadata": {},
     "output_type": "execute_result"
    }
   ],
   "source": [
    "df2.apply(lambda s: 1 , axis=1)"
   ]
  },
  {
   "cell_type": "code",
   "execution_count": 15,
   "metadata": {
    "collapsed": false
   },
   "outputs": [
    {
     "data": {
      "text/html": [
       "<div>\n",
       "<table border=\"1\" class=\"dataframe\">\n",
       "  <thead>\n",
       "    <tr style=\"text-align: right;\">\n",
       "      <th></th>\n",
       "      <th>A</th>\n",
       "      <th>B</th>\n",
       "      <th>C</th>\n",
       "      <th>D</th>\n",
       "    </tr>\n",
       "  </thead>\n",
       "  <tbody>\n",
       "    <tr>\n",
       "      <th>0</th>\n",
       "      <td>-1</td>\n",
       "      <td>-20</td>\n",
       "      <td>-4</td>\n",
       "      <td>-20</td>\n",
       "    </tr>\n",
       "    <tr>\n",
       "      <th>1</th>\n",
       "      <td>-1</td>\n",
       "      <td>-10</td>\n",
       "      <td>-2</td>\n",
       "      <td>-1</td>\n",
       "    </tr>\n",
       "    <tr>\n",
       "      <th>2</th>\n",
       "      <td>0</td>\n",
       "      <td>0</td>\n",
       "      <td>66</td>\n",
       "      <td>4</td>\n",
       "    </tr>\n",
       "    <tr>\n",
       "      <th>3</th>\n",
       "      <td>10</td>\n",
       "      <td>10</td>\n",
       "      <td>0</td>\n",
       "      <td>11</td>\n",
       "    </tr>\n",
       "    <tr>\n",
       "      <th>4</th>\n",
       "      <td>12</td>\n",
       "      <td>20</td>\n",
       "      <td>1</td>\n",
       "      <td>20</td>\n",
       "    </tr>\n",
       "  </tbody>\n",
       "</table>\n",
       "</div>"
      ],
      "text/plain": [
       "    A   B   C   D\n",
       "0  -1 -20  -4 -20\n",
       "1  -1 -10  -2  -1\n",
       "2   0   0  66   4\n",
       "3  10  10   0  11\n",
       "4  12  20   1  20"
      ]
     },
     "execution_count": 15,
     "metadata": {},
     "output_type": "execute_result"
    }
   ],
   "source": [
    "df2"
   ]
  },
  {
   "cell_type": "code",
   "execution_count": 16,
   "metadata": {
    "collapsed": true
   },
   "outputs": [],
   "source": [
    "cat_cols =['month_december', 'C', 'month_february', 'month_january', 'month_july', 'month_june', 'month_march', 'month_may', 'month_november', 'month_october', 'month_september', 'weekday_friday', 'weekday_monday', 'weekday_thursday', 'weekday_tuesday', 'weekday_wednesday', 'region_america', 'region_asia', 'region_europe']"
   ]
  },
  {
   "cell_type": "code",
   "execution_count": 17,
   "metadata": {
    "collapsed": true
   },
   "outputs": [],
   "source": [
    "def stuff(col):\n",
    "    if col.name in cat_cols:\n",
    "        print('Washoo!')"
   ]
  },
  {
   "cell_type": "code",
   "execution_count": 18,
   "metadata": {
    "collapsed": false
   },
   "outputs": [
    {
     "name": "stdout",
     "output_type": "stream",
     "text": [
      "Washoo!\n"
     ]
    },
    {
     "data": {
      "text/plain": [
       "A    None\n",
       "B    None\n",
       "C    None\n",
       "D    None\n",
       "dtype: object"
      ]
     },
     "execution_count": 18,
     "metadata": {},
     "output_type": "execute_result"
    }
   ],
   "source": [
    "df2.apply(stuff)"
   ]
  },
  {
   "cell_type": "code",
   "execution_count": 20,
   "metadata": {
    "collapsed": false
   },
   "outputs": [
    {
     "data": {
      "text/plain": [
       "(200000, 68)"
      ]
     },
     "execution_count": 20,
     "metadata": {},
     "output_type": "execute_result"
    }
   ],
   "source": [
    "X = pd.read_pickle('../../../aws/2017-03-10_RfrImputation/X_imputed_rfr_cat.pkl')\n",
    "X.shape"
   ]
  },
  {
   "cell_type": "code",
   "execution_count": 22,
   "metadata": {
    "collapsed": false
   },
   "outputs": [
    {
     "data": {
      "text/html": [
       "<div>\n",
       "<table border=\"1\" class=\"dataframe\">\n",
       "  <thead>\n",
       "    <tr style=\"text-align: right;\">\n",
       "      <th></th>\n",
       "      <th>x00</th>\n",
       "      <th>x01</th>\n",
       "      <th>x02</th>\n",
       "      <th>x03</th>\n",
       "      <th>x04</th>\n",
       "      <th>x05</th>\n",
       "      <th>x06</th>\n",
       "      <th>x07</th>\n",
       "      <th>x08</th>\n",
       "      <th>x09</th>\n",
       "      <th>...</th>\n",
       "      <th>month_september</th>\n",
       "      <th>weekday_friday</th>\n",
       "      <th>weekday_monday</th>\n",
       "      <th>weekday_thursday</th>\n",
       "      <th>weekday_tuesday</th>\n",
       "      <th>weekday_wednesday</th>\n",
       "      <th>region_america</th>\n",
       "      <th>region_asia</th>\n",
       "      <th>region_europe</th>\n",
       "      <th>y</th>\n",
       "    </tr>\n",
       "  </thead>\n",
       "  <tbody>\n",
       "    <tr>\n",
       "      <th>count</th>\n",
       "      <td>200000.000000</td>\n",
       "      <td>200000.000000</td>\n",
       "      <td>200000.000000</td>\n",
       "      <td>200000.000000</td>\n",
       "      <td>200000.000000</td>\n",
       "      <td>200000.000000</td>\n",
       "      <td>200000.000000</td>\n",
       "      <td>200000.000000</td>\n",
       "      <td>200000.000000</td>\n",
       "      <td>2.000000e+05</td>\n",
       "      <td>...</td>\n",
       "      <td>200000.000000</td>\n",
       "      <td>200000.000000</td>\n",
       "      <td>200000.000000</td>\n",
       "      <td>200000.000000</td>\n",
       "      <td>200000.000000</td>\n",
       "      <td>200000.00000</td>\n",
       "      <td>200000.000000</td>\n",
       "      <td>200000.000000</td>\n",
       "      <td>200000.000000</td>\n",
       "      <td>160000.000000</td>\n",
       "    </tr>\n",
       "    <tr>\n",
       "      <th>mean</th>\n",
       "      <td>1.565302</td>\n",
       "      <td>2.019080</td>\n",
       "      <td>0.004496</td>\n",
       "      <td>2.493300</td>\n",
       "      <td>0.003350</td>\n",
       "      <td>0.104413</td>\n",
       "      <td>0.014742</td>\n",
       "      <td>-0.000682</td>\n",
       "      <td>0.011446</td>\n",
       "      <td>5.250000e-08</td>\n",
       "      <td>...</td>\n",
       "      <td>0.047040</td>\n",
       "      <td>0.003485</td>\n",
       "      <td>0.002875</td>\n",
       "      <td>0.199935</td>\n",
       "      <td>0.162025</td>\n",
       "      <td>0.63168</td>\n",
       "      <td>0.076165</td>\n",
       "      <td>0.865475</td>\n",
       "      <td>0.058360</td>\n",
       "      <td>0.400550</td>\n",
       "    </tr>\n",
       "    <tr>\n",
       "      <th>std</th>\n",
       "      <td>16.383884</td>\n",
       "      <td>7.456900</td>\n",
       "      <td>6.800041</td>\n",
       "      <td>9.617885</td>\n",
       "      <td>6.285238</td>\n",
       "      <td>2.173478</td>\n",
       "      <td>7.751294</td>\n",
       "      <td>2.416423</td>\n",
       "      <td>9.160411</td>\n",
       "      <td>1.040942e-04</td>\n",
       "      <td>...</td>\n",
       "      <td>0.211725</td>\n",
       "      <td>0.058931</td>\n",
       "      <td>0.053542</td>\n",
       "      <td>0.399952</td>\n",
       "      <td>0.368475</td>\n",
       "      <td>0.48235</td>\n",
       "      <td>0.265263</td>\n",
       "      <td>0.341216</td>\n",
       "      <td>0.234424</td>\n",
       "      <td>0.490011</td>\n",
       "    </tr>\n",
       "    <tr>\n",
       "      <th>min</th>\n",
       "      <td>-68.981217</td>\n",
       "      <td>-31.258618</td>\n",
       "      <td>-30.654468</td>\n",
       "      <td>-36.350492</td>\n",
       "      <td>-27.575136</td>\n",
       "      <td>-13.677304</td>\n",
       "      <td>-32.781282</td>\n",
       "      <td>-11.615171</td>\n",
       "      <td>-38.961689</td>\n",
       "      <td>-5.000000e-04</td>\n",
       "      <td>...</td>\n",
       "      <td>0.000000</td>\n",
       "      <td>0.000000</td>\n",
       "      <td>0.000000</td>\n",
       "      <td>0.000000</td>\n",
       "      <td>0.000000</td>\n",
       "      <td>0.00000</td>\n",
       "      <td>0.000000</td>\n",
       "      <td>0.000000</td>\n",
       "      <td>0.000000</td>\n",
       "      <td>0.000000</td>\n",
       "    </tr>\n",
       "    <tr>\n",
       "      <th>25%</th>\n",
       "      <td>-9.396778</td>\n",
       "      <td>-2.883709</td>\n",
       "      <td>-4.597682</td>\n",
       "      <td>-3.998651</td>\n",
       "      <td>-4.227064</td>\n",
       "      <td>-1.370306</td>\n",
       "      <td>-5.201461</td>\n",
       "      <td>-1.639423</td>\n",
       "      <td>-6.142456</td>\n",
       "      <td>-1.000000e-04</td>\n",
       "      <td>...</td>\n",
       "      <td>0.000000</td>\n",
       "      <td>0.000000</td>\n",
       "      <td>0.000000</td>\n",
       "      <td>0.000000</td>\n",
       "      <td>0.000000</td>\n",
       "      <td>0.00000</td>\n",
       "      <td>0.000000</td>\n",
       "      <td>1.000000</td>\n",
       "      <td>0.000000</td>\n",
       "      <td>0.000000</td>\n",
       "    </tr>\n",
       "    <tr>\n",
       "      <th>50%</th>\n",
       "      <td>1.865785</td>\n",
       "      <td>2.205135</td>\n",
       "      <td>0.000046</td>\n",
       "      <td>2.610479</td>\n",
       "      <td>-0.002882</td>\n",
       "      <td>0.061461</td>\n",
       "      <td>-0.021072</td>\n",
       "      <td>-0.001341</td>\n",
       "      <td>0.256766</td>\n",
       "      <td>0.000000e+00</td>\n",
       "      <td>...</td>\n",
       "      <td>0.000000</td>\n",
       "      <td>0.000000</td>\n",
       "      <td>0.000000</td>\n",
       "      <td>0.000000</td>\n",
       "      <td>0.000000</td>\n",
       "      <td>1.00000</td>\n",
       "      <td>0.000000</td>\n",
       "      <td>1.000000</td>\n",
       "      <td>0.000000</td>\n",
       "      <td>0.000000</td>\n",
       "    </tr>\n",
       "    <tr>\n",
       "      <th>75%</th>\n",
       "      <td>12.805386</td>\n",
       "      <td>6.998914</td>\n",
       "      <td>4.608573</td>\n",
       "      <td>9.036077</td>\n",
       "      <td>4.254600</td>\n",
       "      <td>1.554909</td>\n",
       "      <td>5.258726</td>\n",
       "      <td>1.626915</td>\n",
       "      <td>6.266736</td>\n",
       "      <td>1.000000e-04</td>\n",
       "      <td>...</td>\n",
       "      <td>0.000000</td>\n",
       "      <td>0.000000</td>\n",
       "      <td>0.000000</td>\n",
       "      <td>0.000000</td>\n",
       "      <td>0.000000</td>\n",
       "      <td>1.00000</td>\n",
       "      <td>0.000000</td>\n",
       "      <td>1.000000</td>\n",
       "      <td>0.000000</td>\n",
       "      <td>1.000000</td>\n",
       "    </tr>\n",
       "    <tr>\n",
       "      <th>max</th>\n",
       "      <td>70.882303</td>\n",
       "      <td>39.193550</td>\n",
       "      <td>29.934983</td>\n",
       "      <td>47.313496</td>\n",
       "      <td>28.571894</td>\n",
       "      <td>10.006106</td>\n",
       "      <td>34.460095</td>\n",
       "      <td>10.794778</td>\n",
       "      <td>39.216249</td>\n",
       "      <td>5.000000e-04</td>\n",
       "      <td>...</td>\n",
       "      <td>1.000000</td>\n",
       "      <td>1.000000</td>\n",
       "      <td>1.000000</td>\n",
       "      <td>1.000000</td>\n",
       "      <td>1.000000</td>\n",
       "      <td>1.00000</td>\n",
       "      <td>1.000000</td>\n",
       "      <td>1.000000</td>\n",
       "      <td>1.000000</td>\n",
       "      <td>1.000000</td>\n",
       "    </tr>\n",
       "  </tbody>\n",
       "</table>\n",
       "<p>8 rows × 68 columns</p>\n",
       "</div>"
      ],
      "text/plain": [
       "                 x00            x01            x02            x03  \\\n",
       "count  200000.000000  200000.000000  200000.000000  200000.000000   \n",
       "mean        1.565302       2.019080       0.004496       2.493300   \n",
       "std        16.383884       7.456900       6.800041       9.617885   \n",
       "min       -68.981217     -31.258618     -30.654468     -36.350492   \n",
       "25%        -9.396778      -2.883709      -4.597682      -3.998651   \n",
       "50%         1.865785       2.205135       0.000046       2.610479   \n",
       "75%        12.805386       6.998914       4.608573       9.036077   \n",
       "max        70.882303      39.193550      29.934983      47.313496   \n",
       "\n",
       "                 x04            x05            x06            x07  \\\n",
       "count  200000.000000  200000.000000  200000.000000  200000.000000   \n",
       "mean        0.003350       0.104413       0.014742      -0.000682   \n",
       "std         6.285238       2.173478       7.751294       2.416423   \n",
       "min       -27.575136     -13.677304     -32.781282     -11.615171   \n",
       "25%        -4.227064      -1.370306      -5.201461      -1.639423   \n",
       "50%        -0.002882       0.061461      -0.021072      -0.001341   \n",
       "75%         4.254600       1.554909       5.258726       1.626915   \n",
       "max        28.571894      10.006106      34.460095      10.794778   \n",
       "\n",
       "                 x08           x09      ...        month_september  \\\n",
       "count  200000.000000  2.000000e+05      ...          200000.000000   \n",
       "mean        0.011446  5.250000e-08      ...               0.047040   \n",
       "std         9.160411  1.040942e-04      ...               0.211725   \n",
       "min       -38.961689 -5.000000e-04      ...               0.000000   \n",
       "25%        -6.142456 -1.000000e-04      ...               0.000000   \n",
       "50%         0.256766  0.000000e+00      ...               0.000000   \n",
       "75%         6.266736  1.000000e-04      ...               0.000000   \n",
       "max        39.216249  5.000000e-04      ...               1.000000   \n",
       "\n",
       "       weekday_friday  weekday_monday  weekday_thursday  weekday_tuesday  \\\n",
       "count   200000.000000   200000.000000     200000.000000    200000.000000   \n",
       "mean         0.003485        0.002875          0.199935         0.162025   \n",
       "std          0.058931        0.053542          0.399952         0.368475   \n",
       "min          0.000000        0.000000          0.000000         0.000000   \n",
       "25%          0.000000        0.000000          0.000000         0.000000   \n",
       "50%          0.000000        0.000000          0.000000         0.000000   \n",
       "75%          0.000000        0.000000          0.000000         0.000000   \n",
       "max          1.000000        1.000000          1.000000         1.000000   \n",
       "\n",
       "       weekday_wednesday  region_america    region_asia  region_europe  \\\n",
       "count       200000.00000   200000.000000  200000.000000  200000.000000   \n",
       "mean             0.63168        0.076165       0.865475       0.058360   \n",
       "std              0.48235        0.265263       0.341216       0.234424   \n",
       "min              0.00000        0.000000       0.000000       0.000000   \n",
       "25%              0.00000        0.000000       1.000000       0.000000   \n",
       "50%              1.00000        0.000000       1.000000       0.000000   \n",
       "75%              1.00000        0.000000       1.000000       0.000000   \n",
       "max              1.00000        1.000000       1.000000       1.000000   \n",
       "\n",
       "                   y  \n",
       "count  160000.000000  \n",
       "mean        0.400550  \n",
       "std         0.490011  \n",
       "min         0.000000  \n",
       "25%         0.000000  \n",
       "50%         0.000000  \n",
       "75%         1.000000  \n",
       "max         1.000000  \n",
       "\n",
       "[8 rows x 68 columns]"
      ]
     },
     "execution_count": 22,
     "metadata": {},
     "output_type": "execute_result"
    }
   ],
   "source": [
    "X.describe()"
   ]
  },
  {
   "cell_type": "code",
   "execution_count": null,
   "metadata": {
    "collapsed": true
   },
   "outputs": [],
   "source": []
  }
 ],
 "metadata": {
  "kernelspec": {
   "display_name": "Python 3",
   "language": "python",
   "name": "python3"
  },
  "language_info": {
   "codemirror_mode": {
    "name": "ipython",
    "version": 3
   },
   "file_extension": ".py",
   "mimetype": "text/x-python",
   "name": "python",
   "nbconvert_exporter": "python",
   "pygments_lexer": "ipython3",
   "version": "3.6.0"
  }
 },
 "nbformat": 4,
 "nbformat_minor": 2
}
