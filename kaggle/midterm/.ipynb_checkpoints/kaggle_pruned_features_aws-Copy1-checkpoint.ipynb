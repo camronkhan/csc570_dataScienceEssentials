{
 "cells": [
  {
   "cell_type": "markdown",
   "metadata": {},
   "source": [
    "### The Goal"
   ]
  },
  {
   "cell_type": "markdown",
   "metadata": {},
   "source": [
    "**Creating a Customer \"Churn\" Model**\n",
    "\n",
    "Imagine you work for GreenPlate, the west coast's fastest growing new subscription box service. GreenPlate's customers get a monthly box, full of healthy and sometimes delicious snacks. GreenPlate wants to know which customers are most likely to cancel their subscription service so that they can use incentives to retain those customers.\n",
    "\n",
    "You need to use the training dataset given to create a model that predicts if the customers in the testing dataset will cancel their subscription to GreenPlate."
   ]
  },
  {
   "cell_type": "markdown",
   "metadata": {},
   "source": [
    "### Imports"
   ]
  },
  {
   "cell_type": "code",
   "execution_count": 26,
   "metadata": {
    "collapsed": false
   },
   "outputs": [],
   "source": [
    "import math\n",
    "import re\n",
    "import pandas as pd\n",
    "import numpy as np\n",
    "from sklearn.ensemble import RandomForestClassifier\n",
    "from sklearn.metrics import roc_auc_score\n",
    "from sklearn.preprocessing import Imputer\n",
    "from scipy.stats import mode\n",
    "from sklearn.model_selection import cross_val_score\n",
    "from sklearn.model_selection import GridSearchCV\n",
    "%matplotlib inline"
   ]
  },
  {
   "cell_type": "code",
   "execution_count": 21,
   "metadata": {
    "collapsed": false
   },
   "outputs": [],
   "source": [
    "pd.set_option(\"display.max_columns\", 100)"
   ]
  },
  {
   "cell_type": "code",
   "execution_count": 22,
   "metadata": {
    "collapsed": false
   },
   "outputs": [],
   "source": [
    "TRAIN_DATA = pd.read_csv(\"../../../data/kaggle_data/customer_retention/midterm_train.csv\")\n",
    "TEST_DATA = pd.read_csv(\"../../../data/kaggle_data/customer_retention/midterm_test.csv\")\n",
    "X = TRAIN_DATA\n",
    "X_combined = pd.concat([X, TEST_DATA])"
   ]
  },
  {
   "cell_type": "markdown",
   "metadata": {},
   "source": [
    "### EDA"
   ]
  },
  {
   "cell_type": "code",
   "execution_count": 23,
   "metadata": {
    "collapsed": false
   },
   "outputs": [
    {
     "data": {
      "text/html": [
       "<div>\n",
       "<table border=\"1\" class=\"dataframe\">\n",
       "  <thead>\n",
       "    <tr style=\"text-align: right;\">\n",
       "      <th></th>\n",
       "      <th>x00</th>\n",
       "      <th>x01</th>\n",
       "      <th>x02</th>\n",
       "      <th>x03</th>\n",
       "      <th>x04</th>\n",
       "      <th>x05</th>\n",
       "      <th>x06</th>\n",
       "      <th>x07</th>\n",
       "      <th>x08</th>\n",
       "      <th>x09</th>\n",
       "      <th>x10</th>\n",
       "      <th>x11</th>\n",
       "      <th>x12</th>\n",
       "      <th>x13</th>\n",
       "      <th>x14</th>\n",
       "      <th>x15</th>\n",
       "      <th>x16</th>\n",
       "      <th>x17</th>\n",
       "      <th>x18</th>\n",
       "      <th>x19</th>\n",
       "      <th>x20</th>\n",
       "      <th>x21</th>\n",
       "      <th>x22</th>\n",
       "      <th>x23</th>\n",
       "      <th>x24</th>\n",
       "      <th>x25</th>\n",
       "      <th>x26</th>\n",
       "      <th>x27</th>\n",
       "      <th>x28</th>\n",
       "      <th>x29</th>\n",
       "      <th>x30</th>\n",
       "      <th>x31</th>\n",
       "      <th>x32</th>\n",
       "      <th>x33</th>\n",
       "      <th>x34</th>\n",
       "      <th>x35</th>\n",
       "      <th>x36</th>\n",
       "      <th>x37</th>\n",
       "      <th>x38</th>\n",
       "      <th>x39</th>\n",
       "      <th>x40</th>\n",
       "      <th>x41</th>\n",
       "      <th>x42</th>\n",
       "      <th>x43</th>\n",
       "      <th>x44</th>\n",
       "      <th>x45</th>\n",
       "      <th>x46</th>\n",
       "      <th>x47</th>\n",
       "      <th>x48</th>\n",
       "      <th>x49</th>\n",
       "      <th>y</th>\n",
       "    </tr>\n",
       "  </thead>\n",
       "  <tbody>\n",
       "    <tr>\n",
       "      <th>0</th>\n",
       "      <td>-5.900707</td>\n",
       "      <td>0.469389</td>\n",
       "      <td>4.733068</td>\n",
       "      <td>9.223027</td>\n",
       "      <td>3.170787</td>\n",
       "      <td>0.024669</td>\n",
       "      <td>-2.055880</td>\n",
       "      <td>-2.045466</td>\n",
       "      <td>3.004170</td>\n",
       "      <td>0.02%</td>\n",
       "      <td>-4.685655</td>\n",
       "      <td>5.895884</td>\n",
       "      <td>12.235718</td>\n",
       "      <td>-17.658996</td>\n",
       "      <td>-19.322599</td>\n",
       "      <td>1.978951</td>\n",
       "      <td>asia</td>\n",
       "      <td>0.831200</td>\n",
       "      <td>1.980735</td>\n",
       "      <td>Jun</td>\n",
       "      <td>-1.347138</td>\n",
       "      <td>0.320392</td>\n",
       "      <td>-1.177156</td>\n",
       "      <td>-2.704137</td>\n",
       "      <td>-14.103989</td>\n",
       "      <td>-5.655715</td>\n",
       "      <td>5.481989</td>\n",
       "      <td>-1.161496</td>\n",
       "      <td>-3.931582</td>\n",
       "      <td>7.643024</td>\n",
       "      <td>3.421198</td>\n",
       "      <td>3.762529</td>\n",
       "      <td>8.698367</td>\n",
       "      <td>-6.727415</td>\n",
       "      <td>-10.732802</td>\n",
       "      <td>-0.728671</td>\n",
       "      <td>0.018602</td>\n",
       "      <td>-32.680226</td>\n",
       "      <td>-0.106695</td>\n",
       "      <td>3.913680</td>\n",
       "      <td>-5.335641</td>\n",
       "      <td>-3.694592</td>\n",
       "      <td>-1.008670</td>\n",
       "      <td>wednesday</td>\n",
       "      <td>($180.16)</td>\n",
       "      <td>1.236134</td>\n",
       "      <td>4.462951</td>\n",
       "      <td>4.592803</td>\n",
       "      <td>-0.034478</td>\n",
       "      <td>3.680401</td>\n",
       "      <td>0.0</td>\n",
       "    </tr>\n",
       "    <tr>\n",
       "      <th>1</th>\n",
       "      <td>-3.530391</td>\n",
       "      <td>4.229818</td>\n",
       "      <td>-4.619433</td>\n",
       "      <td>2.154913</td>\n",
       "      <td>5.619903</td>\n",
       "      <td>-1.955667</td>\n",
       "      <td>7.713001</td>\n",
       "      <td>-1.279395</td>\n",
       "      <td>14.941269</td>\n",
       "      <td>0.00%</td>\n",
       "      <td>-3.103170</td>\n",
       "      <td>0.982095</td>\n",
       "      <td>3.753298</td>\n",
       "      <td>7.537105</td>\n",
       "      <td>5.942761</td>\n",
       "      <td>0.088104</td>\n",
       "      <td>asia</td>\n",
       "      <td>0.022300</td>\n",
       "      <td>-5.310811</td>\n",
       "      <td>Jun</td>\n",
       "      <td>0.898115</td>\n",
       "      <td>-1.935222</td>\n",
       "      <td>-0.398599</td>\n",
       "      <td>-0.979549</td>\n",
       "      <td>-10.746822</td>\n",
       "      <td>2.507350</td>\n",
       "      <td>1.280838</td>\n",
       "      <td>3.452034</td>\n",
       "      <td>0.624896</td>\n",
       "      <td>0.426659</td>\n",
       "      <td>2.874107</td>\n",
       "      <td>18.712973</td>\n",
       "      <td>7.312360</td>\n",
       "      <td>-15.853969</td>\n",
       "      <td>-1.455398</td>\n",
       "      <td>0.236479</td>\n",
       "      <td>-3.252878</td>\n",
       "      <td>-1.289889</td>\n",
       "      <td>14.377643</td>\n",
       "      <td>6.201034</td>\n",
       "      <td>-8.490805</td>\n",
       "      <td>6.414948</td>\n",
       "      <td>5.831287</td>\n",
       "      <td>tuesday</td>\n",
       "      <td>$432.31</td>\n",
       "      <td>-6.570015</td>\n",
       "      <td>-5.308026</td>\n",
       "      <td>-5.462467</td>\n",
       "      <td>-0.229518</td>\n",
       "      <td>-2.332947</td>\n",
       "      <td>1.0</td>\n",
       "    </tr>\n",
       "    <tr>\n",
       "      <th>2</th>\n",
       "      <td>1.003389</td>\n",
       "      <td>-0.012547</td>\n",
       "      <td>6.250503</td>\n",
       "      <td>3.368675</td>\n",
       "      <td>1.711321</td>\n",
       "      <td>6.192718</td>\n",
       "      <td>4.166159</td>\n",
       "      <td>-0.363055</td>\n",
       "      <td>15.175681</td>\n",
       "      <td>-0.01%</td>\n",
       "      <td>-5.424805</td>\n",
       "      <td>7.969230</td>\n",
       "      <td>-16.521783</td>\n",
       "      <td>-10.213318</td>\n",
       "      <td>9.272947</td>\n",
       "      <td>1.128275</td>\n",
       "      <td>asia</td>\n",
       "      <td>0.725844</td>\n",
       "      <td>-10.495085</td>\n",
       "      <td>July</td>\n",
       "      <td>4.546223</td>\n",
       "      <td>2.019324</td>\n",
       "      <td>4.339569</td>\n",
       "      <td>-0.205385</td>\n",
       "      <td>-15.868465</td>\n",
       "      <td>-0.501901</td>\n",
       "      <td>2.002275</td>\n",
       "      <td>0.225154</td>\n",
       "      <td>-0.882617</td>\n",
       "      <td>-14.174509</td>\n",
       "      <td>-14.707616</td>\n",
       "      <td>19.006559</td>\n",
       "      <td>2.732869</td>\n",
       "      <td>-35.200541</td>\n",
       "      <td>-21.825129</td>\n",
       "      <td>0.365506</td>\n",
       "      <td>-5.381501</td>\n",
       "      <td>16.668153</td>\n",
       "      <td>-7.932493</td>\n",
       "      <td>-0.397368</td>\n",
       "      <td>-4.172583</td>\n",
       "      <td>0.371862</td>\n",
       "      <td>-7.025987</td>\n",
       "      <td>wednesday</td>\n",
       "      <td>($119.17)</td>\n",
       "      <td>-66.851394</td>\n",
       "      <td>-11.084558</td>\n",
       "      <td>-11.407072</td>\n",
       "      <td>6.395551</td>\n",
       "      <td>3.545332</td>\n",
       "      <td>0.0</td>\n",
       "    </tr>\n",
       "    <tr>\n",
       "      <th>3</th>\n",
       "      <td>-16.041769</td>\n",
       "      <td>-3.243507</td>\n",
       "      <td>-0.546649</td>\n",
       "      <td>-11.594427</td>\n",
       "      <td>5.111965</td>\n",
       "      <td>0.609785</td>\n",
       "      <td>-1.540136</td>\n",
       "      <td>-1.227567</td>\n",
       "      <td>-16.460535</td>\n",
       "      <td>0.00%</td>\n",
       "      <td>5.624369</td>\n",
       "      <td>9.138195</td>\n",
       "      <td>2.538420</td>\n",
       "      <td>14.740934</td>\n",
       "      <td>10.200809</td>\n",
       "      <td>-2.862860</td>\n",
       "      <td>asia</td>\n",
       "      <td>-0.358076</td>\n",
       "      <td>2.548242</td>\n",
       "      <td>Aug</td>\n",
       "      <td>-1.207699</td>\n",
       "      <td>-1.183008</td>\n",
       "      <td>-11.578898</td>\n",
       "      <td>-2.626346</td>\n",
       "      <td>15.628244</td>\n",
       "      <td>-16.420842</td>\n",
       "      <td>-6.891503</td>\n",
       "      <td>-4.772674</td>\n",
       "      <td>-0.172465</td>\n",
       "      <td>2.928158</td>\n",
       "      <td>-11.267913</td>\n",
       "      <td>-20.615756</td>\n",
       "      <td>5.138457</td>\n",
       "      <td>20.096343</td>\n",
       "      <td>11.691170</td>\n",
       "      <td>0.442023</td>\n",
       "      <td>-0.380077</td>\n",
       "      <td>29.446823</td>\n",
       "      <td>10.975024</td>\n",
       "      <td>1.148454</td>\n",
       "      <td>1.666316</td>\n",
       "      <td>-2.920478</td>\n",
       "      <td>-2.135088</td>\n",
       "      <td>thurday</td>\n",
       "      <td>($1,309.54)</td>\n",
       "      <td>0.442939</td>\n",
       "      <td>11.808383</td>\n",
       "      <td>12.151957</td>\n",
       "      <td>-2.923916</td>\n",
       "      <td>-1.471336</td>\n",
       "      <td>0.0</td>\n",
       "    </tr>\n",
       "    <tr>\n",
       "      <th>4</th>\n",
       "      <td>20.498575</td>\n",
       "      <td>10.766191</td>\n",
       "      <td>1.478032</td>\n",
       "      <td>-5.723594</td>\n",
       "      <td>-0.768839</td>\n",
       "      <td>-3.482515</td>\n",
       "      <td>-11.169389</td>\n",
       "      <td>-0.361478</td>\n",
       "      <td>2.194909</td>\n",
       "      <td>-0.02%</td>\n",
       "      <td>1.331710</td>\n",
       "      <td>13.616031</td>\n",
       "      <td>2.503163</td>\n",
       "      <td>-21.545901</td>\n",
       "      <td>-31.082999</td>\n",
       "      <td>0.964522</td>\n",
       "      <td>euorpe</td>\n",
       "      <td>-0.340416</td>\n",
       "      <td>-4.412438</td>\n",
       "      <td>May</td>\n",
       "      <td>-0.504193</td>\n",
       "      <td>0.198800</td>\n",
       "      <td>-1.763387</td>\n",
       "      <td>3.767706</td>\n",
       "      <td>-13.312645</td>\n",
       "      <td>-6.421953</td>\n",
       "      <td>-3.401994</td>\n",
       "      <td>-2.892450</td>\n",
       "      <td>-5.740850</td>\n",
       "      <td>7.334497</td>\n",
       "      <td>0.836239</td>\n",
       "      <td>2.748982</td>\n",
       "      <td>7.637753</td>\n",
       "      <td>-15.819318</td>\n",
       "      <td>-7.478481</td>\n",
       "      <td>0.470682</td>\n",
       "      <td>-2.954060</td>\n",
       "      <td>-10.051513</td>\n",
       "      <td>4.656588</td>\n",
       "      <td>-5.186225</td>\n",
       "      <td>-0.757455</td>\n",
       "      <td>-1.769904</td>\n",
       "      <td>-0.532896</td>\n",
       "      <td>wednesday</td>\n",
       "      <td>($1,103.32)</td>\n",
       "      <td>61.136654</td>\n",
       "      <td>48.077895</td>\n",
       "      <td>49.476758</td>\n",
       "      <td>1.043061</td>\n",
       "      <td>9.927952</td>\n",
       "      <td>1.0</td>\n",
       "    </tr>\n",
       "  </tbody>\n",
       "</table>\n",
       "</div>"
      ],
      "text/plain": [
       "         x00        x01       x02        x03       x04       x05        x06  \\\n",
       "0  -5.900707   0.469389  4.733068   9.223027  3.170787  0.024669  -2.055880   \n",
       "1  -3.530391   4.229818 -4.619433   2.154913  5.619903 -1.955667   7.713001   \n",
       "2   1.003389  -0.012547  6.250503   3.368675  1.711321  6.192718   4.166159   \n",
       "3 -16.041769  -3.243507 -0.546649 -11.594427  5.111965  0.609785  -1.540136   \n",
       "4  20.498575  10.766191  1.478032  -5.723594 -0.768839 -3.482515 -11.169389   \n",
       "\n",
       "        x07        x08     x09       x10        x11        x12        x13  \\\n",
       "0 -2.045466   3.004170   0.02% -4.685655   5.895884  12.235718 -17.658996   \n",
       "1 -1.279395  14.941269   0.00% -3.103170   0.982095   3.753298   7.537105   \n",
       "2 -0.363055  15.175681  -0.01% -5.424805   7.969230 -16.521783 -10.213318   \n",
       "3 -1.227567 -16.460535   0.00%  5.624369   9.138195   2.538420  14.740934   \n",
       "4 -0.361478   2.194909  -0.02%  1.331710  13.616031   2.503163 -21.545901   \n",
       "\n",
       "         x14       x15     x16       x17        x18   x19       x20       x21  \\\n",
       "0 -19.322599  1.978951    asia  0.831200   1.980735   Jun -1.347138  0.320392   \n",
       "1   5.942761  0.088104    asia  0.022300  -5.310811   Jun  0.898115 -1.935222   \n",
       "2   9.272947  1.128275    asia  0.725844 -10.495085  July  4.546223  2.019324   \n",
       "3  10.200809 -2.862860    asia -0.358076   2.548242   Aug -1.207699 -1.183008   \n",
       "4 -31.082999  0.964522  euorpe -0.340416  -4.412438   May -0.504193  0.198800   \n",
       "\n",
       "         x22       x23        x24        x25       x26       x27       x28  \\\n",
       "0  -1.177156 -2.704137 -14.103989  -5.655715  5.481989 -1.161496 -3.931582   \n",
       "1  -0.398599 -0.979549 -10.746822   2.507350  1.280838  3.452034  0.624896   \n",
       "2   4.339569 -0.205385 -15.868465  -0.501901  2.002275  0.225154 -0.882617   \n",
       "3 -11.578898 -2.626346  15.628244 -16.420842 -6.891503 -4.772674 -0.172465   \n",
       "4  -1.763387  3.767706 -13.312645  -6.421953 -3.401994 -2.892450 -5.740850   \n",
       "\n",
       "         x29        x30        x31       x32        x33        x34       x35  \\\n",
       "0   7.643024   3.421198   3.762529  8.698367  -6.727415 -10.732802 -0.728671   \n",
       "1   0.426659   2.874107  18.712973  7.312360 -15.853969  -1.455398  0.236479   \n",
       "2 -14.174509 -14.707616  19.006559  2.732869 -35.200541 -21.825129  0.365506   \n",
       "3   2.928158 -11.267913 -20.615756  5.138457  20.096343  11.691170  0.442023   \n",
       "4   7.334497   0.836239   2.748982  7.637753 -15.819318  -7.478481  0.470682   \n",
       "\n",
       "        x36        x37        x38       x39       x40       x41       x42  \\\n",
       "0  0.018602 -32.680226  -0.106695  3.913680 -5.335641 -3.694592 -1.008670   \n",
       "1 -3.252878  -1.289889  14.377643  6.201034 -8.490805  6.414948  5.831287   \n",
       "2 -5.381501  16.668153  -7.932493 -0.397368 -4.172583  0.371862 -7.025987   \n",
       "3 -0.380077  29.446823  10.975024  1.148454  1.666316 -2.920478 -2.135088   \n",
       "4 -2.954060 -10.051513   4.656588 -5.186225 -0.757455 -1.769904 -0.532896   \n",
       "\n",
       "         x43          x44        x45        x46        x47       x48  \\\n",
       "0  wednesday    ($180.16)   1.236134   4.462951   4.592803 -0.034478   \n",
       "1    tuesday     $432.31   -6.570015  -5.308026  -5.462467 -0.229518   \n",
       "2  wednesday    ($119.17) -66.851394 -11.084558 -11.407072  6.395551   \n",
       "3    thurday  ($1,309.54)   0.442939  11.808383  12.151957 -2.923916   \n",
       "4  wednesday  ($1,103.32)  61.136654  48.077895  49.476758  1.043061   \n",
       "\n",
       "        x49    y  \n",
       "0  3.680401  0.0  \n",
       "1 -2.332947  1.0  \n",
       "2  3.545332  0.0  \n",
       "3 -1.471336  0.0  \n",
       "4  9.927952  1.0  "
      ]
     },
     "execution_count": 23,
     "metadata": {},
     "output_type": "execute_result"
    }
   ],
   "source": [
    "X_combined.head()"
   ]
  },
  {
   "cell_type": "code",
   "execution_count": 24,
   "metadata": {
    "collapsed": false
   },
   "outputs": [
    {
     "data": {
      "text/html": [
       "<div>\n",
       "<table border=\"1\" class=\"dataframe\">\n",
       "  <thead>\n",
       "    <tr style=\"text-align: right;\">\n",
       "      <th></th>\n",
       "      <th>x00</th>\n",
       "      <th>x01</th>\n",
       "      <th>x02</th>\n",
       "      <th>x03</th>\n",
       "      <th>x04</th>\n",
       "      <th>x05</th>\n",
       "      <th>x06</th>\n",
       "      <th>x07</th>\n",
       "      <th>x08</th>\n",
       "      <th>x09</th>\n",
       "      <th>x10</th>\n",
       "      <th>x11</th>\n",
       "      <th>x12</th>\n",
       "      <th>x13</th>\n",
       "      <th>x14</th>\n",
       "      <th>x15</th>\n",
       "      <th>x16</th>\n",
       "      <th>x17</th>\n",
       "      <th>x18</th>\n",
       "      <th>x19</th>\n",
       "      <th>x20</th>\n",
       "      <th>x21</th>\n",
       "      <th>x22</th>\n",
       "      <th>x23</th>\n",
       "      <th>x24</th>\n",
       "      <th>x25</th>\n",
       "      <th>x26</th>\n",
       "      <th>x27</th>\n",
       "      <th>x28</th>\n",
       "      <th>x29</th>\n",
       "      <th>x30</th>\n",
       "      <th>x31</th>\n",
       "      <th>x32</th>\n",
       "      <th>x33</th>\n",
       "      <th>x34</th>\n",
       "      <th>x35</th>\n",
       "      <th>x36</th>\n",
       "      <th>x37</th>\n",
       "      <th>x38</th>\n",
       "      <th>x39</th>\n",
       "      <th>x40</th>\n",
       "      <th>x41</th>\n",
       "      <th>x42</th>\n",
       "      <th>x43</th>\n",
       "      <th>x44</th>\n",
       "      <th>x45</th>\n",
       "      <th>x46</th>\n",
       "      <th>x47</th>\n",
       "      <th>x48</th>\n",
       "      <th>x49</th>\n",
       "      <th>y</th>\n",
       "    </tr>\n",
       "  </thead>\n",
       "  <tbody>\n",
       "    <tr>\n",
       "      <th>39995</th>\n",
       "      <td>0.608853</td>\n",
       "      <td>-0.213463</td>\n",
       "      <td>-3.538605</td>\n",
       "      <td>10.957032</td>\n",
       "      <td>5.586005</td>\n",
       "      <td>-0.238700</td>\n",
       "      <td>16.942579</td>\n",
       "      <td>1.459900</td>\n",
       "      <td>-2.747632</td>\n",
       "      <td>-0.01%</td>\n",
       "      <td>-0.070824</td>\n",
       "      <td>-8.495781</td>\n",
       "      <td>0.955410</td>\n",
       "      <td>-1.825368</td>\n",
       "      <td>8.464736</td>\n",
       "      <td>0.988800</td>\n",
       "      <td>asia</td>\n",
       "      <td>-0.121165</td>\n",
       "      <td>-7.987809</td>\n",
       "      <td>Apr</td>\n",
       "      <td>9.212888</td>\n",
       "      <td>0.855352</td>\n",
       "      <td>-0.310800</td>\n",
       "      <td>-3.211206</td>\n",
       "      <td>-6.657321</td>\n",
       "      <td>-3.572848</td>\n",
       "      <td>6.512648</td>\n",
       "      <td>6.255875</td>\n",
       "      <td>1.169474</td>\n",
       "      <td>7.945029</td>\n",
       "      <td>4.270322</td>\n",
       "      <td>-3.441232</td>\n",
       "      <td>11.050103</td>\n",
       "      <td>-2.555568</td>\n",
       "      <td>2.177949</td>\n",
       "      <td>-0.720993</td>\n",
       "      <td>6.142266</td>\n",
       "      <td>-7.251095</td>\n",
       "      <td>-8.217025</td>\n",
       "      <td>-5.909516</td>\n",
       "      <td>2.238280</td>\n",
       "      <td>7.453938</td>\n",
       "      <td>0.426583</td>\n",
       "      <td>wednesday</td>\n",
       "      <td>$1,856.05</td>\n",
       "      <td>5.799848</td>\n",
       "      <td>6.348686</td>\n",
       "      <td>6.533406</td>\n",
       "      <td>-0.826225</td>\n",
       "      <td>-2.246642</td>\n",
       "      <td>NaN</td>\n",
       "    </tr>\n",
       "    <tr>\n",
       "      <th>39996</th>\n",
       "      <td>-15.654468</td>\n",
       "      <td>13.673730</td>\n",
       "      <td>-5.129639</td>\n",
       "      <td>-4.126615</td>\n",
       "      <td>-10.908006</td>\n",
       "      <td>3.049759</td>\n",
       "      <td>-7.636262</td>\n",
       "      <td>-0.937511</td>\n",
       "      <td>3.010333</td>\n",
       "      <td>0.01%</td>\n",
       "      <td>-1.063526</td>\n",
       "      <td>-18.363552</td>\n",
       "      <td>-7.694954</td>\n",
       "      <td>-17.834623</td>\n",
       "      <td>2.206712</td>\n",
       "      <td>-0.689712</td>\n",
       "      <td>asia</td>\n",
       "      <td>0.468877</td>\n",
       "      <td>-5.369584</td>\n",
       "      <td>Jun</td>\n",
       "      <td>6.847495</td>\n",
       "      <td>-1.320568</td>\n",
       "      <td>-10.622569</td>\n",
       "      <td>-1.003877</td>\n",
       "      <td>6.229476</td>\n",
       "      <td>-9.955536</td>\n",
       "      <td>-2.452780</td>\n",
       "      <td>4.456488</td>\n",
       "      <td>5.245537</td>\n",
       "      <td>-5.728256</td>\n",
       "      <td>5.784018</td>\n",
       "      <td>3.770248</td>\n",
       "      <td>0.217968</td>\n",
       "      <td>-7.909124</td>\n",
       "      <td>-4.594561</td>\n",
       "      <td>1.514454</td>\n",
       "      <td>-7.480561</td>\n",
       "      <td>20.857159</td>\n",
       "      <td>-0.637203</td>\n",
       "      <td>2.056832</td>\n",
       "      <td>-4.085614</td>\n",
       "      <td>-2.170613</td>\n",
       "      <td>-4.170406</td>\n",
       "      <td>thurday</td>\n",
       "      <td>$829.09</td>\n",
       "      <td>-41.281520</td>\n",
       "      <td>4.239135</td>\n",
       "      <td>4.362476</td>\n",
       "      <td>3.961428</td>\n",
       "      <td>-8.864676</td>\n",
       "      <td>NaN</td>\n",
       "    </tr>\n",
       "    <tr>\n",
       "      <th>39997</th>\n",
       "      <td>17.104347</td>\n",
       "      <td>10.881559</td>\n",
       "      <td>9.257105</td>\n",
       "      <td>9.473590</td>\n",
       "      <td>-14.404764</td>\n",
       "      <td>-0.186695</td>\n",
       "      <td>14.115917</td>\n",
       "      <td>2.043256</td>\n",
       "      <td>1.253264</td>\n",
       "      <td>-0.01%</td>\n",
       "      <td>4.195605</td>\n",
       "      <td>-2.425618</td>\n",
       "      <td>0.964887</td>\n",
       "      <td>6.451952</td>\n",
       "      <td>-14.481932</td>\n",
       "      <td>-2.597947</td>\n",
       "      <td>asia</td>\n",
       "      <td>-0.110613</td>\n",
       "      <td>-2.209304</td>\n",
       "      <td>Jun</td>\n",
       "      <td>-1.940519</td>\n",
       "      <td>-0.554571</td>\n",
       "      <td>7.117766</td>\n",
       "      <td>-3.403012</td>\n",
       "      <td>3.398249</td>\n",
       "      <td>-0.989290</td>\n",
       "      <td>5.630919</td>\n",
       "      <td>-7.483223</td>\n",
       "      <td>7.614804</td>\n",
       "      <td>9.264284</td>\n",
       "      <td>2.023665</td>\n",
       "      <td>1.569632</td>\n",
       "      <td>-0.458895</td>\n",
       "      <td>-10.484415</td>\n",
       "      <td>-1.300305</td>\n",
       "      <td>1.793511</td>\n",
       "      <td>-1.725453</td>\n",
       "      <td>-18.012855</td>\n",
       "      <td>-2.486768</td>\n",
       "      <td>-8.434629</td>\n",
       "      <td>-8.643560</td>\n",
       "      <td>1.052170</td>\n",
       "      <td>12.314406</td>\n",
       "      <td>wednesday</td>\n",
       "      <td>$362.35</td>\n",
       "      <td>28.513354</td>\n",
       "      <td>5.903222</td>\n",
       "      <td>6.074980</td>\n",
       "      <td>-0.224618</td>\n",
       "      <td>5.162458</td>\n",
       "      <td>NaN</td>\n",
       "    </tr>\n",
       "    <tr>\n",
       "      <th>39998</th>\n",
       "      <td>10.318173</td>\n",
       "      <td>-8.793841</td>\n",
       "      <td>-2.670998</td>\n",
       "      <td>4.655068</td>\n",
       "      <td>-1.830378</td>\n",
       "      <td>0.466101</td>\n",
       "      <td>-0.249490</td>\n",
       "      <td>-0.559953</td>\n",
       "      <td>-4.106609</td>\n",
       "      <td>0.00%</td>\n",
       "      <td>-1.936299</td>\n",
       "      <td>4.089064</td>\n",
       "      <td>-6.273545</td>\n",
       "      <td>41.568191</td>\n",
       "      <td>-7.947575</td>\n",
       "      <td>-4.105774</td>\n",
       "      <td>asia</td>\n",
       "      <td>-0.411507</td>\n",
       "      <td>0.171065</td>\n",
       "      <td>July</td>\n",
       "      <td>2.525970</td>\n",
       "      <td>0.771538</td>\n",
       "      <td>-6.505248</td>\n",
       "      <td>-1.828420</td>\n",
       "      <td>7.019153</td>\n",
       "      <td>-6.068829</td>\n",
       "      <td>2.766882</td>\n",
       "      <td>-11.287465</td>\n",
       "      <td>-5.464222</td>\n",
       "      <td>2.480790</td>\n",
       "      <td>-4.602856</td>\n",
       "      <td>-5.143262</td>\n",
       "      <td>-3.490922</td>\n",
       "      <td>6.942449</td>\n",
       "      <td>15.399632</td>\n",
       "      <td>-0.397080</td>\n",
       "      <td>-1.116342</td>\n",
       "      <td>-6.659508</td>\n",
       "      <td>11.824928</td>\n",
       "      <td>-2.964359</td>\n",
       "      <td>2.047145</td>\n",
       "      <td>1.215707</td>\n",
       "      <td>-1.343064</td>\n",
       "      <td>wednesday</td>\n",
       "      <td>$1,157.95</td>\n",
       "      <td>34.455051</td>\n",
       "      <td>-7.569731</td>\n",
       "      <td>-7.789978</td>\n",
       "      <td>0.160228</td>\n",
       "      <td>-2.713194</td>\n",
       "      <td>NaN</td>\n",
       "    </tr>\n",
       "    <tr>\n",
       "      <th>39999</th>\n",
       "      <td>-3.755809</td>\n",
       "      <td>6.229565</td>\n",
       "      <td>-1.286820</td>\n",
       "      <td>-19.987559</td>\n",
       "      <td>14.423951</td>\n",
       "      <td>-2.911045</td>\n",
       "      <td>-2.361610</td>\n",
       "      <td>1.967908</td>\n",
       "      <td>9.371211</td>\n",
       "      <td>0.00%</td>\n",
       "      <td>-6.321918</td>\n",
       "      <td>4.901058</td>\n",
       "      <td>-8.610222</td>\n",
       "      <td>-16.281671</td>\n",
       "      <td>-23.917425</td>\n",
       "      <td>-4.701825</td>\n",
       "      <td>euorpe</td>\n",
       "      <td>0.067131</td>\n",
       "      <td>-11.157262</td>\n",
       "      <td>Apr</td>\n",
       "      <td>-4.618511</td>\n",
       "      <td>0.590587</td>\n",
       "      <td>-1.462620</td>\n",
       "      <td>-4.471936</td>\n",
       "      <td>-46.312562</td>\n",
       "      <td>2.128761</td>\n",
       "      <td>-11.880218</td>\n",
       "      <td>3.164557</td>\n",
       "      <td>2.248421</td>\n",
       "      <td>-14.141446</td>\n",
       "      <td>10.531698</td>\n",
       "      <td>11.736836</td>\n",
       "      <td>10.397603</td>\n",
       "      <td>-43.722423</td>\n",
       "      <td>-36.239352</td>\n",
       "      <td>-0.255263</td>\n",
       "      <td>-5.013353</td>\n",
       "      <td>3.317448</td>\n",
       "      <td>1.165515</td>\n",
       "      <td>10.797298</td>\n",
       "      <td>-3.000358</td>\n",
       "      <td>-5.960865</td>\n",
       "      <td>10.022204</td>\n",
       "      <td>wednesday</td>\n",
       "      <td>($345.83)</td>\n",
       "      <td>20.461689</td>\n",
       "      <td>59.354827</td>\n",
       "      <td>61.081800</td>\n",
       "      <td>1.347046</td>\n",
       "      <td>-0.767326</td>\n",
       "      <td>NaN</td>\n",
       "    </tr>\n",
       "  </tbody>\n",
       "</table>\n",
       "</div>"
      ],
      "text/plain": [
       "             x00        x01       x02        x03        x04       x05  \\\n",
       "39995   0.608853  -0.213463 -3.538605  10.957032   5.586005 -0.238700   \n",
       "39996 -15.654468  13.673730 -5.129639  -4.126615 -10.908006  3.049759   \n",
       "39997  17.104347  10.881559  9.257105   9.473590 -14.404764 -0.186695   \n",
       "39998  10.318173  -8.793841 -2.670998   4.655068  -1.830378  0.466101   \n",
       "39999  -3.755809   6.229565 -1.286820 -19.987559  14.423951 -2.911045   \n",
       "\n",
       "             x06       x07       x08     x09       x10        x11       x12  \\\n",
       "39995  16.942579  1.459900 -2.747632  -0.01% -0.070824  -8.495781  0.955410   \n",
       "39996  -7.636262 -0.937511  3.010333   0.01% -1.063526 -18.363552 -7.694954   \n",
       "39997  14.115917  2.043256  1.253264  -0.01%  4.195605  -2.425618  0.964887   \n",
       "39998  -0.249490 -0.559953 -4.106609   0.00% -1.936299   4.089064 -6.273545   \n",
       "39999  -2.361610  1.967908  9.371211   0.00% -6.321918   4.901058 -8.610222   \n",
       "\n",
       "             x13        x14       x15     x16       x17        x18   x19  \\\n",
       "39995  -1.825368   8.464736  0.988800    asia -0.121165  -7.987809   Apr   \n",
       "39996 -17.834623   2.206712 -0.689712    asia  0.468877  -5.369584   Jun   \n",
       "39997   6.451952 -14.481932 -2.597947    asia -0.110613  -2.209304   Jun   \n",
       "39998  41.568191  -7.947575 -4.105774    asia -0.411507   0.171065  July   \n",
       "39999 -16.281671 -23.917425 -4.701825  euorpe  0.067131 -11.157262   Apr   \n",
       "\n",
       "            x20       x21        x22       x23        x24       x25  \\\n",
       "39995  9.212888  0.855352  -0.310800 -3.211206  -6.657321 -3.572848   \n",
       "39996  6.847495 -1.320568 -10.622569 -1.003877   6.229476 -9.955536   \n",
       "39997 -1.940519 -0.554571   7.117766 -3.403012   3.398249 -0.989290   \n",
       "39998  2.525970  0.771538  -6.505248 -1.828420   7.019153 -6.068829   \n",
       "39999 -4.618511  0.590587  -1.462620 -4.471936 -46.312562  2.128761   \n",
       "\n",
       "             x26        x27       x28        x29        x30        x31  \\\n",
       "39995   6.512648   6.255875  1.169474   7.945029   4.270322  -3.441232   \n",
       "39996  -2.452780   4.456488  5.245537  -5.728256   5.784018   3.770248   \n",
       "39997   5.630919  -7.483223  7.614804   9.264284   2.023665   1.569632   \n",
       "39998   2.766882 -11.287465 -5.464222   2.480790  -4.602856  -5.143262   \n",
       "39999 -11.880218   3.164557  2.248421 -14.141446  10.531698  11.736836   \n",
       "\n",
       "             x32        x33        x34       x35       x36        x37  \\\n",
       "39995  11.050103  -2.555568   2.177949 -0.720993  6.142266  -7.251095   \n",
       "39996   0.217968  -7.909124  -4.594561  1.514454 -7.480561  20.857159   \n",
       "39997  -0.458895 -10.484415  -1.300305  1.793511 -1.725453 -18.012855   \n",
       "39998  -3.490922   6.942449  15.399632 -0.397080 -1.116342  -6.659508   \n",
       "39999  10.397603 -43.722423 -36.239352 -0.255263 -5.013353   3.317448   \n",
       "\n",
       "             x38        x39       x40       x41        x42        x43  \\\n",
       "39995  -8.217025  -5.909516  2.238280  7.453938   0.426583  wednesday   \n",
       "39996  -0.637203   2.056832 -4.085614 -2.170613  -4.170406    thurday   \n",
       "39997  -2.486768  -8.434629 -8.643560  1.052170  12.314406  wednesday   \n",
       "39998  11.824928  -2.964359  2.047145  1.215707  -1.343064  wednesday   \n",
       "39999   1.165515  10.797298 -3.000358 -5.960865  10.022204  wednesday   \n",
       "\n",
       "              x44        x45        x46        x47       x48       x49   y  \n",
       "39995  $1,856.05    5.799848   6.348686   6.533406 -0.826225 -2.246642 NaN  \n",
       "39996    $829.09  -41.281520   4.239135   4.362476  3.961428 -8.864676 NaN  \n",
       "39997    $362.35   28.513354   5.903222   6.074980 -0.224618  5.162458 NaN  \n",
       "39998  $1,157.95   34.455051  -7.569731  -7.789978  0.160228 -2.713194 NaN  \n",
       "39999   ($345.83)  20.461689  59.354827  61.081800  1.347046 -0.767326 NaN  "
      ]
     },
     "execution_count": 24,
     "metadata": {},
     "output_type": "execute_result"
    }
   ],
   "source": [
    "X_combined.tail()"
   ]
  },
  {
   "cell_type": "code",
   "execution_count": 27,
   "metadata": {
    "collapsed": false
   },
   "outputs": [
    {
     "data": {
      "text/plain": [
       "<matplotlib.axes._subplots.AxesSubplot at 0xcd1d8d0>"
      ]
     },
     "execution_count": 27,
     "metadata": {},
     "output_type": "execute_result"
    },
    {
     "data": {
      "image/png": "[encoded data removed]",
      "text/plain": [
       "<matplotlib.figure.Figure at 0xc3358d0>"
      ]
     },
     "metadata": {},
     "output_type": "display_data"
    }
   ],
   "source": [
    "X_combined.plot(kind='box', figsize=(18,12))"
   ]
  },
  {
   "cell_type": "markdown",
   "metadata": {},
   "source": [
    "### Data Prep"
   ]
  },
  {
   "cell_type": "code",
   "execution_count": 28,
   "metadata": {
    "collapsed": false
   },
   "outputs": [],
   "source": [
    "def cleanMonth(x):\n",
    "    if isinstance(x, str):\n",
    "        if x == 'Jun': return 'june'\n",
    "        elif x == 'July': return 'july'\n",
    "        elif x == 'Aug': return 'august'\n",
    "        elif x == 'May': return 'may'\n",
    "        elif x == 'Mar': return 'march'\n",
    "        elif x == 'Apr': return 'april'\n",
    "        elif x == 'sept.': return 'september'\n",
    "        elif x == 'Feb': return 'february'\n",
    "        elif x == 'Oct': return 'october'\n",
    "        elif x == 'Nov': return 'november'\n",
    "        elif x == 'January': return 'january'\n",
    "        elif x == 'Dev': return 'december'\n",
    "\n",
    "month = pd.Series([cleanMonth(x) for x in X_combined.x19], name='month')"
   ]
  },
  {
   "cell_type": "code",
   "execution_count": 29,
   "metadata": {
    "collapsed": false
   },
   "outputs": [],
   "source": [
    "def cleanWeekday(x):\n",
    "    if isinstance(x, str):\n",
    "        if x == 'monday': return 'monday'\n",
    "        elif x == 'tuesday': return 'tuesday'\n",
    "        elif x == 'wednesday': return 'wednesday'\n",
    "        elif x == 'thurday': return 'thursday'\n",
    "        elif x == 'friday': return 'friday'\n",
    "\n",
    "weekday = pd.Series([cleanWeekday(x) for x in X_combined.x43], name='weekday')"
   ]
  },
  {
   "cell_type": "code",
   "execution_count": 30,
   "metadata": {
    "collapsed": false
   },
   "outputs": [],
   "source": [
    "def cleanRegion(x):\n",
    "    if isinstance(x, str):\n",
    "        if x == 'asia': return 'asia'\n",
    "        elif x == 'euorpe': return 'europe'\n",
    "        elif x == 'america': return 'america'\n",
    "\n",
    "region = pd.Series([cleanRegion(x) for x in X_combined.x16], name='region')"
   ]
  },
  {
   "cell_type": "code",
   "execution_count": 31,
   "metadata": {
    "collapsed": false
   },
   "outputs": [],
   "source": [
    "def parseMoneyToFloat(x):\n",
    "    if isinstance(x, str): return float(re.sub('[$,()]', '', x))\n",
    "\n",
    "X_combined.x44 = [parseMoneyToFloat(x) for x in X_combined.x44]"
   ]
  },
  {
   "cell_type": "code",
   "execution_count": 32,
   "metadata": {
    "collapsed": false
   },
   "outputs": [],
   "source": [
    "def parsePercentToFloat(x):\n",
    "    if isinstance(x, str): return float(re.sub('%', '', x)) / 100.00\n",
    "\n",
    "X_combined.x09 = [parsePercentToFloat(x) for x in X_combined.x09]"
   ]
  },
  {
   "cell_type": "markdown",
   "metadata": {},
   "source": [
    "### Impute Missing Categorical Data with Most Frequent Value & Get Dummies"
   ]
  },
  {
   "cell_type": "code",
   "execution_count": 33,
   "metadata": {
    "collapsed": false
   },
   "outputs": [],
   "source": [
    "X_numeric = X_combined.copy()\n",
    "X_numeric.drop(['x16', 'x19', 'x43'], axis=1, inplace=True)"
   ]
  },
  {
   "cell_type": "code",
   "execution_count": 34,
   "metadata": {
    "collapsed": true
   },
   "outputs": [],
   "source": [
    "df1 = X_numeric.copy()"
   ]
  },
  {
   "cell_type": "code",
   "execution_count": 35,
   "metadata": {
    "collapsed": false
   },
   "outputs": [
    {
     "data": {
      "text/plain": [
       "june    55795\n",
       "Name: month, dtype: int64"
      ]
     },
     "execution_count": 35,
     "metadata": {},
     "output_type": "execute_result"
    }
   ],
   "source": [
    "month.value_counts()[[0]]"
   ]
  },
  {
   "cell_type": "code",
   "execution_count": 36,
   "metadata": {
    "collapsed": false
   },
   "outputs": [
    {
     "data": {
      "text/plain": [
       "wednesday    126413\n",
       "Name: weekday, dtype: int64"
      ]
     },
     "execution_count": 36,
     "metadata": {},
     "output_type": "execute_result"
    }
   ],
   "source": [
    "weekday.value_counts()[[0]]"
   ]
  },
  {
   "cell_type": "code",
   "execution_count": 37,
   "metadata": {
    "collapsed": false
   },
   "outputs": [
    {
     "data": {
      "text/plain": [
       "asia    173129\n",
       "Name: region, dtype: int64"
      ]
     },
     "execution_count": 37,
     "metadata": {},
     "output_type": "execute_result"
    }
   ],
   "source": [
    "region.value_counts()[[0]]"
   ]
  },
  {
   "cell_type": "code",
   "execution_count": 38,
   "metadata": {
    "collapsed": false
   },
   "outputs": [],
   "source": [
    "month.fillna('june', inplace=True)\n",
    "weekday.fillna('wednesday', inplace=True)\n",
    "region.fillna('asia', inplace=True)"
   ]
  },
  {
   "cell_type": "code",
   "execution_count": 39,
   "metadata": {
    "collapsed": false
   },
   "outputs": [],
   "source": [
    "y_df1 = df1.pop('y')"
   ]
  },
  {
   "cell_type": "code",
   "execution_count": 40,
   "metadata": {
    "collapsed": false
   },
   "outputs": [
    {
     "data": {
      "text/plain": [
       "array([[ -5.90070664e+00,   4.69388657e-01,   4.73306785e+00, ...,\n",
       "          4.59280348e+00,  -3.44776760e-02,   3.68040134e+00],\n",
       "       [ -3.53039065e+00,   4.22981797e+00,  -4.61943288e+00, ...,\n",
       "         -5.46246671e+00,  -2.29517509e-01,  -2.33294711e+00],\n",
       "       [  1.00338855e+00,  -1.25474570e-02,   6.25050323e+00, ...,\n",
       "         -1.14070719e+01,   6.39555117e+00,   3.54533178e+00],\n",
       "       ..., \n",
       "       [  1.71043472e+01,   1.08815589e+01,   9.25710482e+00, ...,\n",
       "          6.07498027e+00,  -2.24617902e-01,   5.16245808e+00],\n",
       "       [  1.03181728e+01,  -8.79384077e+00,  -2.67099784e+00, ...,\n",
       "         -7.78997798e+00,   1.60228442e-01,  -2.71319396e+00],\n",
       "       [ -3.75580866e+00,   6.22956464e+00,  -1.28682043e+00, ...,\n",
       "          6.10818001e+01,   1.34704559e+00,  -7.67326474e-01]])"
      ]
     },
     "execution_count": 40,
     "metadata": {},
     "output_type": "execute_result"
    }
   ],
   "source": [
    "meanImputer = Imputer(strategy='median', copy=False)\n",
    "meanImputer.fit_transform(df1)"
   ]
  },
  {
   "cell_type": "code",
   "execution_count": 41,
   "metadata": {
    "collapsed": false
   },
   "outputs": [],
   "source": [
    "df1['y'] = y_df1\n",
    "df1['month'] = month.copy()\n",
    "df1['weekday'] = weekday.copy()\n",
    "df1['region'] = region.copy()\n",
    "df1 = pd.get_dummies(df1)"
   ]
  },
  {
   "cell_type": "markdown",
   "metadata": {},
   "source": [
    "### Create Test/Train Splits"
   ]
  },
  {
   "cell_type": "code",
   "execution_count": 42,
   "metadata": {
    "collapsed": false
   },
   "outputs": [],
   "source": [
    "# df1: Numerical: Mean, Categorical: Most Frequent\n",
    "\n",
    "# X TEST\n",
    "X_test_df1 = df1[np.isnan(df1.y)].copy()\n",
    "X_test_df1.drop('y', axis=1, inplace=True)\n",
    "\n",
    "# Xy TRAIN\n",
    "train_df1 = df1.dropna(subset=['y'])\n",
    "\n",
    "# y TRAIN\n",
    "y_train_df1 = train_df1['y'].copy()\n",
    "\n",
    "# X TRAIN\n",
    "X_train_df1 = train_df1.drop('y', axis=1)"
   ]
  },
  {
   "cell_type": "markdown",
   "metadata": {
    "collapsed": false
   },
   "source": [
    "### Random Forest Classifer with K-Fold Cross Validation and Grid Search"
   ]
  },
  {
   "cell_type": "code",
   "execution_count": 43,
   "metadata": {
    "collapsed": false
   },
   "outputs": [],
   "source": [
    "# set hyperparameters\n",
    "n_estimators=[5, 10, 50, 100]\n",
    "criterion=['gini', 'entropy']\n",
    "max_features=['auto', 'log2', None]\n",
    "hyperparameters = dict(n_estimators=n_estimators, criterion=criterion, max_features=max_features)"
   ]
  },
  {
   "cell_type": "code",
   "execution_count": 44,
   "metadata": {
    "collapsed": true
   },
   "outputs": [],
   "source": [
    "# get random forest classifier\n",
    "rfc = RandomForestClassifier(random_state=42, verbose=10, n_jobs=-1)"
   ]
  },
  {
   "cell_type": "code",
   "execution_count": 45,
   "metadata": {
    "collapsed": false
   },
   "outputs": [
    {
     "name": "stdout",
     "output_type": "stream",
     "text": [
      "Fitting 5 folds for each of 24 candidates, totalling 120 fits\n"
     ]
    },
    {
     "name": "stderr",
     "output_type": "stream",
     "text": [
      "[Parallel(n_jobs=-1)]: Done   2 tasks      | elapsed:    9.1s\n",
      "[Parallel(n_jobs=-1)]: Done   9 tasks      | elapsed:   50.7s\n",
      "[Parallel(n_jobs=-1)]: Done  16 tasks      | elapsed:  2.4min\n",
      "[Parallel(n_jobs=-1)]: Done  25 tasks      | elapsed:  3.6min\n",
      "[Parallel(n_jobs=-1)]: Done  34 tasks      | elapsed:  5.1min\n",
      "[Parallel(n_jobs=-1)]: Done  45 tasks      | elapsed:  8.6min\n",
      "[Parallel(n_jobs=-1)]: Done  56 tasks      | elapsed: 21.5min\n",
      "[Parallel(n_jobs=-1)]: Done  69 tasks      | elapsed: 29.3min\n",
      "[Parallel(n_jobs=-1)]: Done  82 tasks      | elapsed: 34.7min\n",
      "[Parallel(n_jobs=-1)]: Done  97 tasks      | elapsed: 41.1min\n",
      "[Parallel(n_jobs=-1)]: Done 118 out of 120 | elapsed: 72.1min remaining:  1.2min\n",
      "[Parallel(n_jobs=-1)]: Done 120 out of 120 | elapsed: 75.3min finished\n"
     ]
    },
    {
     "name": "stdout",
     "output_type": "stream",
     "text": [
      "building tree 1 of 100building tree 2 of 100building tree 3 of 100building tree 4 of 100building tree 5 of 100building tree 6 of 100building tree 7 of 100building tree 8 of 100\n",
      "\n",
      "\n",
      "\n",
      "\n",
      "\n",
      "\n",
      "\n",
      "building tree 9 of 100\n",
      "building tree 10 of 100\n",
      "building tree 11 of 100\n"
     ]
    },
    {
     "name": "stderr",
     "output_type": "stream",
     "text": [
      "[Parallel(n_jobs=-1)]: Done   2 tasks      | elapsed:   25.6s\n"
     ]
    },
    {
     "name": "stdout",
     "output_type": "stream",
     "text": [
      "building tree 12 of 100\n",
      "building tree 13 of 100\n",
      "building tree 14 of 100\n",
      "building tree 15 of 100\n",
      "building tree 16 of 100\n"
     ]
    },
    {
     "name": "stderr",
     "output_type": "stream",
     "text": [
      "[Parallel(n_jobs=-1)]: Done   9 tasks      | elapsed:   52.4s\n"
     ]
    },
    {
     "name": "stdout",
     "output_type": "stream",
     "text": [
      "building tree 17 of 100\n",
      "building tree 18 of 100\n",
      "building tree 19 of 100\n",
      "building tree 20 of 100\n",
      "building tree 21 of 100\n",
      "building tree 22 of 100\n",
      "building tree 23 of 100\n",
      "building tree 24 of 100\n"
     ]
    },
    {
     "name": "stderr",
     "output_type": "stream",
     "text": [
      "[Parallel(n_jobs=-1)]: Done  16 tasks      | elapsed:   54.6s\n"
     ]
    },
    {
     "name": "stdout",
     "output_type": "stream",
     "text": [
      "building tree 25 of 100\n",
      "building tree 26 of 100\n",
      "building tree 27 of 100\n",
      "building tree 28 of 100\n",
      "building tree 29 of 100\n",
      "building tree 30 of 100\n",
      "building tree 31 of 100\n",
      "building tree 32 of 100\n",
      "building tree 33 of 100\n"
     ]
    },
    {
     "name": "stderr",
     "output_type": "stream",
     "text": [
      "[Parallel(n_jobs=-1)]: Done  25 tasks      | elapsed:  1.7min\n"
     ]
    },
    {
     "name": "stdout",
     "output_type": "stream",
     "text": [
      "building tree 34 of 100\n",
      "building tree 35 of 100\n",
      "building tree 36 of 100\n",
      "building tree 37 of 100\n",
      "building tree 38 of 100\n",
      "building tree 39 of 100\n",
      "building tree 40 of 100\n",
      "building tree 41 of 100\n",
      "building tree 42 of 100\n"
     ]
    },
    {
     "name": "stderr",
     "output_type": "stream",
     "text": [
      "[Parallel(n_jobs=-1)]: Done  34 tasks      | elapsed:  2.2min\n"
     ]
    },
    {
     "name": "stdout",
     "output_type": "stream",
     "text": [
      "building tree 43 of 100\n",
      "building tree 44 of 100\n",
      "building tree 45 of 100\n",
      "building tree 46 of 100\n",
      "building tree 47 of 100\n",
      "building tree 48 of 100\n",
      "building tree 49 of 100\n",
      "building tree 50 of 100\n",
      "building tree 51 of 100\n",
      "building tree 52 of 100\n",
      "building tree 53 of 100\n"
     ]
    },
    {
     "name": "stderr",
     "output_type": "stream",
     "text": [
      "[Parallel(n_jobs=-1)]: Done  45 tasks      | elapsed:  2.7min\n"
     ]
    },
    {
     "name": "stdout",
     "output_type": "stream",
     "text": [
      "building tree 54 of 100\n",
      "building tree 55 of 100\n",
      "building tree 56 of 100\n",
      "building tree 57 of 100\n",
      "building tree 58 of 100\n",
      "building tree 59 of 100\n",
      "building tree 60 of 100\n",
      "building tree 61 of 100\n",
      "building tree 62 of 100\n",
      "building tree 63 of 100\n",
      "building tree 64 of 100\n"
     ]
    },
    {
     "name": "stderr",
     "output_type": "stream",
     "text": [
      "[Parallel(n_jobs=-1)]: Done  56 tasks      | elapsed:  3.2min\n"
     ]
    },
    {
     "name": "stdout",
     "output_type": "stream",
     "text": [
      "building tree 65 of 100\n",
      "building tree 66 of 100\n",
      "building tree 67 of 100\n",
      "building tree 68 of 100\n",
      "building tree 69 of 100\n",
      "building tree 70 of 100\n",
      "building tree 71 of 100\n",
      "building tree 72 of 100\n",
      "building tree 73 of 100\n",
      "building tree 74 of 100\n",
      "building tree 75 of 100\n",
      "building tree 76 of 100\n",
      "building tree 77 of 100\n"
     ]
    },
    {
     "name": "stderr",
     "output_type": "stream",
     "text": [
      "[Parallel(n_jobs=-1)]: Done  69 tasks      | elapsed:  4.0min\n"
     ]
    },
    {
     "name": "stdout",
     "output_type": "stream",
     "text": [
      "building tree 78 of 100\n",
      "building tree 79 of 100\n",
      "building tree 80 of 100\n",
      "building tree 81 of 100\n",
      "building tree 82 of 100\n",
      "building tree 83 of 100\n",
      "building tree 84 of 100\n",
      "building tree 85 of 100\n",
      "building tree 86 of 100\n",
      "building tree 87 of 100\n",
      "building tree 88 of 100\n",
      "building tree 89 of 100\n",
      "building tree 90 of 100\n"
     ]
    },
    {
     "name": "stderr",
     "output_type": "stream",
     "text": [
      "[Parallel(n_jobs=-1)]: Done  82 tasks      | elapsed:  4.9min\n"
     ]
    },
    {
     "name": "stdout",
     "output_type": "stream",
     "text": [
      "building tree 91 of 100\n",
      "building tree 92 of 100\n",
      "building tree 93 of 100\n",
      "building tree 94 of 100\n",
      "building tree 95 of 100\n",
      "building tree 96 of 100\n",
      "building tree 97 of 100\n",
      "building tree 98 of 100\n",
      "building tree 99 of 100\n",
      "building tree 100 of 100\n"
     ]
    },
    {
     "name": "stderr",
     "output_type": "stream",
     "text": [
      "[Parallel(n_jobs=-1)]: Done  96 out of 100 | elapsed:  5.5min remaining:   13.7s\n"
     ]
    },
    {
     "name": "stdout",
     "output_type": "stream",
     "text": [
      "RandomForestClassifier(bootstrap=True, class_weight=None, criterion='entropy',\n",
      "            max_depth=None, max_features=None, max_leaf_nodes=None,\n",
      "            min_impurity_split=1e-07, min_samples_leaf=1,\n",
      "            min_samples_split=2, min_weight_fraction_leaf=0.0,\n",
      "            n_estimators=100, n_jobs=-1, oob_score=False, random_state=42,\n",
      "            verbose=10, warm_start=False)\n"
     ]
    },
    {
     "name": "stderr",
     "output_type": "stream",
     "text": [
      "[Parallel(n_jobs=-1)]: Done 100 out of 100 | elapsed:  5.7min finished\n"
     ]
    }
   ],
   "source": [
    "# fit models to training sets\n",
    "rfc_estimator_df1 = GridSearchCV(rfc, hyperparameters, scoring='roc_auc', cv=5, verbose=10, n_jobs=-1)\n",
    "rfc_estimator_df1.fit(X_train_df1, y_train_df1)\n",
    "rfc_best_estimator_df1 = rfc_estimator_df1.best_estimator_\n",
    "print(rfc_best_estimator_df1)"
   ]
  },
  {
   "cell_type": "code",
   "execution_count": 46,
   "metadata": {
    "collapsed": true
   },
   "outputs": [],
   "source": [
    "def getMeanAndConfidence(scores, scoring, name):\n",
    "    mean_score = scores.mean()\n",
    "    std_dev = scores.std()\n",
    "    std_error = scores.std() / math.sqrt(scores.shape[0])\n",
    "    ci =  2.262 * std_error\n",
    "    lower_bound = mean_score - ci\n",
    "    upper_bound = mean_score + ci\n",
    "    print (\"%s is %f +/-  %f\" % (name, mean_score, ci))\n",
    "    print ('95 percent probability that if this experiment were repeated over and over the average %s score would be between %f and %f' % (scoring, lower_bound, upper_bound))"
   ]
  },
  {
   "cell_type": "code",
   "execution_count": 47,
   "metadata": {
    "collapsed": false
   },
   "outputs": [
    {
     "name": "stdout",
     "output_type": "stream",
     "text": [
      "building tree 1 of 100building tree 2 of 100\n",
      "\n",
      "building tree 3 of 100building tree 4 of 100building tree 6 of 100\n",
      "\n",
      "\n",
      "building tree 5 of 100\n",
      "building tree 7 of 100\n",
      "building tree 8 of 100\n",
      "building tree 9 of 100\n",
      "building tree 10 of 100\n",
      "building tree 11 of 100\n"
     ]
    },
    {
     "name": "stderr",
     "output_type": "stream",
     "text": [
      "[Parallel(n_jobs=-1)]: Done   2 tasks      | elapsed:   22.8s\n"
     ]
    },
    {
     "name": "stdout",
     "output_type": "stream",
     "text": [
      "building tree 12 of 100\n",
      "building tree 13 of 100\n",
      "building tree 14 of 100\n",
      "building tree 15 of 100\n",
      "building tree 16 of 100\n",
      "building tree 17 of 100\n"
     ]
    },
    {
     "name": "stderr",
     "output_type": "stream",
     "text": [
      "[Parallel(n_jobs=-1)]: Done   9 tasks      | elapsed:   46.0s\n"
     ]
    },
    {
     "name": "stdout",
     "output_type": "stream",
     "text": [
      "building tree 18 of 100\n",
      "building tree 19 of 100\n",
      "building tree 20 of 100\n",
      "building tree 21 of 100\n",
      "building tree 22 of 100\n",
      "building tree 23 of 100\n",
      "building tree 24 of 100\n"
     ]
    },
    {
     "name": "stderr",
     "output_type": "stream",
     "text": [
      "[Parallel(n_jobs=-1)]: Done  16 tasks      | elapsed:   53.1s\n"
     ]
    },
    {
     "name": "stdout",
     "output_type": "stream",
     "text": [
      "building tree 25 of 100\n",
      "building tree 26 of 100\n",
      "building tree 27 of 100\n",
      "building tree 28 of 100\n",
      "building tree 29 of 100\n",
      "building tree 30 of 100\n",
      "building tree 31 of 100\n",
      "building tree 32 of 100\n",
      "building tree 33 of 100\n"
     ]
    },
    {
     "name": "stderr",
     "output_type": "stream",
     "text": [
      "[Parallel(n_jobs=-1)]: Done  25 tasks      | elapsed:  1.5min\n"
     ]
    },
    {
     "name": "stdout",
     "output_type": "stream",
     "text": [
      "building tree 34 of 100\n",
      "building tree 35 of 100\n",
      "building tree 36 of 100\n",
      "building tree 37 of 100\n",
      "building tree 38 of 100\n",
      "building tree 39 of 100\n",
      "building tree 40 of 100\n",
      "building tree 41 of 100\n",
      "building tree 42 of 100\n"
     ]
    },
    {
     "name": "stderr",
     "output_type": "stream",
     "text": [
      "[Parallel(n_jobs=-1)]: Done  34 tasks      | elapsed:  2.0min\n"
     ]
    },
    {
     "name": "stdout",
     "output_type": "stream",
     "text": [
      "building tree 43 of 100\n",
      "building tree 44 of 100\n",
      "building tree 45 of 100\n",
      "building tree 46 of 100\n",
      "building tree 47 of 100\n",
      "building tree 48 of 100\n",
      "building tree 49 of 100\n",
      "building tree 50 of 100\n",
      "building tree 51 of 100\n",
      "building tree 52 of 100\n"
     ]
    },
    {
     "name": "stderr",
     "output_type": "stream",
     "text": [
      "[Parallel(n_jobs=-1)]: Done  45 tasks      | elapsed:  2.4min\n"
     ]
    },
    {
     "name": "stdout",
     "output_type": "stream",
     "text": [
      "building tree 53 of 100\n",
      "building tree 54 of 100\n",
      "building tree 55 of 100\n",
      "building tree 56 of 100\n",
      "building tree 57 of 100\n",
      "building tree 58 of 100\n",
      "building tree 59 of 100\n",
      "building tree 60 of 100\n",
      "building tree 61 of 100\n",
      "building tree 62 of 100\n",
      "building tree 63 of 100\n",
      "building tree 64 of 100\n"
     ]
    },
    {
     "name": "stderr",
     "output_type": "stream",
     "text": [
      "[Parallel(n_jobs=-1)]: Done  56 tasks      | elapsed:  2.9min\n"
     ]
    },
    {
     "name": "stdout",
     "output_type": "stream",
     "text": [
      "building tree 65 of 100\n",
      "building tree 66 of 100\n",
      "building tree 67 of 100\n",
      "building tree 68 of 100\n",
      "building tree 69 of 100\n",
      "building tree 70 of 100\n",
      "building tree 71 of 100\n",
      "building tree 72 of 100\n",
      "building tree 73 of 100\n",
      "building tree 74 of 100\n",
      "building tree 75 of 100\n",
      "building tree 76 of 100\n"
     ]
    },
    {
     "name": "stderr",
     "output_type": "stream",
     "text": [
      "[Parallel(n_jobs=-1)]: Done  69 tasks      | elapsed:  3.6min\n"
     ]
    },
    {
     "name": "stdout",
     "output_type": "stream",
     "text": [
      "building tree 77 of 100\n",
      "building tree 78 of 100\n",
      "building tree 79 of 100\n",
      "building tree 80 of 100\n",
      "building tree 81 of 100\n",
      "building tree 82 of 100\n",
      "building tree 83 of 100\n",
      "building tree 84 of 100\n",
      "building tree 85 of 100\n",
      "building tree 86 of 100\n",
      "building tree 87 of 100\n",
      "building tree 88 of 100\n",
      "building tree 89 of 100\n",
      "building tree 90 of 100\n"
     ]
    },
    {
     "name": "stderr",
     "output_type": "stream",
     "text": [
      "[Parallel(n_jobs=-1)]: Done  82 tasks      | elapsed:  4.3min\n"
     ]
    },
    {
     "name": "stdout",
     "output_type": "stream",
     "text": [
      "building tree 91 of 100\n",
      "building tree 92 of 100\n",
      "building tree 93 of 100\n",
      "building tree 94 of 100\n",
      "building tree 95 of 100\n",
      "building tree 96 of 100\n",
      "building tree 97 of 100\n",
      "building tree 98 of 100\n",
      "building tree 99 of 100\n",
      "building tree 100 of 100\n"
     ]
    },
    {
     "name": "stderr",
     "output_type": "stream",
     "text": [
      "[Parallel(n_jobs=-1)]: Done  96 out of 100 | elapsed:  5.1min remaining:   12.7s\n",
      "[Parallel(n_jobs=-1)]: Done 100 out of 100 | elapsed:  5.2min finished\n",
      "[Parallel(n_jobs=8)]: Done   2 tasks      | elapsed:    0.0s\n",
      "[Parallel(n_jobs=8)]: Done   9 tasks      | elapsed:    0.0s\n",
      "[Parallel(n_jobs=8)]: Done  16 tasks      | elapsed:    0.0s\n",
      "[Parallel(n_jobs=8)]: Done  25 tasks      | elapsed:    0.0s\n",
      "[Parallel(n_jobs=8)]: Done  34 tasks      | elapsed:    0.0s\n",
      "[Parallel(n_jobs=8)]: Done  45 tasks      | elapsed:    0.0s\n",
      "[Parallel(n_jobs=8)]: Done  56 tasks      | elapsed:    0.0s\n",
      "[Parallel(n_jobs=8)]: Done  69 tasks      | elapsed:    0.0s\n",
      "[Parallel(n_jobs=8)]: Done  82 tasks      | elapsed:    0.0s\n",
      "[Parallel(n_jobs=8)]: Done  96 out of 100 | elapsed:    0.0s remaining:    0.0s\n",
      "[Parallel(n_jobs=8)]: Done 100 out of 100 | elapsed:    0.0s finished\n"
     ]
    },
    {
     "name": "stdout",
     "output_type": "stream",
     "text": [
      "building tree 1 of 100building tree 2 of 100building tree 3 of 100building tree 7 of 100building tree 8 of 100building tree 4 of 100building tree 6 of 100building tree 5 of 100\n",
      "\n",
      "\n",
      "\n",
      "\n",
      "\n",
      "\n",
      "\n",
      "building tree 9 of 100\n"
     ]
    },
    {
     "name": "stderr",
     "output_type": "stream",
     "text": [
      "[Parallel(n_jobs=-1)]: Done   2 tasks      | elapsed:   24.5s\n"
     ]
    },
    {
     "name": "stdout",
     "output_type": "stream",
     "text": [
      "building tree 10 of 100\n",
      "building tree 11 of 100\n",
      "building tree 12 of 100\n",
      "building tree 13 of 100\n",
      "building tree 14 of 100\n",
      "building tree 15 of 100\n",
      "building tree 16 of 100\n",
      "building tree 17 of 100\n"
     ]
    },
    {
     "name": "stderr",
     "output_type": "stream",
     "text": [
      "[Parallel(n_jobs=-1)]: Done   9 tasks      | elapsed:   48.2s\n"
     ]
    },
    {
     "name": "stdout",
     "output_type": "stream",
     "text": [
      "building tree 18 of 100\n",
      "building tree 19 of 100\n",
      "building tree 20 of 100\n",
      "building tree 21 of 100\n",
      "building tree 22 of 100\n",
      "building tree 23 of 100\n",
      "building tree 24 of 100\n"
     ]
    },
    {
     "name": "stderr",
     "output_type": "stream",
     "text": [
      "[Parallel(n_jobs=-1)]: Done  16 tasks      | elapsed:   52.7s\n"
     ]
    },
    {
     "name": "stdout",
     "output_type": "stream",
     "text": [
      "building tree 25 of 100\n",
      "building tree 26 of 100\n",
      "building tree 27 of 100\n",
      "building tree 28 of 100\n",
      "building tree 29 of 100\n",
      "building tree 30 of 100\n",
      "building tree 31 of 100\n",
      "building tree 32 of 100\n",
      "building tree 33 of 100\n",
      "building tree 34 of 100\n"
     ]
    },
    {
     "name": "stderr",
     "output_type": "stream",
     "text": [
      "[Parallel(n_jobs=-1)]: Done  25 tasks      | elapsed:  1.6min\n"
     ]
    },
    {
     "name": "stdout",
     "output_type": "stream",
     "text": [
      "building tree 35 of 100\n",
      "building tree 36 of 100\n",
      "building tree 37 of 100\n",
      "building tree 38 of 100\n",
      "building tree 39 of 100\n",
      "building tree 40 of 100\n",
      "building tree 41 of 100\n",
      "building tree 42 of 100\n"
     ]
    },
    {
     "name": "stderr",
     "output_type": "stream",
     "text": [
      "[Parallel(n_jobs=-1)]: Done  34 tasks      | elapsed:  2.0min\n"
     ]
    },
    {
     "name": "stdout",
     "output_type": "stream",
     "text": [
      "building tree 43 of 100\n",
      "building tree 44 of 100\n",
      "building tree 45 of 100\n",
      "building tree 46 of 100\n",
      "building tree 47 of 100\n",
      "building tree 48 of 100\n",
      "building tree 49 of 100\n",
      "building tree 50 of 100\n",
      "building tree 51 of 100\n",
      "building tree 52 of 100\n",
      "building tree 53 of 100\n"
     ]
    },
    {
     "name": "stderr",
     "output_type": "stream",
     "text": [
      "[Parallel(n_jobs=-1)]: Done  45 tasks      | elapsed:  2.4min\n"
     ]
    },
    {
     "name": "stdout",
     "output_type": "stream",
     "text": [
      "building tree 54 of 100\n",
      "building tree 55 of 100\n",
      "building tree 56 of 100\n",
      "building tree 57 of 100\n",
      "building tree 58 of 100\n",
      "building tree 59 of 100\n",
      "building tree 60 of 100\n",
      "building tree 61 of 100\n",
      "building tree 62 of 100\n",
      "building tree 63 of 100\n",
      "building tree 64 of 100\n"
     ]
    },
    {
     "name": "stderr",
     "output_type": "stream",
     "text": [
      "[Parallel(n_jobs=-1)]: Done  56 tasks      | elapsed:  3.1min\n"
     ]
    },
    {
     "name": "stdout",
     "output_type": "stream",
     "text": [
      "building tree 65 of 100\n",
      "building tree 66 of 100\n",
      "building tree 67 of 100\n",
      "building tree 68 of 100\n",
      "building tree 69 of 100\n",
      "building tree 70 of 100\n",
      "building tree 71 of 100\n",
      "building tree 72 of 100\n",
      "building tree 73 of 100\n",
      "building tree 74 of 100\n",
      "building tree 75 of 100\n",
      "building tree 76 of 100\n",
      "building tree 77 of 100\n"
     ]
    },
    {
     "name": "stderr",
     "output_type": "stream",
     "text": [
      "[Parallel(n_jobs=-1)]: Done  69 tasks      | elapsed:  3.6min\n"
     ]
    },
    {
     "name": "stdout",
     "output_type": "stream",
     "text": [
      "building tree 78 of 100\n",
      "building tree 79 of 100\n",
      "building tree 80 of 100\n",
      "building tree 81 of 100\n",
      "building tree 82 of 100\n",
      "building tree 83 of 100\n",
      "building tree 84 of 100\n",
      "building tree 85 of 100\n",
      "building tree 86 of 100\n",
      "building tree 87 of 100\n",
      "building tree 88 of 100\n",
      "building tree 89 of 100\n"
     ]
    },
    {
     "name": "stderr",
     "output_type": "stream",
     "text": [
      "[Parallel(n_jobs=-1)]: Done  82 tasks      | elapsed:  4.3min\n"
     ]
    },
    {
     "name": "stdout",
     "output_type": "stream",
     "text": [
      "building tree 90 of 100\n",
      "building tree 91 of 100\n",
      "building tree 92 of 100\n",
      "building tree 93 of 100\n",
      "building tree 94 of 100\n",
      "building tree 95 of 100\n",
      "building tree 96 of 100\n",
      "building tree 97 of 100\n",
      "building tree 98 of 100\n",
      "building tree 99 of 100\n",
      "building tree 100 of 100\n"
     ]
    },
    {
     "name": "stderr",
     "output_type": "stream",
     "text": [
      "[Parallel(n_jobs=-1)]: Done  96 out of 100 | elapsed:  5.1min remaining:   12.5s\n",
      "[Parallel(n_jobs=-1)]: Done 100 out of 100 | elapsed:  5.1min finished\n",
      "[Parallel(n_jobs=8)]: Done   2 tasks      | elapsed:    0.0s\n",
      "[Parallel(n_jobs=8)]: Done   9 tasks      | elapsed:    0.0s\n",
      "[Parallel(n_jobs=8)]: Done  16 tasks      | elapsed:    0.0s\n",
      "[Parallel(n_jobs=8)]: Done  25 tasks      | elapsed:    0.0s\n",
      "[Parallel(n_jobs=8)]: Done  34 tasks      | elapsed:    0.0s\n",
      "[Parallel(n_jobs=8)]: Done  45 tasks      | elapsed:    0.0s\n",
      "[Parallel(n_jobs=8)]: Done  56 tasks      | elapsed:    0.0s\n",
      "[Parallel(n_jobs=8)]: Done  69 tasks      | elapsed:    0.0s\n",
      "[Parallel(n_jobs=8)]: Done  82 tasks      | elapsed:    0.0s\n",
      "[Parallel(n_jobs=8)]: Done  96 out of 100 | elapsed:    0.0s remaining:    0.0s\n",
      "[Parallel(n_jobs=8)]: Done 100 out of 100 | elapsed:    0.0s finished\n"
     ]
    },
    {
     "name": "stdout",
     "output_type": "stream",
     "text": [
      "building tree 3 of 100building tree 5 of 100building tree 4 of 100building tree 7 of 100building tree 6 of 100building tree 1 of 100building tree 2 of 100building tree 8 of 100\n",
      "\n",
      "\n",
      "\n",
      "\n",
      "\n",
      "\n",
      "\n",
      "building tree 9 of 100\n",
      "building tree 10 of 100\n"
     ]
    },
    {
     "name": "stderr",
     "output_type": "stream",
     "text": [
      "[Parallel(n_jobs=-1)]: Done   2 tasks      | elapsed:   24.0s\n"
     ]
    },
    {
     "name": "stdout",
     "output_type": "stream",
     "text": [
      "building tree 11 of 100\n",
      "building tree 12 of 100\n",
      "building tree 13 of 100\n",
      "building tree 14 of 100\n",
      "building tree 15 of 100\n",
      "building tree 16 of 100\n",
      "building tree 17 of 100\n"
     ]
    },
    {
     "name": "stderr",
     "output_type": "stream",
     "text": [
      "[Parallel(n_jobs=-1)]: Done   9 tasks      | elapsed:   46.2s\n"
     ]
    },
    {
     "name": "stdout",
     "output_type": "stream",
     "text": [
      "building tree 18 of 100\n",
      "building tree 19 of 100\n",
      "building tree 20 of 100\n",
      "building tree 21 of 100\n",
      "building tree 22 of 100\n",
      "building tree 23 of 100\n",
      "building tree 24 of 100\n"
     ]
    },
    {
     "name": "stderr",
     "output_type": "stream",
     "text": [
      "[Parallel(n_jobs=-1)]: Done  16 tasks      | elapsed:   51.3s\n"
     ]
    },
    {
     "name": "stdout",
     "output_type": "stream",
     "text": [
      "building tree 25 of 100\n",
      "building tree 26 of 100\n",
      "building tree 27 of 100\n",
      "building tree 28 of 100\n",
      "building tree 29 of 100\n",
      "building tree 30 of 100\n",
      "building tree 31 of 100\n",
      "building tree 32 of 100\n",
      "building tree 33 of 100\n"
     ]
    },
    {
     "name": "stderr",
     "output_type": "stream",
     "text": [
      "[Parallel(n_jobs=-1)]: Done  25 tasks      | elapsed:  1.5min\n"
     ]
    },
    {
     "name": "stdout",
     "output_type": "stream",
     "text": [
      "building tree 34 of 100\n",
      "building tree 35 of 100\n",
      "building tree 36 of 100\n",
      "building tree 37 of 100\n",
      "building tree 38 of 100\n",
      "building tree 39 of 100\n",
      "building tree 40 of 100\n",
      "building tree 41 of 100\n",
      "building tree 42 of 100\n"
     ]
    },
    {
     "name": "stderr",
     "output_type": "stream",
     "text": [
      "[Parallel(n_jobs=-1)]: Done  34 tasks      | elapsed:  1.9min\n"
     ]
    },
    {
     "name": "stdout",
     "output_type": "stream",
     "text": [
      "building tree 43 of 100\n",
      "building tree 44 of 100\n",
      "building tree 45 of 100\n",
      "building tree 46 of 100\n",
      "building tree 47 of 100\n",
      "building tree 48 of 100\n",
      "building tree 49 of 100\n",
      "building tree 50 of 100\n",
      "building tree 51 of 100\n",
      "building tree 52 of 100\n"
     ]
    },
    {
     "name": "stderr",
     "output_type": "stream",
     "text": [
      "[Parallel(n_jobs=-1)]: Done  45 tasks      | elapsed:  2.4min\n"
     ]
    },
    {
     "name": "stdout",
     "output_type": "stream",
     "text": [
      "building tree 53 of 100\n",
      "building tree 54 of 100\n",
      "building tree 55 of 100\n",
      "building tree 56 of 100\n",
      "building tree 57 of 100\n",
      "building tree 58 of 100\n",
      "building tree 59 of 100\n",
      "building tree 60 of 100\n",
      "building tree 61 of 100\n",
      "building tree 62 of 100\n",
      "building tree 63 of 100\n",
      "building tree 64 of 100\n"
     ]
    },
    {
     "name": "stderr",
     "output_type": "stream",
     "text": [
      "[Parallel(n_jobs=-1)]: Done  56 tasks      | elapsed:  2.9min\n"
     ]
    },
    {
     "name": "stdout",
     "output_type": "stream",
     "text": [
      "building tree 65 of 100\n",
      "building tree 66 of 100\n",
      "building tree 67 of 100\n",
      "building tree 68 of 100\n",
      "building tree 69 of 100\n",
      "building tree 70 of 100\n",
      "building tree 71 of 100\n",
      "building tree 72 of 100\n",
      "building tree 73 of 100\n",
      "building tree 74 of 100\n",
      "building tree 75 of 100\n",
      "building tree 76 of 100\n",
      "building tree 77 of 100\n"
     ]
    },
    {
     "name": "stderr",
     "output_type": "stream",
     "text": [
      "[Parallel(n_jobs=-1)]: Done  69 tasks      | elapsed:  3.7min\n"
     ]
    },
    {
     "name": "stdout",
     "output_type": "stream",
     "text": [
      "building tree 78 of 100\n",
      "building tree 79 of 100\n",
      "building tree 80 of 100\n",
      "building tree 81 of 100\n",
      "building tree 82 of 100\n",
      "building tree 83 of 100\n",
      "building tree 84 of 100\n",
      "building tree 85 of 100\n",
      "building tree 86 of 100\n",
      "building tree 87 of 100\n",
      "building tree 88 of 100\n",
      "building tree 89 of 100\n",
      "building tree 90 of 100\n"
     ]
    },
    {
     "name": "stderr",
     "output_type": "stream",
     "text": [
      "[Parallel(n_jobs=-1)]: Done  82 tasks      | elapsed:  4.2min\n"
     ]
    },
    {
     "name": "stdout",
     "output_type": "stream",
     "text": [
      "building tree 91 of 100\n",
      "building tree 92 of 100\n",
      "building tree 93 of 100\n",
      "building tree 94 of 100\n",
      "building tree 95 of 100\n",
      "building tree 96 of 100\n",
      "building tree 97 of 100\n",
      "building tree 98 of 100\n",
      "building tree 99 of 100\n",
      "building tree 100 of 100\n"
     ]
    },
    {
     "name": "stderr",
     "output_type": "stream",
     "text": [
      "[Parallel(n_jobs=-1)]: Done  96 out of 100 | elapsed:  4.9min remaining:   12.2s\n",
      "[Parallel(n_jobs=-1)]: Done 100 out of 100 | elapsed:  5.1min finished\n",
      "[Parallel(n_jobs=8)]: Done   2 tasks      | elapsed:    0.0s\n",
      "[Parallel(n_jobs=8)]: Done   9 tasks      | elapsed:    0.0s\n",
      "[Parallel(n_jobs=8)]: Done  16 tasks      | elapsed:    0.0s\n",
      "[Parallel(n_jobs=8)]: Done  25 tasks      | elapsed:    0.0s\n",
      "[Parallel(n_jobs=8)]: Done  34 tasks      | elapsed:    0.0s\n",
      "[Parallel(n_jobs=8)]: Done  45 tasks      | elapsed:    0.0s\n",
      "[Parallel(n_jobs=8)]: Done  56 tasks      | elapsed:    0.0s\n",
      "[Parallel(n_jobs=8)]: Done  69 tasks      | elapsed:    0.0s\n",
      "[Parallel(n_jobs=8)]: Done  82 tasks      | elapsed:    0.0s\n",
      "[Parallel(n_jobs=8)]: Done  96 out of 100 | elapsed:    0.0s remaining:    0.0s\n",
      "[Parallel(n_jobs=8)]: Done 100 out of 100 | elapsed:    0.0s finished\n"
     ]
    },
    {
     "name": "stdout",
     "output_type": "stream",
     "text": [
      "building tree 2 of 100\n",
      "building tree 1 of 100building tree 3 of 100building tree 4 of 100building tree 5 of 100building tree 6 of 100building tree 8 of 100building tree 7 of 100\n",
      "\n",
      "\n",
      "\n",
      "\n",
      "\n",
      "\n",
      "building tree 9 of 100\n"
     ]
    },
    {
     "name": "stderr",
     "output_type": "stream",
     "text": [
      "[Parallel(n_jobs=-1)]: Done   2 tasks      | elapsed:   22.8s\n"
     ]
    },
    {
     "name": "stdout",
     "output_type": "stream",
     "text": [
      "building tree 10 of 100\n",
      "building tree 11 of 100\n",
      "building tree 12 of 100\n",
      "building tree 13 of 100\n",
      "building tree 14 of 100\n",
      "building tree 15 of 100\n",
      "building tree 16 of 100\n",
      "building tree 17 of 100\n",
      "building tree 18 of 100\n",
      "building tree 19 of 100\n"
     ]
    },
    {
     "name": "stderr",
     "output_type": "stream",
     "text": [
      "[Parallel(n_jobs=-1)]: Done   9 tasks      | elapsed:   45.7s\n"
     ]
    },
    {
     "name": "stdout",
     "output_type": "stream",
     "text": [
      "building tree 20 of 100\n",
      "building tree 21 of 100\n",
      "building tree 22 of 100\n",
      "building tree 23 of 100\n",
      "building tree 24 of 100\n"
     ]
    },
    {
     "name": "stderr",
     "output_type": "stream",
     "text": [
      "[Parallel(n_jobs=-1)]: Done  16 tasks      | elapsed:   47.3s\n"
     ]
    },
    {
     "name": "stdout",
     "output_type": "stream",
     "text": [
      "building tree 25 of 100\n",
      "building tree 26 of 100\n",
      "building tree 27 of 100\n",
      "building tree 28 of 100\n",
      "building tree 29 of 100\n",
      "building tree 30 of 100\n",
      "building tree 31 of 100\n",
      "building tree 32 of 100\n",
      "building tree 33 of 100\n"
     ]
    },
    {
     "name": "stderr",
     "output_type": "stream",
     "text": [
      "[Parallel(n_jobs=-1)]: Done  25 tasks      | elapsed:  1.5min\n"
     ]
    },
    {
     "name": "stdout",
     "output_type": "stream",
     "text": [
      "building tree 34 of 100\n",
      "building tree 35 of 100\n",
      "building tree 36 of 100\n",
      "building tree 37 of 100\n",
      "building tree 38 of 100\n",
      "building tree 39 of 100\n",
      "building tree 40 of 100\n",
      "building tree 41 of 100\n"
     ]
    },
    {
     "name": "stderr",
     "output_type": "stream",
     "text": [
      "[Parallel(n_jobs=-1)]: Done  34 tasks      | elapsed:  1.9min\n"
     ]
    },
    {
     "name": "stdout",
     "output_type": "stream",
     "text": [
      "building tree 42 of 100\n",
      "building tree 43 of 100\n",
      "building tree 44 of 100\n",
      "building tree 45 of 100\n",
      "building tree 46 of 100\n",
      "building tree 47 of 100\n",
      "building tree 48 of 100\n",
      "building tree 49 of 100\n",
      "building tree 50 of 100\n",
      "building tree 51 of 100\n",
      "building tree 52 of 100\n"
     ]
    },
    {
     "name": "stderr",
     "output_type": "stream",
     "text": [
      "[Parallel(n_jobs=-1)]: Done  45 tasks      | elapsed:  2.4min\n"
     ]
    },
    {
     "name": "stdout",
     "output_type": "stream",
     "text": [
      "building tree 53 of 100\n",
      "building tree 54 of 100\n",
      "building tree 55 of 100\n",
      "building tree 56 of 100\n",
      "building tree 57 of 100\n",
      "building tree 58 of 100\n",
      "building tree 59 of 100\n",
      "building tree 60 of 100\n",
      "building tree 61 of 100\n",
      "building tree 62 of 100\n",
      "building tree 63 of 100\n",
      "building tree 64 of 100\n"
     ]
    },
    {
     "name": "stderr",
     "output_type": "stream",
     "text": [
      "[Parallel(n_jobs=-1)]: Done  56 tasks      | elapsed:  2.8min\n"
     ]
    },
    {
     "name": "stdout",
     "output_type": "stream",
     "text": [
      "building tree 65 of 100\n",
      "building tree 66 of 100\n",
      "building tree 67 of 100\n",
      "building tree 68 of 100\n",
      "building tree 69 of 100\n",
      "building tree 70 of 100\n",
      "building tree 71 of 100\n",
      "building tree 72 of 100\n",
      "building tree 73 of 100\n",
      "building tree 74 of 100\n",
      "building tree 75 of 100\n",
      "building tree 76 of 100\n",
      "building tree 77 of 100\n"
     ]
    },
    {
     "name": "stderr",
     "output_type": "stream",
     "text": [
      "[Parallel(n_jobs=-1)]: Done  69 tasks      | elapsed:  3.6min\n"
     ]
    },
    {
     "name": "stdout",
     "output_type": "stream",
     "text": [
      "building tree 78 of 100\n",
      "building tree 79 of 100\n",
      "building tree 80 of 100\n",
      "building tree 81 of 100\n",
      "building tree 82 of 100\n",
      "building tree 83 of 100\n",
      "building tree 84 of 100\n",
      "building tree 85 of 100\n",
      "building tree 86 of 100\n",
      "building tree 87 of 100\n",
      "building tree 88 of 100\n",
      "building tree 89 of 100\n",
      "building tree 90 of 100\n"
     ]
    },
    {
     "name": "stderr",
     "output_type": "stream",
     "text": [
      "[Parallel(n_jobs=-1)]: Done  82 tasks      | elapsed:  4.3min\n"
     ]
    },
    {
     "name": "stdout",
     "output_type": "stream",
     "text": [
      "building tree 91 of 100\n",
      "building tree 92 of 100\n",
      "building tree 93 of 100\n",
      "building tree 94 of 100\n",
      "building tree 95 of 100\n",
      "building tree 96 of 100\n",
      "building tree 97 of 100\n",
      "building tree 98 of 100\n",
      "building tree 99 of 100\n",
      "building tree 100 of 100\n"
     ]
    },
    {
     "name": "stderr",
     "output_type": "stream",
     "text": [
      "[Parallel(n_jobs=-1)]: Done  96 out of 100 | elapsed:  4.9min remaining:   12.2s\n",
      "[Parallel(n_jobs=-1)]: Done 100 out of 100 | elapsed:  5.1min finished\n",
      "[Parallel(n_jobs=8)]: Done   2 tasks      | elapsed:    0.0s\n",
      "[Parallel(n_jobs=8)]: Done   9 tasks      | elapsed:    0.0s\n",
      "[Parallel(n_jobs=8)]: Done  16 tasks      | elapsed:    0.0s\n",
      "[Parallel(n_jobs=8)]: Done  25 tasks      | elapsed:    0.0s\n",
      "[Parallel(n_jobs=8)]: Done  34 tasks      | elapsed:    0.0s\n",
      "[Parallel(n_jobs=8)]: Done  45 tasks      | elapsed:    0.0s\n",
      "[Parallel(n_jobs=8)]: Done  56 tasks      | elapsed:    0.0s\n",
      "[Parallel(n_jobs=8)]: Done  69 tasks      | elapsed:    0.0s\n",
      "[Parallel(n_jobs=8)]: Done  82 tasks      | elapsed:    0.0s\n",
      "[Parallel(n_jobs=8)]: Done  96 out of 100 | elapsed:    0.0s remaining:    0.0s\n",
      "[Parallel(n_jobs=8)]: Done 100 out of 100 | elapsed:    0.0s finished\n"
     ]
    },
    {
     "name": "stdout",
     "output_type": "stream",
     "text": [
      "building tree 2 of 100building tree 3 of 100building tree 1 of 100building tree 4 of 100building tree 5 of 100building tree 6 of 100building tree 7 of 100building tree 8 of 100\n",
      "\n",
      "\n",
      "\n",
      "\n",
      "\n",
      "\n",
      "\n",
      "building tree 9 of 100\n"
     ]
    },
    {
     "name": "stderr",
     "output_type": "stream",
     "text": [
      "[Parallel(n_jobs=-1)]: Done   2 tasks      | elapsed:   22.8s\n"
     ]
    },
    {
     "name": "stdout",
     "output_type": "stream",
     "text": [
      "building tree 10 of 100\n",
      "building tree 11 of 100\n",
      "building tree 12 of 100\n",
      "building tree 13 of 100\n",
      "building tree 14 of 100\n",
      "building tree 15 of 100\n",
      "building tree 16 of 100\n",
      "building tree 17 of 100\n"
     ]
    },
    {
     "name": "stderr",
     "output_type": "stream",
     "text": [
      "[Parallel(n_jobs=-1)]: Done   9 tasks      | elapsed:   46.7s\n"
     ]
    },
    {
     "name": "stdout",
     "output_type": "stream",
     "text": [
      "building tree 18 of 100\n",
      "building tree 19 of 100\n",
      "building tree 20 of 100\n",
      "building tree 21 of 100\n",
      "building tree 22 of 100\n",
      "building tree 23 of 100\n",
      "building tree 24 of 100\n"
     ]
    },
    {
     "name": "stderr",
     "output_type": "stream",
     "text": [
      "[Parallel(n_jobs=-1)]: Done  16 tasks      | elapsed:   51.2s\n"
     ]
    },
    {
     "name": "stdout",
     "output_type": "stream",
     "text": [
      "building tree 25 of 100\n",
      "building tree 26 of 100\n",
      "building tree 27 of 100\n",
      "building tree 28 of 100\n",
      "building tree 29 of 100\n",
      "building tree 30 of 100\n",
      "building tree 31 of 100\n",
      "building tree 32 of 100\n"
     ]
    },
    {
     "name": "stderr",
     "output_type": "stream",
     "text": [
      "[Parallel(n_jobs=-1)]: Done  25 tasks      | elapsed:  1.6min\n"
     ]
    },
    {
     "name": "stdout",
     "output_type": "stream",
     "text": [
      "building tree 33 of 100\n",
      "building tree 34 of 100\n",
      "building tree 35 of 100\n",
      "building tree 36 of 100\n",
      "building tree 37 of 100\n",
      "building tree 38 of 100\n",
      "building tree 39 of 100\n",
      "building tree 40 of 100\n",
      "building tree 41 of 100\n",
      "building tree 42 of 100\n"
     ]
    },
    {
     "name": "stderr",
     "output_type": "stream",
     "text": [
      "[Parallel(n_jobs=-1)]: Done  34 tasks      | elapsed:  2.0min\n"
     ]
    },
    {
     "name": "stdout",
     "output_type": "stream",
     "text": [
      "building tree 43 of 100\n",
      "building tree 44 of 100\n",
      "building tree 45 of 100\n",
      "building tree 46 of 100\n",
      "building tree 47 of 100\n",
      "building tree 48 of 100\n",
      "building tree 49 of 100\n",
      "building tree 50 of 100\n",
      "building tree 51 of 100\n",
      "building tree 52 of 100\n",
      "building tree 53 of 100\n"
     ]
    },
    {
     "name": "stderr",
     "output_type": "stream",
     "text": [
      "[Parallel(n_jobs=-1)]: Done  45 tasks      | elapsed:  2.4min\n"
     ]
    },
    {
     "name": "stdout",
     "output_type": "stream",
     "text": [
      "building tree 54 of 100\n",
      "building tree 55 of 100\n",
      "building tree 56 of 100\n",
      "building tree 57 of 100\n",
      "building tree 58 of 100\n",
      "building tree 59 of 100\n",
      "building tree 60 of 100\n",
      "building tree 61 of 100\n",
      "building tree 62 of 100\n",
      "building tree 63 of 100\n",
      "building tree 64 of 100\n"
     ]
    },
    {
     "name": "stderr",
     "output_type": "stream",
     "text": [
      "[Parallel(n_jobs=-1)]: Done  56 tasks      | elapsed:  2.9min\n"
     ]
    },
    {
     "name": "stdout",
     "output_type": "stream",
     "text": [
      "building tree 65 of 100\n",
      "building tree 66 of 100\n",
      "building tree 67 of 100\n",
      "building tree 68 of 100\n",
      "building tree 69 of 100\n",
      "building tree 70 of 100\n",
      "building tree 71 of 100\n",
      "building tree 72 of 100\n",
      "building tree 73 of 100\n",
      "building tree 74 of 100\n",
      "building tree 75 of 100\n",
      "building tree 76 of 100\n",
      "building tree 77 of 100\n"
     ]
    },
    {
     "name": "stderr",
     "output_type": "stream",
     "text": [
      "[Parallel(n_jobs=-1)]: Done  69 tasks      | elapsed:  3.6min\n"
     ]
    },
    {
     "name": "stdout",
     "output_type": "stream",
     "text": [
      "building tree 78 of 100\n",
      "building tree 79 of 100\n",
      "building tree 80 of 100\n",
      "building tree 81 of 100\n",
      "building tree 82 of 100\n",
      "building tree 83 of 100\n",
      "building tree 84 of 100\n",
      "building tree 85 of 100\n",
      "building tree 86 of 100\n",
      "building tree 87 of 100\n",
      "building tree 88 of 100\n",
      "building tree 89 of 100\n",
      "building tree 90 of 100\n"
     ]
    },
    {
     "name": "stderr",
     "output_type": "stream",
     "text": [
      "[Parallel(n_jobs=-1)]: Done  82 tasks      | elapsed:  4.4min\n"
     ]
    },
    {
     "name": "stdout",
     "output_type": "stream",
     "text": [
      "building tree 91 of 100\n",
      "building tree 92 of 100\n",
      "building tree 93 of 100\n",
      "building tree 94 of 100\n",
      "building tree 95 of 100\n",
      "building tree 96 of 100\n",
      "building tree 97 of 100\n",
      "building tree 98 of 100\n",
      "building tree 99 of 100\n",
      "building tree 100 of 100\n"
     ]
    },
    {
     "name": "stderr",
     "output_type": "stream",
     "text": [
      "[Parallel(n_jobs=-1)]: Done  96 out of 100 | elapsed:  5.1min remaining:   12.8s\n",
      "[Parallel(n_jobs=-1)]: Done 100 out of 100 | elapsed:  5.2min finished\n",
      "[Parallel(n_jobs=8)]: Done   2 tasks      | elapsed:    0.0s\n",
      "[Parallel(n_jobs=8)]: Done   9 tasks      | elapsed:    0.0s\n",
      "[Parallel(n_jobs=8)]: Done  16 tasks      | elapsed:    0.0s\n",
      "[Parallel(n_jobs=8)]: Done  25 tasks      | elapsed:    0.0s\n",
      "[Parallel(n_jobs=8)]: Done  34 tasks      | elapsed:    0.0s\n",
      "[Parallel(n_jobs=8)]: Done  45 tasks      | elapsed:    0.0s\n",
      "[Parallel(n_jobs=8)]: Done  56 tasks      | elapsed:    0.0s\n",
      "[Parallel(n_jobs=8)]: Done  69 tasks      | elapsed:    0.0s\n",
      "[Parallel(n_jobs=8)]: Done  82 tasks      | elapsed:    0.0s\n",
      "[Parallel(n_jobs=8)]: Done  96 out of 100 | elapsed:    0.0s remaining:    0.0s\n",
      "[Parallel(n_jobs=8)]: Done 100 out of 100 | elapsed:    0.0s finished\n"
     ]
    },
    {
     "name": "stdout",
     "output_type": "stream",
     "text": [
      "building tree 1 of 100building tree 2 of 100building tree 3 of 100building tree 6 of 100building tree 4 of 100building tree 5 of 100building tree 7 of 100building tree 8 of 100\n",
      "\n",
      "\n",
      "\n",
      "\n",
      "\n",
      "\n",
      "\n",
      "building tree 9 of 100\n"
     ]
    },
    {
     "name": "stderr",
     "output_type": "stream",
     "text": [
      "[Parallel(n_jobs=-1)]: Done   2 tasks      | elapsed:   24.4s\n"
     ]
    },
    {
     "name": "stdout",
     "output_type": "stream",
     "text": [
      "building tree 10 of 100\n",
      "building tree 11 of 100\n",
      "building tree 12 of 100\n",
      "building tree 13 of 100\n",
      "building tree 14 of 100\n",
      "building tree 15 of 100\n",
      "building tree 16 of 100\n",
      "building tree 17 of 100\n",
      "building tree 18 of 100\n"
     ]
    },
    {
     "name": "stderr",
     "output_type": "stream",
     "text": [
      "[Parallel(n_jobs=-1)]: Done   9 tasks      | elapsed:   48.9s\n"
     ]
    },
    {
     "name": "stdout",
     "output_type": "stream",
     "text": [
      "building tree 19 of 100\n",
      "building tree 20 of 100\n",
      "building tree 21 of 100\n",
      "building tree 22 of 100\n",
      "building tree 23 of 100\n"
     ]
    },
    {
     "name": "stderr",
     "output_type": "stream",
     "text": [
      "[Parallel(n_jobs=-1)]: Done  16 tasks      | elapsed:  1.2min\n"
     ]
    },
    {
     "name": "stdout",
     "output_type": "stream",
     "text": [
      "building tree 24 of 100\n",
      "building tree 25 of 100\n",
      "building tree 26 of 100\n",
      "building tree 27 of 100\n",
      "building tree 28 of 100\n",
      "building tree 29 of 100\n",
      "building tree 30 of 100\n",
      "building tree 31 of 100\n",
      "building tree 32 of 100\n",
      "building tree 33 of 100\n"
     ]
    },
    {
     "name": "stderr",
     "output_type": "stream",
     "text": [
      "[Parallel(n_jobs=-1)]: Done  25 tasks      | elapsed:  1.6min\n"
     ]
    },
    {
     "name": "stdout",
     "output_type": "stream",
     "text": [
      "building tree 34 of 100\n",
      "building tree 35 of 100\n",
      "building tree 36 of 100\n",
      "building tree 37 of 100\n",
      "building tree 38 of 100\n",
      "building tree 39 of 100\n",
      "building tree 40 of 100\n",
      "building tree 41 of 100\n",
      "building tree 42 of 100\n"
     ]
    },
    {
     "name": "stderr",
     "output_type": "stream",
     "text": [
      "[Parallel(n_jobs=-1)]: Done  34 tasks      | elapsed:  2.0min\n"
     ]
    },
    {
     "name": "stdout",
     "output_type": "stream",
     "text": [
      "building tree 43 of 100\n",
      "building tree 44 of 100\n",
      "building tree 45 of 100\n",
      "building tree 46 of 100\n",
      "building tree 47 of 100\n",
      "building tree 48 of 100\n",
      "building tree 49 of 100\n",
      "building tree 50 of 100\n",
      "building tree 51 of 100\n",
      "building tree 52 of 100\n",
      "building tree 53 of 100\n"
     ]
    },
    {
     "name": "stderr",
     "output_type": "stream",
     "text": [
      "[Parallel(n_jobs=-1)]: Done  45 tasks      | elapsed:  2.5min\n"
     ]
    },
    {
     "name": "stdout",
     "output_type": "stream",
     "text": [
      "building tree 54 of 100\n",
      "building tree 55 of 100\n",
      "building tree 56 of 100\n",
      "building tree 57 of 100\n",
      "building tree 58 of 100\n",
      "building tree 59 of 100\n",
      "building tree 60 of 100\n",
      "building tree 61 of 100\n",
      "building tree 62 of 100\n",
      "building tree 63 of 100\n",
      "building tree 64 of 100\n"
     ]
    },
    {
     "name": "stderr",
     "output_type": "stream",
     "text": [
      "[Parallel(n_jobs=-1)]: Done  56 tasks      | elapsed:  3.2min\n"
     ]
    },
    {
     "name": "stdout",
     "output_type": "stream",
     "text": [
      "building tree 65 of 100\n",
      "building tree 66 of 100\n",
      "building tree 67 of 100\n",
      "building tree 68 of 100\n",
      "building tree 69 of 100\n",
      "building tree 70 of 100\n",
      "building tree 71 of 100\n",
      "building tree 72 of 100\n",
      "building tree 73 of 100\n",
      "building tree 74 of 100\n",
      "building tree 75 of 100\n",
      "building tree 76 of 100\n",
      "building tree 77 of 100\n"
     ]
    },
    {
     "name": "stderr",
     "output_type": "stream",
     "text": [
      "[Parallel(n_jobs=-1)]: Done  69 tasks      | elapsed:  3.7min\n"
     ]
    },
    {
     "name": "stdout",
     "output_type": "stream",
     "text": [
      "building tree 78 of 100\n",
      "building tree 79 of 100\n",
      "building tree 80 of 100\n",
      "building tree 81 of 100\n",
      "building tree 82 of 100\n",
      "building tree 83 of 100\n",
      "building tree 84 of 100\n",
      "building tree 85 of 100\n",
      "building tree 86 of 100\n",
      "building tree 87 of 100\n",
      "building tree 88 of 100\n",
      "building tree 89 of 100\n"
     ]
    },
    {
     "name": "stderr",
     "output_type": "stream",
     "text": [
      "[Parallel(n_jobs=-1)]: Done  82 tasks      | elapsed:  4.4min\n"
     ]
    },
    {
     "name": "stdout",
     "output_type": "stream",
     "text": [
      "building tree 90 of 100\n",
      "building tree 91 of 100\n",
      "building tree 92 of 100\n",
      "building tree 93 of 100\n",
      "building tree 94 of 100\n",
      "building tree 95 of 100\n",
      "building tree 96 of 100\n",
      "building tree 97 of 100\n",
      "building tree 98 of 100\n",
      "building tree 99 of 100\n",
      "building tree 100 of 100\n"
     ]
    },
    {
     "name": "stderr",
     "output_type": "stream",
     "text": [
      "[Parallel(n_jobs=-1)]: Done  96 out of 100 | elapsed:  5.2min remaining:   12.8s\n",
      "[Parallel(n_jobs=-1)]: Done 100 out of 100 | elapsed:  5.2min finished\n",
      "[Parallel(n_jobs=8)]: Done   2 tasks      | elapsed:    0.0s\n",
      "[Parallel(n_jobs=8)]: Done   9 tasks      | elapsed:    0.0s\n",
      "[Parallel(n_jobs=8)]: Done  16 tasks      | elapsed:    0.0s\n",
      "[Parallel(n_jobs=8)]: Done  25 tasks      | elapsed:    0.0s\n",
      "[Parallel(n_jobs=8)]: Done  34 tasks      | elapsed:    0.0s\n",
      "[Parallel(n_jobs=8)]: Done  45 tasks      | elapsed:    0.0s\n",
      "[Parallel(n_jobs=8)]: Done  56 tasks      | elapsed:    0.0s\n",
      "[Parallel(n_jobs=8)]: Done  69 tasks      | elapsed:    0.0s\n",
      "[Parallel(n_jobs=8)]: Done  82 tasks      | elapsed:    0.0s\n",
      "[Parallel(n_jobs=8)]: Done  96 out of 100 | elapsed:    0.0s remaining:    0.0s\n",
      "[Parallel(n_jobs=8)]: Done 100 out of 100 | elapsed:    0.0s finished\n"
     ]
    },
    {
     "name": "stdout",
     "output_type": "stream",
     "text": [
      "building tree 1 of 100\n",
      "building tree 2 of 100building tree 3 of 100building tree 7 of 100building tree 8 of 100building tree 6 of 100building tree 4 of 100building tree 5 of 100\n",
      "\n",
      "\n",
      "\n",
      "\n",
      "\n",
      "\n",
      "building tree 9 of 100\n",
      "building tree 10 of 100\n",
      "building tree 11 of 100\n"
     ]
    },
    {
     "name": "stderr",
     "output_type": "stream",
     "text": [
      "[Parallel(n_jobs=-1)]: Done   2 tasks      | elapsed:   23.0s\n"
     ]
    },
    {
     "name": "stdout",
     "output_type": "stream",
     "text": [
      "building tree 12 of 100\n",
      "building tree 13 of 100\n",
      "building tree 14 of 100\n",
      "building tree 15 of 100\n",
      "building tree 16 of 100\n",
      "building tree 17 of 100\n"
     ]
    },
    {
     "name": "stderr",
     "output_type": "stream",
     "text": [
      "[Parallel(n_jobs=-1)]: Done   9 tasks      | elapsed:   45.9s\n"
     ]
    },
    {
     "name": "stdout",
     "output_type": "stream",
     "text": [
      "building tree 18 of 100\n",
      "building tree 19 of 100\n",
      "building tree 20 of 100\n",
      "building tree 21 of 100\n",
      "building tree 22 of 100\n",
      "building tree 23 of 100\n"
     ]
    },
    {
     "name": "stderr",
     "output_type": "stream",
     "text": [
      "[Parallel(n_jobs=-1)]: Done  16 tasks      | elapsed:   49.5s\n"
     ]
    },
    {
     "name": "stdout",
     "output_type": "stream",
     "text": [
      "building tree 24 of 100\n",
      "building tree 25 of 100\n",
      "building tree 26 of 100\n",
      "building tree 27 of 100\n",
      "building tree 28 of 100\n",
      "building tree 29 of 100\n",
      "building tree 30 of 100\n",
      "building tree 31 of 100\n",
      "building tree 32 of 100\n",
      "building tree 33 of 100\n",
      "building tree 34 of 100\n"
     ]
    },
    {
     "name": "stderr",
     "output_type": "stream",
     "text": [
      "[Parallel(n_jobs=-1)]: Done  25 tasks      | elapsed:  1.5min\n"
     ]
    },
    {
     "name": "stdout",
     "output_type": "stream",
     "text": [
      "building tree 35 of 100\n",
      "building tree 36 of 100\n",
      "building tree 37 of 100\n",
      "building tree 38 of 100\n",
      "building tree 39 of 100\n",
      "building tree 40 of 100\n",
      "building tree 41 of 100\n",
      "building tree 42 of 100\n"
     ]
    },
    {
     "name": "stderr",
     "output_type": "stream",
     "text": [
      "[Parallel(n_jobs=-1)]: Done  34 tasks      | elapsed:  1.9min\n"
     ]
    },
    {
     "name": "stdout",
     "output_type": "stream",
     "text": [
      "building tree 43 of 100\n",
      "building tree 44 of 100\n",
      "building tree 45 of 100\n",
      "building tree 46 of 100\n",
      "building tree 47 of 100\n",
      "building tree 48 of 100\n",
      "building tree 49 of 100\n",
      "building tree 50 of 100\n",
      "building tree 51 of 100\n",
      "building tree 52 of 100\n",
      "building tree 53 of 100\n"
     ]
    },
    {
     "name": "stderr",
     "output_type": "stream",
     "text": [
      "[Parallel(n_jobs=-1)]: Done  45 tasks      | elapsed:  2.4min\n"
     ]
    },
    {
     "name": "stdout",
     "output_type": "stream",
     "text": [
      "building tree 54 of 100\n",
      "building tree 55 of 100\n",
      "building tree 56 of 100\n",
      "building tree 57 of 100\n",
      "building tree 58 of 100\n",
      "building tree 59 of 100\n",
      "building tree 60 of 100\n",
      "building tree 61 of 100\n",
      "building tree 62 of 100\n",
      "building tree 63 of 100\n"
     ]
    },
    {
     "name": "stderr",
     "output_type": "stream",
     "text": [
      "[Parallel(n_jobs=-1)]: Done  56 tasks      | elapsed:  2.9min\n"
     ]
    },
    {
     "name": "stdout",
     "output_type": "stream",
     "text": [
      "building tree 64 of 100\n",
      "building tree 65 of 100\n",
      "building tree 66 of 100\n",
      "building tree 67 of 100\n",
      "building tree 68 of 100\n",
      "building tree 69 of 100\n",
      "building tree 70 of 100\n",
      "building tree 71 of 100\n",
      "building tree 72 of 100\n",
      "building tree 73 of 100\n",
      "building tree 74 of 100\n",
      "building tree 75 of 100\n",
      "building tree 76 of 100\n"
     ]
    },
    {
     "name": "stderr",
     "output_type": "stream",
     "text": [
      "[Parallel(n_jobs=-1)]: Done  69 tasks      | elapsed:  3.6min\n"
     ]
    },
    {
     "name": "stdout",
     "output_type": "stream",
     "text": [
      "building tree 77 of 100\n",
      "building tree 78 of 100\n",
      "building tree 79 of 100\n",
      "building tree 80 of 100\n",
      "building tree 81 of 100\n",
      "building tree 82 of 100\n",
      "building tree 83 of 100\n",
      "building tree 84 of 100\n",
      "building tree 85 of 100\n",
      "building tree 86 of 100\n",
      "building tree 87 of 100\n",
      "building tree 88 of 100\n",
      "building tree 89 of 100\n",
      "building tree 90 of 100\n",
      "building tree 91 of 100\n"
     ]
    },
    {
     "name": "stderr",
     "output_type": "stream",
     "text": [
      "[Parallel(n_jobs=-1)]: Done  82 tasks      | elapsed:  4.4min\n"
     ]
    },
    {
     "name": "stdout",
     "output_type": "stream",
     "text": [
      "building tree 92 of 100\n",
      "building tree 93 of 100\n",
      "building tree 94 of 100\n",
      "building tree 95 of 100\n",
      "building tree 96 of 100\n",
      "building tree 97 of 100\n",
      "building tree 98 of 100\n",
      "building tree 99 of 100\n",
      "building tree 100 of 100\n"
     ]
    },
    {
     "name": "stderr",
     "output_type": "stream",
     "text": [
      "[Parallel(n_jobs=-1)]: Done  96 out of 100 | elapsed:  5.0min remaining:   12.4s\n",
      "[Parallel(n_jobs=-1)]: Done 100 out of 100 | elapsed:  5.1min finished\n",
      "[Parallel(n_jobs=8)]: Done   2 tasks      | elapsed:    0.0s\n",
      "[Parallel(n_jobs=8)]: Done   9 tasks      | elapsed:    0.0s\n",
      "[Parallel(n_jobs=8)]: Done  16 tasks      | elapsed:    0.0s\n",
      "[Parallel(n_jobs=8)]: Done  25 tasks      | elapsed:    0.0s\n",
      "[Parallel(n_jobs=8)]: Done  34 tasks      | elapsed:    0.0s\n",
      "[Parallel(n_jobs=8)]: Done  45 tasks      | elapsed:    0.0s\n",
      "[Parallel(n_jobs=8)]: Done  56 tasks      | elapsed:    0.0s\n",
      "[Parallel(n_jobs=8)]: Done  69 tasks      | elapsed:    0.0s\n",
      "[Parallel(n_jobs=8)]: Done  82 tasks      | elapsed:    0.0s\n",
      "[Parallel(n_jobs=8)]: Done  96 out of 100 | elapsed:    0.0s remaining:    0.0s\n",
      "[Parallel(n_jobs=8)]: Done 100 out of 100 | elapsed:    0.0s finished\n"
     ]
    },
    {
     "name": "stdout",
     "output_type": "stream",
     "text": [
      "building tree 1 of 100\n",
      "building tree 2 of 100building tree 3 of 100building tree 4 of 100building tree 5 of 100building tree 6 of 100building tree 7 of 100building tree 8 of 100\n",
      "\n",
      "\n",
      "\n",
      "\n",
      "\n",
      "\n",
      "building tree 9 of 100\n",
      "building tree 10 of 100\n"
     ]
    },
    {
     "name": "stderr",
     "output_type": "stream",
     "text": [
      "[Parallel(n_jobs=-1)]: Done   2 tasks      | elapsed:   22.3s\n"
     ]
    },
    {
     "name": "stdout",
     "output_type": "stream",
     "text": [
      "building tree 11 of 100\n",
      "building tree 12 of 100\n",
      "building tree 13 of 100\n",
      "building tree 14 of 100\n",
      "building tree 15 of 100\n",
      "building tree 16 of 100\n"
     ]
    },
    {
     "name": "stderr",
     "output_type": "stream",
     "text": [
      "[Parallel(n_jobs=-1)]: Done   9 tasks      | elapsed:   46.1s\n"
     ]
    },
    {
     "name": "stdout",
     "output_type": "stream",
     "text": [
      "building tree 17 of 100\n",
      "building tree 18 of 100\n",
      "building tree 19 of 100\n",
      "building tree 20 of 100\n",
      "building tree 21 of 100\n",
      "building tree 22 of 100\n",
      "building tree 23 of 100\n",
      "building tree 24 of 100\n"
     ]
    },
    {
     "name": "stderr",
     "output_type": "stream",
     "text": [
      "[Parallel(n_jobs=-1)]: Done  16 tasks      | elapsed:   52.1s\n"
     ]
    },
    {
     "name": "stdout",
     "output_type": "stream",
     "text": [
      "building tree 25 of 100\n",
      "building tree 26 of 100\n",
      "building tree 27 of 100\n",
      "building tree 28 of 100\n",
      "building tree 29 of 100\n",
      "building tree 30 of 100\n",
      "building tree 31 of 100\n",
      "building tree 32 of 100\n"
     ]
    },
    {
     "name": "stderr",
     "output_type": "stream",
     "text": [
      "[Parallel(n_jobs=-1)]: Done  25 tasks      | elapsed:  1.6min\n"
     ]
    },
    {
     "name": "stdout",
     "output_type": "stream",
     "text": [
      "building tree 33 of 100\n",
      "building tree 34 of 100\n",
      "building tree 35 of 100\n",
      "building tree 36 of 100\n",
      "building tree 37 of 100\n",
      "building tree 38 of 100\n",
      "building tree 39 of 100\n",
      "building tree 40 of 100\n",
      "building tree 41 of 100\n"
     ]
    },
    {
     "name": "stderr",
     "output_type": "stream",
     "text": [
      "[Parallel(n_jobs=-1)]: Done  34 tasks      | elapsed:  2.0min\n"
     ]
    },
    {
     "name": "stdout",
     "output_type": "stream",
     "text": [
      "building tree 42 of 100\n",
      "building tree 43 of 100\n",
      "building tree 44 of 100\n",
      "building tree 45 of 100\n",
      "building tree 46 of 100\n",
      "building tree 47 of 100\n",
      "building tree 48 of 100\n",
      "building tree 49 of 100\n",
      "building tree 50 of 100\n",
      "building tree 51 of 100\n",
      "building tree 52 of 100\n"
     ]
    },
    {
     "name": "stderr",
     "output_type": "stream",
     "text": [
      "[Parallel(n_jobs=-1)]: Done  45 tasks      | elapsed:  2.4min\n"
     ]
    },
    {
     "name": "stdout",
     "output_type": "stream",
     "text": [
      "building tree 53 of 100\n",
      "building tree 54 of 100\n",
      "building tree 55 of 100\n",
      "building tree 56 of 100\n",
      "building tree 57 of 100\n",
      "building tree 58 of 100\n",
      "building tree 59 of 100\n",
      "building tree 60 of 100\n",
      "building tree 61 of 100\n",
      "building tree 62 of 100\n",
      "building tree 63 of 100\n",
      "building tree 64 of 100\n"
     ]
    },
    {
     "name": "stderr",
     "output_type": "stream",
     "text": [
      "[Parallel(n_jobs=-1)]: Done  56 tasks      | elapsed:  3.1min\n"
     ]
    },
    {
     "name": "stdout",
     "output_type": "stream",
     "text": [
      "building tree 65 of 100\n",
      "building tree 66 of 100\n",
      "building tree 67 of 100\n",
      "building tree 68 of 100\n",
      "building tree 69 of 100\n",
      "building tree 70 of 100\n",
      "building tree 71 of 100\n",
      "building tree 72 of 100\n",
      "building tree 73 of 100\n",
      "building tree 74 of 100\n",
      "building tree 75 of 100\n",
      "building tree 76 of 100\n",
      "building tree 77 of 100\n"
     ]
    },
    {
     "name": "stderr",
     "output_type": "stream",
     "text": [
      "[Parallel(n_jobs=-1)]: Done  69 tasks      | elapsed:  3.6min\n"
     ]
    },
    {
     "name": "stdout",
     "output_type": "stream",
     "text": [
      "building tree 78 of 100\n",
      "building tree 79 of 100\n",
      "building tree 80 of 100\n",
      "building tree 81 of 100\n",
      "building tree 82 of 100\n",
      "building tree 83 of 100\n",
      "building tree 84 of 100\n",
      "building tree 85 of 100\n",
      "building tree 86 of 100\n",
      "building tree 87 of 100\n",
      "building tree 88 of 100\n",
      "building tree 89 of 100\n",
      "building tree 90 of 100\n"
     ]
    },
    {
     "name": "stderr",
     "output_type": "stream",
     "text": [
      "[Parallel(n_jobs=-1)]: Done  82 tasks      | elapsed:  4.3min\n"
     ]
    },
    {
     "name": "stdout",
     "output_type": "stream",
     "text": [
      "building tree 91 of 100\n",
      "building tree 92 of 100\n",
      "building tree 93 of 100\n",
      "building tree 94 of 100\n",
      "building tree 95 of 100\n",
      "building tree 96 of 100\n",
      "building tree 97 of 100\n",
      "building tree 98 of 100\n",
      "building tree 99 of 100\n",
      "building tree 100 of 100\n"
     ]
    },
    {
     "name": "stderr",
     "output_type": "stream",
     "text": [
      "[Parallel(n_jobs=-1)]: Done  96 out of 100 | elapsed:  5.0min remaining:   12.4s\n",
      "[Parallel(n_jobs=-1)]: Done 100 out of 100 | elapsed:  5.1min finished\n",
      "[Parallel(n_jobs=8)]: Done   2 tasks      | elapsed:    0.0s\n",
      "[Parallel(n_jobs=8)]: Done   9 tasks      | elapsed:    0.0s\n",
      "[Parallel(n_jobs=8)]: Done  16 tasks      | elapsed:    0.0s\n",
      "[Parallel(n_jobs=8)]: Done  25 tasks      | elapsed:    0.0s\n",
      "[Parallel(n_jobs=8)]: Done  34 tasks      | elapsed:    0.0s\n",
      "[Parallel(n_jobs=8)]: Done  45 tasks      | elapsed:    0.0s\n",
      "[Parallel(n_jobs=8)]: Done  56 tasks      | elapsed:    0.0s\n",
      "[Parallel(n_jobs=8)]: Done  69 tasks      | elapsed:    0.0s\n",
      "[Parallel(n_jobs=8)]: Done  82 tasks      | elapsed:    0.0s\n",
      "[Parallel(n_jobs=8)]: Done  96 out of 100 | elapsed:    0.0s remaining:    0.0s\n",
      "[Parallel(n_jobs=8)]: Done 100 out of 100 | elapsed:    0.0s finished\n"
     ]
    },
    {
     "name": "stdout",
     "output_type": "stream",
     "text": [
      "building tree 3 of 100building tree 5 of 100building tree 1 of 100building tree 4 of 100building tree 2 of 100building tree 7 of 100building tree 8 of 100building tree 6 of 100\n",
      "\n",
      "\n",
      "\n",
      "\n",
      "\n",
      "\n",
      "\n",
      "building tree 9 of 100\n",
      "building tree 10 of 100\n",
      "building tree 11 of 100\n",
      "building tree 12 of 100\n"
     ]
    },
    {
     "name": "stderr",
     "output_type": "stream",
     "text": [
      "[Parallel(n_jobs=-1)]: Done   2 tasks      | elapsed:   22.9s\n"
     ]
    },
    {
     "name": "stdout",
     "output_type": "stream",
     "text": [
      "building tree 13 of 100\n",
      "building tree 14 of 100\n",
      "building tree 15 of 100\n",
      "building tree 16 of 100\n"
     ]
    },
    {
     "name": "stderr",
     "output_type": "stream",
     "text": [
      "[Parallel(n_jobs=-1)]: Done   9 tasks      | elapsed:   45.7s\n"
     ]
    },
    {
     "name": "stdout",
     "output_type": "stream",
     "text": [
      "building tree 17 of 100\n",
      "building tree 18 of 100\n",
      "building tree 19 of 100\n",
      "building tree 20 of 100\n",
      "building tree 21 of 100\n",
      "building tree 22 of 100\n",
      "building tree 23 of 100\n",
      "building tree 24 of 100\n"
     ]
    },
    {
     "name": "stderr",
     "output_type": "stream",
     "text": [
      "[Parallel(n_jobs=-1)]: Done  16 tasks      | elapsed:   48.1s\n"
     ]
    },
    {
     "name": "stdout",
     "output_type": "stream",
     "text": [
      "building tree 25 of 100\n",
      "building tree 26 of 100\n",
      "building tree 27 of 100\n",
      "building tree 28 of 100\n",
      "building tree 29 of 100\n",
      "building tree 30 of 100\n",
      "building tree 31 of 100\n",
      "building tree 32 of 100\n",
      "building tree 33 of 100\n",
      "building tree 34 of 100\n"
     ]
    },
    {
     "name": "stderr",
     "output_type": "stream",
     "text": [
      "[Parallel(n_jobs=-1)]: Done  25 tasks      | elapsed:  1.5min\n"
     ]
    },
    {
     "name": "stdout",
     "output_type": "stream",
     "text": [
      "building tree 35 of 100\n",
      "building tree 36 of 100\n",
      "building tree 37 of 100\n",
      "building tree 38 of 100\n",
      "building tree 39 of 100\n",
      "building tree 40 of 100\n",
      "building tree 41 of 100\n",
      "building tree 42 of 100\n",
      "building tree 43 of 100\n"
     ]
    },
    {
     "name": "stderr",
     "output_type": "stream",
     "text": [
      "[Parallel(n_jobs=-1)]: Done  34 tasks      | elapsed:  1.9min\n"
     ]
    },
    {
     "name": "stdout",
     "output_type": "stream",
     "text": [
      "building tree 44 of 100\n",
      "building tree 45 of 100\n",
      "building tree 46 of 100\n",
      "building tree 47 of 100\n",
      "building tree 48 of 100\n",
      "building tree 49 of 100\n",
      "building tree 50 of 100\n",
      "building tree 51 of 100\n",
      "building tree 52 of 100\n",
      "building tree 53 of 100\n"
     ]
    },
    {
     "name": "stderr",
     "output_type": "stream",
     "text": [
      "[Parallel(n_jobs=-1)]: Done  45 tasks      | elapsed:  2.3min\n"
     ]
    },
    {
     "name": "stdout",
     "output_type": "stream",
     "text": [
      "building tree 54 of 100\n",
      "building tree 55 of 100\n",
      "building tree 56 of 100\n",
      "building tree 57 of 100\n",
      "building tree 58 of 100\n",
      "building tree 59 of 100\n",
      "building tree 60 of 100\n",
      "building tree 61 of 100\n",
      "building tree 62 of 100\n",
      "building tree 63 of 100\n",
      "building tree 64 of 100\n"
     ]
    },
    {
     "name": "stderr",
     "output_type": "stream",
     "text": [
      "[Parallel(n_jobs=-1)]: Done  56 tasks      | elapsed:  2.8min\n"
     ]
    },
    {
     "name": "stdout",
     "output_type": "stream",
     "text": [
      "building tree 65 of 100\n",
      "building tree 66 of 100\n",
      "building tree 67 of 100\n",
      "building tree 68 of 100\n",
      "building tree 69 of 100\n",
      "building tree 70 of 100\n",
      "building tree 71 of 100\n",
      "building tree 72 of 100\n",
      "building tree 73 of 100\n",
      "building tree 74 of 100\n",
      "building tree 75 of 100\n",
      "building tree 76 of 100\n"
     ]
    },
    {
     "name": "stderr",
     "output_type": "stream",
     "text": [
      "[Parallel(n_jobs=-1)]: Done  69 tasks      | elapsed:  3.5min\n"
     ]
    },
    {
     "name": "stdout",
     "output_type": "stream",
     "text": [
      "building tree 77 of 100\n",
      "building tree 78 of 100\n",
      "building tree 79 of 100\n",
      "building tree 80 of 100\n",
      "building tree 81 of 100\n",
      "building tree 82 of 100\n",
      "building tree 83 of 100\n",
      "building tree 84 of 100\n",
      "building tree 85 of 100\n",
      "building tree 86 of 100\n",
      "building tree 87 of 100\n",
      "building tree 88 of 100\n",
      "building tree 89 of 100\n",
      "building tree 90 of 100\n"
     ]
    },
    {
     "name": "stderr",
     "output_type": "stream",
     "text": [
      "[Parallel(n_jobs=-1)]: Done  82 tasks      | elapsed:  4.2min\n"
     ]
    },
    {
     "name": "stdout",
     "output_type": "stream",
     "text": [
      "building tree 91 of 100\n",
      "building tree 92 of 100\n",
      "building tree 93 of 100\n",
      "building tree 94 of 100\n",
      "building tree 95 of 100\n",
      "building tree 96 of 100\n",
      "building tree 97 of 100\n",
      "building tree 98 of 100\n",
      "building tree 99 of 100\n",
      "building tree 100 of 100\n"
     ]
    },
    {
     "name": "stderr",
     "output_type": "stream",
     "text": [
      "[Parallel(n_jobs=-1)]: Done  96 out of 100 | elapsed:  4.9min remaining:   12.0s\n",
      "[Parallel(n_jobs=-1)]: Done 100 out of 100 | elapsed:  5.0min finished\n",
      "[Parallel(n_jobs=8)]: Done   2 tasks      | elapsed:    0.0s\n",
      "[Parallel(n_jobs=8)]: Done   9 tasks      | elapsed:    0.0s\n",
      "[Parallel(n_jobs=8)]: Done  16 tasks      | elapsed:    0.0s\n",
      "[Parallel(n_jobs=8)]: Done  25 tasks      | elapsed:    0.0s\n",
      "[Parallel(n_jobs=8)]: Done  34 tasks      | elapsed:    0.0s\n",
      "[Parallel(n_jobs=8)]: Done  45 tasks      | elapsed:    0.0s\n",
      "[Parallel(n_jobs=8)]: Done  56 tasks      | elapsed:    0.0s\n",
      "[Parallel(n_jobs=8)]: Done  69 tasks      | elapsed:    0.0s\n",
      "[Parallel(n_jobs=8)]: Done  82 tasks      | elapsed:    0.0s\n",
      "[Parallel(n_jobs=8)]: Done  96 out of 100 | elapsed:    0.0s remaining:    0.0s\n",
      "[Parallel(n_jobs=8)]: Done 100 out of 100 | elapsed:    0.0s finished\n"
     ]
    },
    {
     "name": "stdout",
     "output_type": "stream",
     "text": [
      "building tree 1 of 100building tree 2 of 100building tree 3 of 100building tree 5 of 100building tree 4 of 100building tree 7 of 100building tree 6 of 100building tree 8 of 100\n",
      "\n",
      "\n",
      "\n",
      "\n",
      "\n",
      "\n",
      "\n",
      "building tree 9 of 100\n",
      "building tree 10 of 100\n"
     ]
    },
    {
     "name": "stderr",
     "output_type": "stream",
     "text": [
      "[Parallel(n_jobs=-1)]: Done   2 tasks      | elapsed:   22.8s\n"
     ]
    },
    {
     "name": "stdout",
     "output_type": "stream",
     "text": [
      "building tree 11 of 100\n",
      "building tree 12 of 100\n",
      "building tree 13 of 100\n",
      "building tree 14 of 100\n",
      "building tree 15 of 100\n",
      "building tree 16 of 100\n",
      "building tree 17 of 100\n",
      "building tree 18 of 100\n"
     ]
    },
    {
     "name": "stderr",
     "output_type": "stream",
     "text": [
      "[Parallel(n_jobs=-1)]: Done   9 tasks      | elapsed:   46.1s\n"
     ]
    },
    {
     "name": "stdout",
     "output_type": "stream",
     "text": [
      "building tree 19 of 100\n",
      "building tree 20 of 100\n",
      "building tree 21 of 100\n",
      "building tree 22 of 100\n",
      "building tree 23 of 100\n",
      "building tree 24 of 100\n"
     ]
    },
    {
     "name": "stderr",
     "output_type": "stream",
     "text": [
      "[Parallel(n_jobs=-1)]: Done  16 tasks      | elapsed:   48.6s\n"
     ]
    },
    {
     "name": "stdout",
     "output_type": "stream",
     "text": [
      "building tree 25 of 100\n",
      "building tree 26 of 100\n",
      "building tree 27 of 100\n",
      "building tree 28 of 100\n",
      "building tree 29 of 100\n",
      "building tree 30 of 100\n",
      "building tree 31 of 100\n",
      "building tree 32 of 100\n",
      "building tree 33 of 100\n"
     ]
    },
    {
     "name": "stderr",
     "output_type": "stream",
     "text": [
      "[Parallel(n_jobs=-1)]: Done  25 tasks      | elapsed:  1.5min\n"
     ]
    },
    {
     "name": "stdout",
     "output_type": "stream",
     "text": [
      "building tree 34 of 100\n",
      "building tree 35 of 100\n",
      "building tree 36 of 100\n",
      "building tree 37 of 100\n",
      "building tree 38 of 100\n",
      "building tree 39 of 100\n",
      "building tree 40 of 100\n",
      "building tree 41 of 100\n",
      "building tree 42 of 100\n"
     ]
    },
    {
     "name": "stderr",
     "output_type": "stream",
     "text": [
      "[Parallel(n_jobs=-1)]: Done  34 tasks      | elapsed:  1.9min\n"
     ]
    },
    {
     "name": "stdout",
     "output_type": "stream",
     "text": [
      "building tree 43 of 100\n",
      "building tree 44 of 100\n",
      "building tree 45 of 100\n",
      "building tree 46 of 100\n",
      "building tree 47 of 100\n",
      "building tree 48 of 100\n",
      "building tree 49 of 100\n",
      "building tree 50 of 100\n",
      "building tree 51 of 100\n",
      "building tree 52 of 100\n"
     ]
    },
    {
     "name": "stderr",
     "output_type": "stream",
     "text": [
      "[Parallel(n_jobs=-1)]: Done  45 tasks      | elapsed:  2.3min\n"
     ]
    },
    {
     "name": "stdout",
     "output_type": "stream",
     "text": [
      "building tree 53 of 100\n",
      "building tree 54 of 100\n",
      "building tree 55 of 100\n",
      "building tree 56 of 100\n",
      "building tree 57 of 100\n",
      "building tree 58 of 100\n",
      "building tree 59 of 100\n",
      "building tree 60 of 100\n",
      "building tree 61 of 100\n",
      "building tree 62 of 100\n",
      "building tree 63 of 100\n",
      "building tree 64 of 100\n"
     ]
    },
    {
     "name": "stderr",
     "output_type": "stream",
     "text": [
      "[Parallel(n_jobs=-1)]: Done  56 tasks      | elapsed:  2.9min\n"
     ]
    },
    {
     "name": "stdout",
     "output_type": "stream",
     "text": [
      "building tree 65 of 100\n",
      "building tree 66 of 100\n",
      "building tree 67 of 100\n",
      "building tree 68 of 100\n",
      "building tree 69 of 100\n",
      "building tree 70 of 100\n",
      "building tree 71 of 100\n",
      "building tree 72 of 100\n",
      "building tree 73 of 100\n",
      "building tree 74 of 100\n",
      "building tree 75 of 100\n",
      "building tree 76 of 100\n",
      "building tree 77 of 100\n"
     ]
    },
    {
     "name": "stderr",
     "output_type": "stream",
     "text": [
      "[Parallel(n_jobs=-1)]: Done  69 tasks      | elapsed:  3.6min\n"
     ]
    },
    {
     "name": "stdout",
     "output_type": "stream",
     "text": [
      "building tree 78 of 100\n",
      "building tree 79 of 100\n",
      "building tree 80 of 100\n",
      "building tree 81 of 100\n",
      "building tree 82 of 100\n",
      "building tree 83 of 100\n",
      "building tree 84 of 100\n",
      "building tree 85 of 100\n",
      "building tree 86 of 100\n",
      "building tree 87 of 100\n",
      "building tree 88 of 100\n",
      "building tree 89 of 100\n"
     ]
    },
    {
     "name": "stderr",
     "output_type": "stream",
     "text": [
      "[Parallel(n_jobs=-1)]: Done  82 tasks      | elapsed:  4.3min\n"
     ]
    },
    {
     "name": "stdout",
     "output_type": "stream",
     "text": [
      "building tree 90 of 100\n",
      "building tree 91 of 100\n",
      "building tree 92 of 100\n",
      "building tree 93 of 100\n",
      "building tree 94 of 100\n",
      "building tree 95 of 100\n",
      "building tree 96 of 100\n",
      "building tree 97 of 100\n",
      "building tree 98 of 100\n",
      "building tree 99 of 100\n",
      "building tree 100 of 100\n"
     ]
    },
    {
     "name": "stderr",
     "output_type": "stream",
     "text": [
      "[Parallel(n_jobs=-1)]: Done  96 out of 100 | elapsed:  4.9min remaining:   12.2s\n",
      "[Parallel(n_jobs=-1)]: Done 100 out of 100 | elapsed:  5.0min finished\n",
      "[Parallel(n_jobs=8)]: Done   2 tasks      | elapsed:    0.0s\n",
      "[Parallel(n_jobs=8)]: Done   9 tasks      | elapsed:    0.0s\n",
      "[Parallel(n_jobs=8)]: Done  16 tasks      | elapsed:    0.0s\n",
      "[Parallel(n_jobs=8)]: Done  25 tasks      | elapsed:    0.0s\n",
      "[Parallel(n_jobs=8)]: Done  34 tasks      | elapsed:    0.0s\n",
      "[Parallel(n_jobs=8)]: Done  45 tasks      | elapsed:    0.0s\n",
      "[Parallel(n_jobs=8)]: Done  56 tasks      | elapsed:    0.0s\n",
      "[Parallel(n_jobs=8)]: Done  69 tasks      | elapsed:    0.0s\n",
      "[Parallel(n_jobs=8)]: Done  82 tasks      | elapsed:    0.0s\n",
      "[Parallel(n_jobs=8)]: Done  96 out of 100 | elapsed:    0.0s remaining:    0.0s\n",
      "[Parallel(n_jobs=8)]: Done 100 out of 100 | elapsed:    0.0s finished\n"
     ]
    },
    {
     "name": "stdout",
     "output_type": "stream",
     "text": [
      "df1 is 0.967157 +/-  0.001133\n",
      "95 percent probability that if this experiment were repeated over and over the average roc_auc score would be between 0.966024 and 0.968290\n"
     ]
    }
   ],
   "source": [
    "# cross validation\n",
    "roc_auc_df1 = cross_val_score(rfc_best_estimator_df1, X_train_df1, y_train_df1, cv=10, scoring='roc_auc')\n",
    "getMeanAndConfidence(roc_auc_df1, 'roc_auc', 'df1')"
   ]
  },
  {
   "cell_type": "code",
   "execution_count": 49,
   "metadata": {
    "collapsed": false
   },
   "outputs": [
    {
     "name": "stderr",
     "output_type": "stream",
     "text": [
      "[Parallel(n_jobs=8)]: Done   2 tasks      | elapsed:    0.0s\n",
      "[Parallel(n_jobs=8)]: Done   9 tasks      | elapsed:    0.0s\n",
      "[Parallel(n_jobs=8)]: Done  16 tasks      | elapsed:    0.0s\n",
      "[Parallel(n_jobs=8)]: Done  25 tasks      | elapsed:    0.0s\n",
      "[Parallel(n_jobs=8)]: Done  34 tasks      | elapsed:    0.0s\n",
      "[Parallel(n_jobs=8)]: Done  45 tasks      | elapsed:    0.0s\n",
      "[Parallel(n_jobs=8)]: Done  56 tasks      | elapsed:    0.0s\n",
      "[Parallel(n_jobs=8)]: Done  69 tasks      | elapsed:    0.1s\n",
      "[Parallel(n_jobs=8)]: Done  82 tasks      | elapsed:    0.1s\n",
      "[Parallel(n_jobs=8)]: Done  96 out of 100 | elapsed:    0.1s remaining:    0.0s\n",
      "[Parallel(n_jobs=8)]: Done 100 out of 100 | elapsed:    0.1s finished\n"
     ]
    }
   ],
   "source": [
    "y = rfc_best_estimator_df1.predict_proba(X_test_df1)[:, 1]"
   ]
  },
  {
   "cell_type": "code",
   "execution_count": 51,
   "metadata": {
    "collapsed": true
   },
   "outputs": [],
   "source": [
    "y_pred = pd.Series(y)"
   ]
  },
  {
   "cell_type": "code",
   "execution_count": 35,
   "metadata": {
    "collapsed": true
   },
   "outputs": [],
   "source": [
    "y_pred.to_csv(path=\"y_predictions_initial.csv\")"
   ]
  },
  {
   "cell_type": "code",
   "execution_count": 52,
   "metadata": {
    "collapsed": false
   },
   "outputs": [
    {
     "data": {
      "image/png": "[encoded data removed]",
      "text/plain": [
       "<matplotlib.figure.Figure at 0xe3f4828>"
      ]
     },
     "metadata": {},
     "output_type": "display_data"
    }
   ],
   "source": [
    "%matplotlib inline\n",
    "# Simple version that shows all of the variables\n",
    "feature_importances = pd.Series(rfc_best_estimator_df1.feature_importances_, index=X_train_df1.columns)\n",
    "feature_importances.sort_values(inplace=True)\n",
    "feature_importances.plot(kind=\"barh\", figsize=(40,30));"
   ]
  },
  {
   "cell_type": "code",
   "execution_count": 58,
   "metadata": {
    "collapsed": false
   },
   "outputs": [],
   "source": [
    "# Most important features\n",
    "best_features = ['x01', 'x05', 'x00', 'x34', 'x14', 'x33', 'x13', 'x24', 'x37', 'x26', 'x47', 'x45', 'x46', 'x03', 'x31', 'x08', 'y']"
   ]
  },
  {
   "cell_type": "code",
   "execution_count": 59,
   "metadata": {
    "collapsed": false,
    "scrolled": true
   },
   "outputs": [],
   "source": [
    "# X TEST\n",
    "X_test_df3 = df1[np.isnan(df1.y)].copy()\n",
    "X_test_df3 = X_test_df3[best_features]\n",
    "X_test_df3.drop('y', axis=1, inplace=True)\n",
    "\n",
    "# Xy TRAIN\n",
    "train_df3 = df1.dropna(subset=['y'])\n",
    "train_df3 = train_df3[best_features]\n",
    "\n",
    "# y TRAIN\n",
    "y_train_df3 = train_df1['y'].copy()\n",
    "\n",
    "# X TRAIN\n",
    "X_train_df3 = train_df3.drop('y', axis=1)"
   ]
  },
  {
   "cell_type": "code",
   "execution_count": 60,
   "metadata": {
    "collapsed": true
   },
   "outputs": [],
   "source": [
    "# get random forest classifier\n",
    "rfc_df3 = RandomForestClassifier(random_state=42, verbose=10, n_jobs=-1)"
   ]
  },
  {
   "cell_type": "code",
   "execution_count": 61,
   "metadata": {
    "collapsed": false
   },
   "outputs": [
    {
     "name": "stdout",
     "output_type": "stream",
     "text": [
      "Fitting 5 folds for each of 24 candidates, totalling 120 fits\n"
     ]
    },
    {
     "name": "stderr",
     "output_type": "stream",
     "text": [
      "[Parallel(n_jobs=-1)]: Done   2 tasks      | elapsed:   12.6s\n",
      "[Parallel(n_jobs=-1)]: Done   9 tasks      | elapsed:   45.8s\n",
      "[Parallel(n_jobs=-1)]: Done  16 tasks      | elapsed:  1.6min\n",
      "[Parallel(n_jobs=-1)]: Done  25 tasks      | elapsed:  2.4min\n",
      "[Parallel(n_jobs=-1)]: Done  34 tasks      | elapsed:  3.5min\n",
      "[Parallel(n_jobs=-1)]: Done  45 tasks      | elapsed:  5.1min\n",
      "[Parallel(n_jobs=-1)]: Done  56 tasks      | elapsed:  9.0min\n",
      "[Parallel(n_jobs=-1)]: Done  69 tasks      | elapsed: 12.2min\n",
      "[Parallel(n_jobs=-1)]: Done  82 tasks      | elapsed: 15.2min\n",
      "[Parallel(n_jobs=-1)]: Done  97 tasks      | elapsed: 18.3min\n",
      "[Parallel(n_jobs=-1)]: Done 118 out of 120 | elapsed: 29.9min remaining:   30.3s\n",
      "[Parallel(n_jobs=-1)]: Done 120 out of 120 | elapsed: 30.8min finished\n"
     ]
    },
    {
     "name": "stdout",
     "output_type": "stream",
     "text": [
      "building tree 1 of 100\n",
      "building tree 2 of 100building tree 3 of 100building tree 5 of 100building tree 4 of 100building tree 6 of 100building tree 7 of 100\n",
      "\n",
      "\n",
      "\n",
      "\n",
      "building tree 8 of 100\n",
      "\n",
      "building tree 9 of 100\n",
      "building tree 10 of 100\n",
      "building tree 11 of 100\n",
      "building tree 12 of 100\n",
      "building tree 13 of 100\n",
      "building tree 14 of 100\n",
      "building tree 15 of 100\n"
     ]
    },
    {
     "name": "stderr",
     "output_type": "stream",
     "text": [
      "[Parallel(n_jobs=-1)]: Done   2 tasks      | elapsed:    2.5s\n"
     ]
    },
    {
     "name": "stdout",
     "output_type": "stream",
     "text": [
      "building tree 16 of 100\n",
      "building tree 17 of 100\n",
      "building tree 18 of 100\n",
      "building tree 19 of 100\n"
     ]
    },
    {
     "name": "stderr",
     "output_type": "stream",
     "text": [
      "[Parallel(n_jobs=-1)]: Done   9 tasks      | elapsed:    4.9s\n"
     ]
    },
    {
     "name": "stdout",
     "output_type": "stream",
     "text": [
      "building tree 20 of 100\n",
      "building tree 21 of 100\n",
      "building tree 22 of 100\n",
      "building tree 23 of 100\n",
      "building tree 24 of 100\n"
     ]
    },
    {
     "name": "stderr",
     "output_type": "stream",
     "text": [
      "[Parallel(n_jobs=-1)]: Done  16 tasks      | elapsed:    5.6s\n"
     ]
    },
    {
     "name": "stdout",
     "output_type": "stream",
     "text": [
      "building tree 25 of 100\n",
      "building tree 26 of 100\n",
      "building tree 27 of 100\n",
      "building tree 28 of 100\n",
      "building tree 29 of 100\n",
      "building tree 30 of 100\n",
      "building tree 31 of 100\n",
      "building tree 32 of 100\n",
      "building tree 33 of 100\n"
     ]
    },
    {
     "name": "stderr",
     "output_type": "stream",
     "text": [
      "[Parallel(n_jobs=-1)]: Done  25 tasks      | elapsed:   10.0s\n"
     ]
    },
    {
     "name": "stdout",
     "output_type": "stream",
     "text": [
      "building tree 34 of 100building tree 35 of 100\n",
      "\n",
      "building tree 36 of 100\n",
      "building tree 37 of 100\n",
      "building tree 38 of 100\n",
      "building tree 39 of 100\n",
      "building tree 40 of 100\n",
      "building tree 41 of 100\n",
      "building tree 42 of 100\n",
      "building tree 43 of 100\n",
      "building tree 44 of 100\n",
      "building tree 45 of 100"
     ]
    },
    {
     "name": "stderr",
     "output_type": "stream",
     "text": [
      "[Parallel(n_jobs=-1)]: Done  34 tasks      | elapsed:   12.9s\n"
     ]
    },
    {
     "name": "stdout",
     "output_type": "stream",
     "text": [
      "\n",
      "building tree 46 of 100\n",
      "building tree 47 of 100\n",
      "building tree 48 of 100\n",
      "building tree 49 of 100\n",
      "building tree 50 of 100\n",
      "building tree 51 of 100\n",
      "building tree 52 of 100\n",
      "building tree 53 of 100\n"
     ]
    },
    {
     "name": "stderr",
     "output_type": "stream",
     "text": [
      "[Parallel(n_jobs=-1)]: Done  45 tasks      | elapsed:   15.7s\n"
     ]
    },
    {
     "name": "stdout",
     "output_type": "stream",
     "text": [
      "building tree 54 of 100\n",
      "building tree 55 of 100\n",
      "building tree 56 of 100\n",
      "building tree 57 of 100\n",
      "building tree 58 of 100\n",
      "building tree 59 of 100\n",
      "building tree 60 of 100\n",
      "building tree 61 of 100\n",
      "building tree 62 of 100\n",
      "building tree 63 of 100\n",
      "building tree 64 of 100\n"
     ]
    },
    {
     "name": "stderr",
     "output_type": "stream",
     "text": [
      "[Parallel(n_jobs=-1)]: Done  56 tasks      | elapsed:   19.2s\n"
     ]
    },
    {
     "name": "stdout",
     "output_type": "stream",
     "text": [
      "building tree 65 of 100\n",
      "building tree 66 of 100\n",
      "building tree 67 of 100\n",
      "building tree 68 of 100\n",
      "building tree 69 of 100\n",
      "building tree 70 of 100\n",
      "building tree 71 of 100\n",
      "building tree 72 of 100\n",
      "building tree 73 of 100\n",
      "building tree 74 of 100\n",
      "building tree 75 of 100\n",
      "building tree 76 of 100\n",
      "building tree 77 of 100\n",
      "building tree 78 of 100\n"
     ]
    },
    {
     "name": "stderr",
     "output_type": "stream",
     "text": [
      "[Parallel(n_jobs=-1)]: Done  69 tasks      | elapsed:   23.6s\n"
     ]
    },
    {
     "name": "stdout",
     "output_type": "stream",
     "text": [
      "building tree 79 of 100\n",
      "building tree 80 of 100\n",
      "building tree 81 of 100\n",
      "building tree 82 of 100\n",
      "building tree 83 of 100\n",
      "building tree 84 of 100\n",
      "building tree 85 of 100\n",
      "building tree 86 of 100\n",
      "building tree 87 of 100\n",
      "building tree 88 of 100\n",
      "building tree 89 of 100\n",
      "building tree 90 of 100\n",
      "building tree 91 of 100\n"
     ]
    },
    {
     "name": "stderr",
     "output_type": "stream",
     "text": [
      "[Parallel(n_jobs=-1)]: Done  82 tasks      | elapsed:   28.2s\n"
     ]
    },
    {
     "name": "stdout",
     "output_type": "stream",
     "text": [
      "building tree 92 of 100\n",
      "building tree 93 of 100\n",
      "building tree 94 of 100\n",
      "building tree 95 of 100\n",
      "building tree 96 of 100\n",
      "building tree 97 of 100\n",
      "building tree 98 of 100\n",
      "building tree 99 of 100\n",
      "building tree 100 of 100\n"
     ]
    },
    {
     "name": "stderr",
     "output_type": "stream",
     "text": [
      "[Parallel(n_jobs=-1)]: Done  96 out of 100 | elapsed:   32.8s remaining:    1.3s\n"
     ]
    },
    {
     "name": "stdout",
     "output_type": "stream",
     "text": [
      "RandomForestClassifier(bootstrap=True, class_weight=None, criterion='entropy',\n",
      "            max_depth=None, max_features='auto', max_leaf_nodes=None,\n",
      "            min_impurity_split=1e-07, min_samples_leaf=1,\n",
      "            min_samples_split=2, min_weight_fraction_leaf=0.0,\n",
      "            n_estimators=100, n_jobs=-1, oob_score=False, random_state=42,\n",
      "            verbose=10, warm_start=False)\n"
     ]
    },
    {
     "name": "stderr",
     "output_type": "stream",
     "text": [
      "[Parallel(n_jobs=-1)]: Done 100 out of 100 | elapsed:   33.2s finished\n"
     ]
    }
   ],
   "source": [
    "# fit models to training sets\n",
    "rfc_estimator_df3 = GridSearchCV(rfc_df3, hyperparameters, scoring='roc_auc', cv=5, verbose=10, n_jobs=-1)\n",
    "rfc_estimator_df3.fit(X_train_df3, y_train_df3)\n",
    "rfc_best_estimator_df3 = rfc_estimator_df3.best_estimator_\n",
    "print(rfc_best_estimator_df3)"
   ]
  },
  {
   "cell_type": "code",
   "execution_count": 63,
   "metadata": {
    "collapsed": false
   },
   "outputs": [
    {
     "name": "stdout",
     "output_type": "stream",
     "text": [
      "df3 is 0.972638 +/-  0.000999\n",
      "95 percent probability that if this experiment were repeated over and over the average roc_auc score would be between 0.971639 and 0.973636\n"
     ]
    }
   ],
   "source": [
    "# cross validation\n",
    "roc_auc_df3 = cross_val_score(rfc_best_estimator_df3, X_train_df3, y_train_df3, cv=5, scoring='roc_auc', n_jobs=4)\n",
    "getMeanAndConfidence(roc_auc_df3, 'roc_auc', 'df3')"
   ]
  },
  {
   "cell_type": "code",
   "execution_count": 65,
   "metadata": {
    "collapsed": false
   },
   "outputs": [
    {
     "name": "stderr",
     "output_type": "stream",
     "text": [
      "[Parallel(n_jobs=8)]: Done   2 tasks      | elapsed:    0.0s\n",
      "[Parallel(n_jobs=8)]: Done   9 tasks      | elapsed:    0.0s\n",
      "[Parallel(n_jobs=8)]: Done  16 tasks      | elapsed:    0.0s\n",
      "[Parallel(n_jobs=8)]: Done  25 tasks      | elapsed:    0.0s\n",
      "[Parallel(n_jobs=8)]: Done  34 tasks      | elapsed:    0.0s\n",
      "[Parallel(n_jobs=8)]: Done  45 tasks      | elapsed:    0.0s\n",
      "[Parallel(n_jobs=8)]: Done  56 tasks      | elapsed:    0.1s\n",
      "[Parallel(n_jobs=8)]: Done  69 tasks      | elapsed:    0.1s\n",
      "[Parallel(n_jobs=8)]: Done  82 tasks      | elapsed:    0.1s\n",
      "[Parallel(n_jobs=8)]: Done  96 out of 100 | elapsed:    0.1s remaining:    0.0s\n",
      "[Parallel(n_jobs=8)]: Done 100 out of 100 | elapsed:    0.1s finished\n"
     ]
    }
   ],
   "source": [
    "y_df3 = rfc_best_estimator_df3.predict_proba(X_test_df3)[:, 1]"
   ]
  },
  {
   "cell_type": "code",
   "execution_count": 66,
   "metadata": {
    "collapsed": true
   },
   "outputs": [],
   "source": [
    "y_pred_df3 = pd.Series(y_df3)"
   ]
  },
  {
   "cell_type": "code",
   "execution_count": 67,
   "metadata": {
    "collapsed": false
   },
   "outputs": [
    {
     "data": {
      "image/png": "[encoded data removed]",
      "text/plain": [
       "<matplotlib.figure.Figure at 0xcf98fd0>"
      ]
     },
     "metadata": {},
     "output_type": "display_data"
    }
   ],
   "source": [
    "#%matplotlib inline\n",
    "# Simple version that shows all of the variables\n",
    "feature_importances_df3 = pd.Series(rfc_best_estimator_df3.feature_importances_, index=X_train_df3.columns)\n",
    "feature_importances_df3.sort_values(inplace=True)\n",
    "feature_importances_df3.plot(kind=\"barh\", figsize=(40,30));"
   ]
  },
  {
   "cell_type": "code",
   "execution_count": 68,
   "metadata": {
    "collapsed": true
   },
   "outputs": [],
   "source": [
    "y_pred_df3.to_csv(path=\"predictions.csv\")"
   ]
  },
  {
   "cell_type": "markdown",
   "metadata": {},
   "source": [
    "### Score"
   ]
  },
  {
   "cell_type": "markdown",
   "metadata": {},
   "source": [
    "This script scored 0.91 on the Kaggle test set."
   ]
  }
 ],
 "metadata": {
  "anaconda-cloud": {},
  "kernelspec": {
   "display_name": "Python 3",
   "language": "python",
   "name": "python3"
  },
  "language_info": {
   "codemirror_mode": {
    "name": "ipython",
    "version": 3
   },
   "file_extension": ".py",
   "mimetype": "text/x-python",
   "name": "python",
   "nbconvert_exporter": "python",
   "pygments_lexer": "ipython3",
   "version": "3.6.0"
  }
 },
 "nbformat": 4,
 "nbformat_minor": 2
}
