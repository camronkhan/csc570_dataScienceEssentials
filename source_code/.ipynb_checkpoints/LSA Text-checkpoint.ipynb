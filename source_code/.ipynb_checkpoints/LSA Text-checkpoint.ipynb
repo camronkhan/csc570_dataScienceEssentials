{
 "cells": [
  {
   "cell_type": "markdown",
   "metadata": {},
   "source": [
    "## Latent Semantic Analysis\n",
    "\n",
    "In this notebook we're going to look at how we can 'mine' concepts from a corpus (collection) of text documents.\n",
    "\n",
    "In the first week of class everyone wrote their own definition of data science.   This week I'm going to show you how to extract 'concepts' from that corpus mathematically.  The techinque we're going to use is called latent semantic analysis.  "
   ]
  },
  {
   "cell_type": "code",
   "execution_count": 1,
   "metadata": {
    "collapsed": false
   },
   "outputs": [],
   "source": [
    "from bs4 import BeautifulSoup\n",
    "import nltk\n",
    "from nltk.corpus import stopwords\n",
    "from sklearn.feature_extraction.text import TfidfVectorizer\n",
    "from sklearn.decomposition import TruncatedSVD"
   ]
  },
  {
   "cell_type": "code",
   "execution_count": 2,
   "metadata": {
    "collapsed": false
   },
   "outputs": [
    {
     "name": "stdout",
     "output_type": "stream",
     "text": [
      "[nltk_data] Downloading package stopwords to /home/mike/nltk_data...\n",
      "[nltk_data]   Package stopwords is already up-to-date!\n"
     ]
    },
    {
     "data": {
      "text/plain": [
       "True"
      ]
     },
     "execution_count": 2,
     "metadata": {},
     "output_type": "execute_result"
    }
   ],
   "source": [
    "#run this only once\n",
    "nltk.download('stopwords')"
   ]
  },
  {
   "cell_type": "markdown",
   "metadata": {},
   "source": [
    "I exported the forum posts for module 0 into an XML file.  Each post is wrapped in <text></text> tags.   I'll use BeautifulSoup to process the XML"
   ]
  },
  {
   "cell_type": "code",
   "execution_count": 3,
   "metadata": {
    "collapsed": false
   },
   "outputs": [],
   "source": [
    "posts = open('raw_forum_posts.dat', 'r').read()"
   ]
  },
  {
   "cell_type": "code",
   "execution_count": 5,
   "metadata": {
    "collapsed": false
   },
   "outputs": [],
   "source": [
    "soup = BeautifulSoup(posts)\n",
    "postTxt = soup.findAll('text')  #all posts <text> \n",
    "postDocs = [x.text for x in postTxt]\n",
    "postDocs.pop(0)\n",
    "postDocs = [x.lower() for x in postDocs]"
   ]
  },
  {
   "cell_type": "markdown",
   "metadata": {},
   "source": [
    "Stopwords are words that I don't want to convert to featurs,becuase they aren't especially useful.  Words like 'a', 'and', and 'the' are good stopwords in english.   I can use a built in list of stopwords from nltk to get me started.  Then, I'll add some custom stopwords that are 'html junk' that I need to clean out of my data."
   ]
  },
  {
   "cell_type": "code",
   "execution_count": 6,
   "metadata": {
    "collapsed": false
   },
   "outputs": [],
   "source": [
    "stopset = set(stopwords.words('english'))\n",
    "stopset.update(['lt','p','/p','br','amp','quot','field','font','normal','span','0px','rgb','style','51', \n",
    "                'spacing','text','helvetica','size','family', 'space', 'arial', 'height', 'indent', 'letter'\n",
    "                'line','none','sans','serif','transform','line','variant','weight','times', 'new','strong', 'video', 'title'\n",
    "                'white','word','letter', 'roman','0pt','16','color','12','14','21', 'neue', 'apple', 'class',  ])\n"
   ]
  },
  {
   "cell_type": "markdown",
   "metadata": {},
   "source": [
    "### TF-IDF Vectorizing\n",
    "\n",
    "I'm going to use scikit-learn's TF-IDF vectorizer to take my corpus and convert each document into a sparse matrix of TFIDF Features..."
   ]
  },
  {
   "cell_type": "code",
   "execution_count": 7,
   "metadata": {
    "collapsed": false
   },
   "outputs": [
    {
     "data": {
      "text/plain": [
       "u'<p>data science is about analyzing relevant data to obtain patterns of information in order to help achieve a goal. the main focus of the data analysis is the goal rather then the methodology on how it will achieved. this allows for creative thinking and allowing for the optimal solution or model to be found wihtout the constraint of a specific methodology.</p>'"
      ]
     },
     "execution_count": 7,
     "metadata": {},
     "output_type": "execute_result"
    }
   ],
   "source": [
    "#Before!\n",
    "postDocs[0]"
   ]
  },
  {
   "cell_type": "code",
   "execution_count": 8,
   "metadata": {
    "collapsed": false
   },
   "outputs": [],
   "source": [
    "vectorizer = TfidfVectorizer(stop_words=stopset,\n",
    "                                 use_idf=True, ngram_range=(1, 3))\n",
    "X = vectorizer.fit_transform(postDocs)"
   ]
  },
  {
   "cell_type": "code",
   "execution_count": 9,
   "metadata": {
    "collapsed": false
   },
   "outputs": [
    {
     "data": {
      "text/plain": [
       "<1x3390 sparse matrix of type '<type 'numpy.float64'>'\n",
       "\twith 89 stored elements in Compressed Sparse Row format>"
      ]
     },
     "execution_count": 9,
     "metadata": {},
     "output_type": "execute_result"
    }
   ],
   "source": [
    "X[0]"
   ]
  },
  {
   "cell_type": "code",
   "execution_count": 10,
   "metadata": {
    "collapsed": false
   },
   "outputs": [
    {
     "name": "stdout",
     "output_type": "stream",
     "text": [
      "  (0, 558)\t0.10905143902\n",
      "  (0, 3324)\t0.10905143902\n",
      "  (0, 1301)\t0.10905143902\n",
      "  (0, 1951)\t0.10905143902\n",
      "  (0, 2758)\t0.10905143902\n",
      "  (0, 2080)\t0.10905143902\n",
      "  (0, 107)\t0.10905143902\n",
      "  (0, 2980)\t0.10905143902\n",
      "  (0, 625)\t0.10905143902\n",
      "  (0, 110)\t0.10905143902\n",
      "  (0, 54)\t0.10905143902\n",
      "  (0, 1917)\t0.10905143902\n",
      "  (0, 2380)\t0.10905143902\n",
      "  (0, 1395)\t0.10905143902\n",
      "  (0, 147)\t0.10905143902\n",
      "  (0, 655)\t0.10905143902\n",
      "  (0, 1265)\t0.10905143902\n",
      "  (0, 1816)\t0.10905143902\n",
      "  (0, 1391)\t0.10905143902\n",
      "  (0, 49)\t0.10905143902\n",
      "  (0, 1474)\t0.10905143902\n",
      "  (0, 2090)\t0.10905143902\n",
      "  (0, 1600)\t0.10905143902\n",
      "  (0, 2157)\t0.10905143902\n",
      "  (0, 2041)\t0.10905143902\n",
      "  :\t:\n",
      "  (0, 1295)\t0.0882799340268\n",
      "  (0, 1943)\t0.0761293825223\n",
      "  (0, 2754)\t0.0969008875155\n",
      "  (0, 2078)\t0.10905143902\n",
      "  (0, 105)\t0.10905143902\n",
      "  (0, 2978)\t0.0969008875155\n",
      "  (0, 623)\t0.0969008875155\n",
      "  (0, 108)\t0.10905143902\n",
      "  (0, 52)\t0.10905143902\n",
      "  (0, 1915)\t0.21810287804\n",
      "  (0, 2378)\t0.10905143902\n",
      "  (0, 143)\t0.071509957232\n",
      "  (0, 1261)\t0.0882799340268\n",
      "  (0, 1814)\t0.10905143902\n",
      "  (0, 1389)\t0.176559868054\n",
      "  (0, 47)\t0.0969008875155\n",
      "  (0, 1472)\t0.0761293825223\n",
      "  (0, 2084)\t0.0761293825223\n",
      "  (0, 1588)\t0.0529592419308\n",
      "  (0, 2153)\t0.0969008875155\n",
      "  (0, 2039)\t0.10905143902\n",
      "  (0, 2413)\t0.0882799340268\n",
      "  (0, 160)\t0.0675084290336\n",
      "  (0, 2484)\t0.0310567745199\n",
      "  (0, 647)\t0.0899008417366\n"
     ]
    }
   ],
   "source": [
    "#After\n",
    "print X[0]"
   ]
  },
  {
   "cell_type": "markdown",
   "metadata": {},
   "source": [
    "###LSA\n",
    "\n",
    "Input:  X, a matrix where m is the number of documents I have, and n is the number of terms.\n",
    "\n",
    "Process:   I'm going to decompose X into three matricies called U, S, and T.  When we do the decomposition, we have to pick a value k, that's how many concepts we are going to keep.  \n",
    "\n",
    "$$X \\approx USV^{T}$$\n",
    "\n",
    "U will be a m x k matrix.  The rows will be documents and the columns will be 'concepts'\n",
    "\n",
    "S will be a k x k diagnal matrix.   The elements will be the amount of variation captured from each concept.\n",
    "\n",
    "V will be a n x k (mind the transpose) matrix.   The rows will be terms and the columns will be conepts.  "
   ]
  },
  {
   "cell_type": "code",
   "execution_count": 11,
   "metadata": {
    "collapsed": false
   },
   "outputs": [
    {
     "data": {
      "text/plain": [
       "(27, 3390)"
      ]
     },
     "execution_count": 11,
     "metadata": {},
     "output_type": "execute_result"
    }
   ],
   "source": [
    "X.shape"
   ]
  },
  {
   "cell_type": "code",
   "execution_count": 12,
   "metadata": {
    "collapsed": false
   },
   "outputs": [
    {
     "data": {
      "text/plain": [
       "TruncatedSVD(algorithm='randomized', n_components=27, n_iter=100,\n",
       "       random_state=None, tol=0.0)"
      ]
     },
     "execution_count": 12,
     "metadata": {},
     "output_type": "execute_result"
    }
   ],
   "source": [
    "lsa = TruncatedSVD(n_components=27, n_iter=100)\n",
    "lsa.fit(X)\n",
    "\n"
   ]
  },
  {
   "cell_type": "code",
   "execution_count": 13,
   "metadata": {
    "collapsed": false
   },
   "outputs": [
    {
     "data": {
      "text/plain": [
       "array([ 0.00523425,  0.00523425,  0.00523425, ...,  0.00431874,\n",
       "        0.00431874,  0.00431874])"
      ]
     },
     "execution_count": 13,
     "metadata": {},
     "output_type": "execute_result"
    }
   ],
   "source": [
    "#This is the first row for V\n",
    "lsa.components_[0]"
   ]
  },
  {
   "cell_type": "code",
   "execution_count": 14,
   "metadata": {
    "collapsed": false
   },
   "outputs": [
    {
     "name": "stdout",
     "output_type": "stream",
     "text": [
      "2.7.11 |Anaconda 2.5.0 (64-bit)| (default, Dec  6 2015, 18:08:32) \n",
      "[GCC 4.4.7 20120313 (Red Hat 4.4.7-1)]\n"
     ]
    }
   ],
   "source": [
    "import sys\n",
    "print (sys.version)"
   ]
  },
  {
   "cell_type": "code",
   "execution_count": 15,
   "metadata": {
    "collapsed": false
   },
   "outputs": [
    {
     "name": "stdout",
     "output_type": "stream",
     "text": [
      "Concept 0:\n",
      "data\n",
      "procedures\n",
      "large amounts\n",
      "large amounts data\n",
      "science\n",
      "amounts\n",
      "amounts data\n",
      "different\n",
      "could\n",
      "large\n",
      " \n",
      "Concept 1:\n",
      "data\n",
      "science\n",
      "data science\n",
      "make\n",
      "white\n",
      "answer\n",
      "decisions\n",
      "using\n",
      "questions\n",
      "finding\n",
      " \n",
      "Concept 2:\n",
      "white\n",
      "answer\n",
      "converted\n",
      "questions\n",
      "find\n",
      "could\n",
      "big\n",
      "big data\n",
      "white converted\n",
      "white white\n",
      " \n",
      "Concept 3:\n",
      "make\n",
      "white\n",
      "make better\n",
      "use data\n",
      "decisions\n",
      "technologies\n",
      "use\n",
      "good\n",
      "47 20\n",
      "better decisions\n",
      " \n",
      "Concept 4:\n",
      "answer\n",
      "questions\n",
      "part\n",
      "using\n",
      "art\n",
      "answers\n",
      "relevant\n",
      "relevant data\n",
      "canada\n",
      "contacts\n",
      " \n",
      "Concept 5:\n",
      "answer\n",
      "science\n",
      "part\n",
      "perspective\n",
      "process\n",
      "methods\n",
      "data science\n",
      "analysis\n",
      "using\n",
      "relevant\n",
      " \n",
      "Concept 6:\n",
      "videos\n",
      "often\n",
      "research\n",
      "josh\n",
      "useful\n",
      "ability\n",
      "predict\n",
      "study\n",
      "sets\n",
      "ability explain\n",
      " \n",
      "Concept 7:\n",
      "make\n",
      "use\n",
      "may\n",
      "greater\n",
      "humanity\n",
      "answer\n",
      "scientist\n",
      "data scientist\n",
      "tools\n",
      "different\n",
      " \n",
      "Concept 8:\n",
      "questions\n",
      "order\n",
      "scientist\n",
      "competitive\n",
      "methods\n",
      "business\n",
      "analysis\n",
      "competitive edge\n",
      "edge\n",
      "especially\n",
      " \n",
      "Concept 9:\n",
      "predict\n",
      "find\n",
      "solve\n",
      "ability\n",
      "large\n",
      "business\n",
      "gained\n",
      "concept\n",
      "concept data\n",
      "concept data science\n",
      " \n",
      "Concept 10:\n",
      "find\n",
      "dig\n",
      "decisions\n",
      "research\n",
      "statistics data\n",
      "studies\n",
      "use statistics\n",
      "use statistics data\n",
      "figure\n",
      "data scientist\n",
      " \n",
      "Concept 11:\n",
      "help\n",
      "child\n",
      "collect\n",
      "lego\n",
      "future\n",
      "used\n",
      "analyzing\n",
      "provide\n",
      "ways\n",
      "define\n",
      " \n",
      "Concept 12:\n",
      "good\n",
      "technologies\n",
      "used\n",
      "everyone\n",
      "hello everyone\n",
      "much\n",
      "practices\n",
      "work\n",
      "dig\n",
      "help\n",
      " \n",
      "Concept 13:\n",
      "days\n",
      "since\n",
      "come\n",
      "finding\n",
      "digital\n",
      "trends\n",
      "used\n",
      "efficient\n",
      "insight\n",
      "different\n",
      " \n",
      "Concept 14:\n",
      "information\n",
      "large\n",
      "answer\n",
      "analyzing data\n",
      "title\n",
      "white\n",
      "part\n",
      "amounts data help\n",
      "analyzing data especially\n",
      "bi\n",
      " \n",
      "Concept 15:\n",
      "store\n",
      "information\n",
      "make\n",
      "used\n",
      "different\n",
      "data science\n",
      "analysis visualization\n",
      "analysis visualization implementation\n",
      "business strategy\n",
      "business strategy thanks\n",
      " \n",
      "Concept 16:\n",
      "could\n",
      "white\n",
      "data science\n",
      "information\n",
      "way\n",
      "according\n",
      "people\n",
      "questions\n",
      "help\n",
      "methods\n",
      " \n",
      "Concept 17:\n",
      "hello\n",
      "science\n",
      "large amounts\n",
      "large amounts data\n",
      "data\n",
      "figure\n",
      "scientist\n",
      "using\n",
      "may\n",
      "data scientist\n",
      " \n",
      "Concept 18:\n",
      "47 20\n",
      "thank\n",
      "figure\n",
      "data science\n",
      "according\n",
      "since\n",
      "everyone\n",
      "hello everyone\n",
      "store\n",
      "days\n",
      " \n",
      "Concept 19:\n",
      "analysis\n",
      "data science\n",
      "science\n",
      "could\n",
      "amounts\n",
      "amounts data\n",
      "questions\n",
      "procedures\n",
      "days\n",
      "figure\n",
      " \n",
      "Concept 20:\n",
      "tools\n",
      "use\n",
      "hello\n",
      "scientist\n",
      "science\n",
      "involves\n",
      "days\n",
      "way\n",
      "part\n",
      "come\n",
      " \n",
      "Concept 21:\n",
      "amounts\n",
      "amounts data\n",
      "30 million\n",
      "information\n",
      "science\n",
      "large\n",
      "analysis\n",
      "answer\n",
      "figure\n",
      "large amounts\n",
      " \n",
      "Concept 22:\n",
      "different\n",
      "according\n",
      "could\n",
      "large\n",
      "used\n",
      "data\n",
      "hello\n",
      "answer\n",
      "find\n",
      "days\n",
      " \n",
      "Concept 23:\n",
      "data science\n",
      "30 million\n",
      "hello\n",
      "practices\n",
      "days\n",
      "information\n",
      "30 million pages\n",
      "use\n",
      "since\n",
      "different\n",
      " \n",
      "Concept 24:\n",
      "30 million\n",
      "procedures\n",
      "figure\n",
      "analysis\n",
      "hello\n",
      "30\n",
      "used\n",
      "valuable\n",
      "could\n",
      "answer\n",
      " \n",
      "Concept 25:\n",
      "data\n",
      "procedures\n",
      "30 million\n",
      "30\n",
      "amounts\n",
      "amounts data\n",
      "information\n",
      "science\n",
      "figure\n",
      "47 20\n",
      " \n",
      "Concept 26:\n",
      "47\n",
      "30 million pages\n",
      "procedures\n",
      "information\n",
      "since\n",
      "finding\n",
      "store\n",
      "valuable\n",
      "different\n",
      "competitive\n",
      " \n"
     ]
    }
   ],
   "source": [
    "terms = vectorizer.get_feature_names()\n",
    "for i, comp in enumerate(lsa.components_): \n",
    "    termsInComp = zip (terms,comp)\n",
    "    sortedTerms =  sorted(termsInComp, key=lambda x: x[1], reverse=True) [:10]\n",
    "    print \"Concept %d:\" % i\n",
    "    for term in sortedTerms:\n",
    "        print term[0]\n",
    "    print \" \""
   ]
  },
  {
   "cell_type": "code",
   "execution_count": 16,
   "metadata": {
    "collapsed": false
   },
   "outputs": [
    {
     "data": {
      "text/plain": [
       "array([[  5.23425129e-03,   5.23425129e-03,   5.23425129e-03, ...,\n",
       "          4.31873777e-03,   4.31873777e-03,   4.31873777e-03],\n",
       "       [  9.97879095e-03,   9.97879249e-03,   9.97879183e-03, ...,\n",
       "          7.46358789e-03,   7.46358788e-03,   7.46358788e-03],\n",
       "       [  4.44379752e-02,   4.21871496e-02,   4.25205205e-02, ...,\n",
       "         -1.26554716e-02,  -1.25313087e-02,  -1.25313087e-02],\n",
       "       ..., \n",
       "       [  5.92257007e-02,  -9.64054746e-02,   5.74069911e-03, ...,\n",
       "         -6.68128723e-04,   2.74519302e-05,   2.74519302e-05],\n",
       "       [ -6.67007720e-02,  -1.87981280e-01,  -1.11179287e-01, ...,\n",
       "         -5.62748435e-03,  -5.74500301e-03,  -5.74500301e-03],\n",
       "       [ -1.38321016e-01,  -3.04695672e-01,  -1.97723849e-01, ...,\n",
       "          4.87449826e-04,   8.00556544e-04,   8.00556544e-04]])"
      ]
     },
     "execution_count": 16,
     "metadata": {},
     "output_type": "execute_result"
    }
   ],
   "source": [
    "lsa.components_"
   ]
  },
  {
   "cell_type": "code",
   "execution_count": null,
   "metadata": {
    "collapsed": false
   },
   "outputs": [],
   "source": []
  },
  {
   "cell_type": "code",
   "execution_count": null,
   "metadata": {
    "collapsed": false
   },
   "outputs": [],
   "source": []
  },
  {
   "cell_type": "code",
   "execution_count": null,
   "metadata": {
    "collapsed": false
   },
   "outputs": [],
   "source": []
  },
  {
   "cell_type": "code",
   "execution_count": null,
   "metadata": {
    "collapsed": true
   },
   "outputs": [],
   "source": []
  }
 ],
 "metadata": {
  "kernelspec": {
   "display_name": "Python 2",
   "language": "python",
   "name": "python2"
  },
  "language_info": {
   "codemirror_mode": {
    "name": "ipython",
    "version": 2
   },
   "file_extension": ".py",
   "mimetype": "text/x-python",
   "name": "python",
   "nbconvert_exporter": "python",
   "pygments_lexer": "ipython2",
   "version": "2.7.11"
  }
 },
 "nbformat": 4,
 "nbformat_minor": 0
}
