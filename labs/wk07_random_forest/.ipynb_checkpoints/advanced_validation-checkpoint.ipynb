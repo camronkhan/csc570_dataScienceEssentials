{
 "cells": [
  {
   "cell_type": "markdown",
   "metadata": {},
   "source": [
    "### Imports"
   ]
  },
  {
   "cell_type": "code",
   "execution_count": 71,
   "metadata": {
    "collapsed": false
   },
   "outputs": [
    {
     "name": "stdout",
     "output_type": "stream",
     "text": [
      "Populating the interactive namespace from numpy and matplotlib\n"
     ]
    }
   ],
   "source": [
    "import pandas as pd\n",
    "import numpy as np\n",
    "from sklearn.cross_validation import train_test_split\n",
    "from sklearn.ensemble import RandomForestClassifier\n",
    "from sklearn.grid_search import GridSearchCV\n",
    "from sklearn.metrics import accuracy_score\n",
    "from sklearn.metrics import roc_auc_score\n",
    "from sklearn.metrics import confusion_matrix\n",
    "from sklearn.metrics import classification_report\n",
    "from sklearn.metrics import precision_score\n",
    "from sklearn.metrics import recall_score\n",
    "from sklearn import cross_validation\n",
    "import math\n",
    "\n",
    "%pylab inline"
   ]
  },
  {
   "cell_type": "markdown",
   "metadata": {},
   "source": [
    "### Prepare Data"
   ]
  },
  {
   "cell_type": "code",
   "execution_count": 72,
   "metadata": {
    "collapsed": true
   },
   "outputs": [],
   "source": [
    "# import data\n",
    "data = pd.read_csv(\"../../data/breast_cancer/breast_cancer.csv\")"
   ]
  },
  {
   "cell_type": "code",
   "execution_count": 73,
   "metadata": {
    "collapsed": false
   },
   "outputs": [
    {
     "data": {
      "text/html": [
       "<div>\n",
       "<table border=\"1\" class=\"dataframe\">\n",
       "  <thead>\n",
       "    <tr style=\"text-align: right;\">\n",
       "      <th></th>\n",
       "      <th>Unnamed: 0</th>\n",
       "      <th>id number</th>\n",
       "      <th>clump_thickness</th>\n",
       "      <th>uniformity_of_cell_size</th>\n",
       "      <th>uniformity_of_cell_shape</th>\n",
       "      <th>marginal_adhesion</th>\n",
       "      <th>epithelial_cell_size</th>\n",
       "      <th>bare_nuclei</th>\n",
       "      <th>bland_chromatin</th>\n",
       "      <th>normal_nucleoli</th>\n",
       "      <th>mitoses</th>\n",
       "      <th>malignant</th>\n",
       "    </tr>\n",
       "  </thead>\n",
       "  <tbody>\n",
       "    <tr>\n",
       "      <th>0</th>\n",
       "      <td>0</td>\n",
       "      <td>1000025</td>\n",
       "      <td>5</td>\n",
       "      <td>1</td>\n",
       "      <td>1</td>\n",
       "      <td>1</td>\n",
       "      <td>2</td>\n",
       "      <td>1</td>\n",
       "      <td>3</td>\n",
       "      <td>1</td>\n",
       "      <td>1</td>\n",
       "      <td>0</td>\n",
       "    </tr>\n",
       "    <tr>\n",
       "      <th>1</th>\n",
       "      <td>1</td>\n",
       "      <td>1002945</td>\n",
       "      <td>5</td>\n",
       "      <td>4</td>\n",
       "      <td>4</td>\n",
       "      <td>5</td>\n",
       "      <td>7</td>\n",
       "      <td>10</td>\n",
       "      <td>3</td>\n",
       "      <td>2</td>\n",
       "      <td>1</td>\n",
       "      <td>0</td>\n",
       "    </tr>\n",
       "    <tr>\n",
       "      <th>2</th>\n",
       "      <td>2</td>\n",
       "      <td>1015425</td>\n",
       "      <td>3</td>\n",
       "      <td>1</td>\n",
       "      <td>1</td>\n",
       "      <td>1</td>\n",
       "      <td>2</td>\n",
       "      <td>2</td>\n",
       "      <td>3</td>\n",
       "      <td>1</td>\n",
       "      <td>1</td>\n",
       "      <td>0</td>\n",
       "    </tr>\n",
       "    <tr>\n",
       "      <th>3</th>\n",
       "      <td>3</td>\n",
       "      <td>1016277</td>\n",
       "      <td>6</td>\n",
       "      <td>8</td>\n",
       "      <td>8</td>\n",
       "      <td>1</td>\n",
       "      <td>3</td>\n",
       "      <td>4</td>\n",
       "      <td>3</td>\n",
       "      <td>7</td>\n",
       "      <td>1</td>\n",
       "      <td>0</td>\n",
       "    </tr>\n",
       "    <tr>\n",
       "      <th>4</th>\n",
       "      <td>4</td>\n",
       "      <td>1017023</td>\n",
       "      <td>4</td>\n",
       "      <td>1</td>\n",
       "      <td>1</td>\n",
       "      <td>3</td>\n",
       "      <td>2</td>\n",
       "      <td>1</td>\n",
       "      <td>3</td>\n",
       "      <td>1</td>\n",
       "      <td>1</td>\n",
       "      <td>0</td>\n",
       "    </tr>\n",
       "  </tbody>\n",
       "</table>\n",
       "</div>"
      ],
      "text/plain": [
       "   Unnamed: 0  id number  clump_thickness  uniformity_of_cell_size  \\\n",
       "0           0    1000025                5                        1   \n",
       "1           1    1002945                5                        4   \n",
       "2           2    1015425                3                        1   \n",
       "3           3    1016277                6                        8   \n",
       "4           4    1017023                4                        1   \n",
       "\n",
       "   uniformity_of_cell_shape  marginal_adhesion  epithelial_cell_size  \\\n",
       "0                         1                  1                     2   \n",
       "1                         4                  5                     7   \n",
       "2                         1                  1                     2   \n",
       "3                         8                  1                     3   \n",
       "4                         1                  3                     2   \n",
       "\n",
       "   bare_nuclei  bland_chromatin  normal_nucleoli  mitoses  malignant  \n",
       "0            1                3                1        1          0  \n",
       "1           10                3                2        1          0  \n",
       "2            2                3                1        1          0  \n",
       "3            4                3                7        1          0  \n",
       "4            1                3                1        1          0  "
      ]
     },
     "execution_count": 73,
     "metadata": {},
     "output_type": "execute_result"
    }
   ],
   "source": [
    "# eda\n",
    "data.head()"
   ]
  },
  {
   "cell_type": "code",
   "execution_count": 74,
   "metadata": {
    "collapsed": false
   },
   "outputs": [
    {
     "name": "stdout",
     "output_type": "stream",
     "text": [
      "<class 'pandas.core.frame.DataFrame'>\n",
      "RangeIndex: 699 entries, 0 to 698\n",
      "Data columns (total 12 columns):\n",
      "Unnamed: 0                  699 non-null int64\n",
      "id number                   699 non-null int64\n",
      "clump_thickness             699 non-null int64\n",
      "uniformity_of_cell_size     699 non-null int64\n",
      "uniformity_of_cell_shape    699 non-null int64\n",
      "marginal_adhesion           699 non-null int64\n",
      "epithelial_cell_size        699 non-null int64\n",
      "bare_nuclei                 699 non-null int64\n",
      "bland_chromatin             699 non-null int64\n",
      "normal_nucleoli             699 non-null int64\n",
      "mitoses                     699 non-null int64\n",
      "malignant                   699 non-null int64\n",
      "dtypes: int64(12)\n",
      "memory usage: 65.6 KB\n"
     ]
    }
   ],
   "source": [
    "data.info()"
   ]
  },
  {
   "cell_type": "code",
   "execution_count": 75,
   "metadata": {
    "collapsed": false
   },
   "outputs": [],
   "source": [
    "# drop unused fields\n",
    "X = data.drop(['Unnamed: 0', 'id number'], axis=1)"
   ]
  },
  {
   "cell_type": "code",
   "execution_count": 76,
   "metadata": {
    "collapsed": false
   },
   "outputs": [],
   "source": [
    "# remove dependent variable\n",
    "y = X.pop('malignant')"
   ]
  },
  {
   "cell_type": "code",
   "execution_count": 77,
   "metadata": {
    "collapsed": false
   },
   "outputs": [],
   "source": [
    "# create test/train split\n",
    "X_train, X_test, y_train, y_test = train_test_split(X, y, test_size=0.2, random_state=42)"
   ]
  },
  {
   "cell_type": "markdown",
   "metadata": {},
   "source": [
    "### Random Forest with Defaults (Baseline)"
   ]
  },
  {
   "cell_type": "code",
   "execution_count": 78,
   "metadata": {
    "collapsed": false
   },
   "outputs": [
    {
     "data": {
      "text/plain": [
       "RandomForestClassifier(bootstrap=True, class_weight=None, criterion='gini',\n",
       "            max_depth=None, max_features='auto', max_leaf_nodes=None,\n",
       "            min_samples_leaf=1, min_samples_split=2,\n",
       "            min_weight_fraction_leaf=0.0, n_estimators=10, n_jobs=1,\n",
       "            oob_score=False, random_state=42, verbose=0, warm_start=False)"
      ]
     },
     "execution_count": 78,
     "metadata": {},
     "output_type": "execute_result"
    }
   ],
   "source": [
    "# instantiate and train model\n",
    "rfc_base = RandomForestClassifier(random_state=42)\n",
    "rfc_base.fit(X_train, y_train)"
   ]
  },
  {
   "cell_type": "code",
   "execution_count": 79,
   "metadata": {
    "collapsed": false,
    "scrolled": true
   },
   "outputs": [
    {
     "name": "stdout",
     "output_type": "stream",
     "text": [
      "Accuracy:  0.971428571429 \n",
      "AUC:  0.967251461988 \n",
      "Precision:  0.955555555556 \n",
      "Recall:  0.955555555556 \n",
      "\n",
      "              precision    recall  f1-score   support\n",
      "\n",
      "          0       0.98      0.98      0.98        95\n",
      "          1       0.96      0.96      0.96        45\n",
      "\n",
      "avg / total       0.97      0.97      0.97       140\n",
      "\n"
     ]
    }
   ],
   "source": [
    "# evaulate performance\n",
    "y_pred_base = rfc_base.predict(X_test)\n",
    "accuracy_base = accuracy_score(y_test, y_pred_base)\n",
    "auc_base = roc_auc_score(y_test, y_pred_base)\n",
    "precision_base = precision_score(y_test, y_pred_base)\n",
    "recall_base = recall_score(y_test, y_pred_base)\n",
    "confusionX_base = classification_report(y_test, y_pred_base)\n",
    "print (\"Accuracy: \", accuracy_base, \"\\nAUC: \", auc_base, \"\\nPrecision: \", precision_base, \"\\nRecall: \", recall_base, \"\\n\\n\", confusionX_base)"
   ]
  },
  {
   "cell_type": "markdown",
   "metadata": {},
   "source": [
    "### Random Forest with OOB"
   ]
  },
  {
   "cell_type": "code",
   "execution_count": 80,
   "metadata": {
    "collapsed": false
   },
   "outputs": [
    {
     "data": {
      "text/plain": [
       "RandomForestClassifier(bootstrap=True, class_weight=None, criterion='gini',\n",
       "            max_depth=None, max_features='auto', max_leaf_nodes=None,\n",
       "            min_samples_leaf=1, min_samples_split=2,\n",
       "            min_weight_fraction_leaf=0.0, n_estimators=100, n_jobs=1,\n",
       "            oob_score=True, random_state=42, verbose=0, warm_start=False)"
      ]
     },
     "execution_count": 80,
     "metadata": {},
     "output_type": "execute_result"
    }
   ],
   "source": [
    "# instantiate and train model\n",
    "rfc_oob = RandomForestClassifier(n_estimators=100, oob_score=True, random_state=42)\n",
    "rfc_oob.fit(X_train, y_train)"
   ]
  },
  {
   "cell_type": "code",
   "execution_count": 81,
   "metadata": {
    "collapsed": false
   },
   "outputs": [
    {
     "name": "stdout",
     "output_type": "stream",
     "text": [
      "Accuracy:  0.964285714286 \n",
      "AUC:  0.956140350877 \n",
      "Precision:  0.954545454545 \n",
      "Recall:  0.933333333333 \n",
      "\n",
      "              precision    recall  f1-score   support\n",
      "\n",
      "          0       0.97      0.98      0.97        95\n",
      "          1       0.95      0.93      0.94        45\n",
      "\n",
      "avg / total       0.96      0.96      0.96       140\n",
      "\n"
     ]
    }
   ],
   "source": [
    "# evaulate performance\n",
    "y_pred_oob = rfc_oob.predict(X_test)\n",
    "accuracy_oob = accuracy_score(y_test, y_pred_oob)\n",
    "auc_oob = roc_auc_score(y_test, y_pred_oob)\n",
    "precision_oob = precision_score(y_test, y_pred_oob)\n",
    "recall_oob = recall_score(y_test, y_pred_oob)\n",
    "confusionX_oob = classification_report(y_test, y_pred_oob)\n",
    "print (\"Accuracy: \", accuracy_oob, \"\\nAUC: \", auc_oob, \"\\nPrecision: \", precision_oob, \"\\nRecall: \", recall_oob, \"\\n\\n\", confusionX_oob)"
   ]
  },
  {
   "cell_type": "markdown",
   "metadata": {},
   "source": [
    "### Random Forest with Grid Search"
   ]
  },
  {
   "cell_type": "code",
   "execution_count": 82,
   "metadata": {
    "collapsed": true
   },
   "outputs": [],
   "source": [
    "# set hyperparameter options\n",
    "n_estimators = [10,100,300,400,500,1000]\n",
    "max_features = ['auto', 'sqrt', 'log2']\n",
    "min_samples_split = [2,3,5,7,20,50,100]\n",
    "min_samples_leaf = [1,3,10]"
   ]
  },
  {
   "cell_type": "code",
   "execution_count": 83,
   "metadata": {
    "collapsed": false
   },
   "outputs": [
    {
     "data": {
      "text/plain": [
       "GridSearchCV(cv=None, error_score='raise',\n",
       "       estimator=RandomForestClassifier(bootstrap=True, class_weight=None, criterion='gini',\n",
       "            max_depth=None, max_features='auto', max_leaf_nodes=None,\n",
       "            min_samples_leaf=1, min_samples_split=2,\n",
       "            min_weight_fraction_leaf=0.0, n_estimators=10, n_jobs=1,\n",
       "            oob_score=False, random_state=42, verbose=0, warm_start=False),\n",
       "       fit_params={}, iid=True, n_jobs=-1,\n",
       "       param_grid={'n_estimators': [10, 100, 300, 400, 500, 1000], 'max_features': ['auto', 'sqrt', 'log2'], 'min_samples_split': [2, 3, 5, 7, 20, 50, 100]},\n",
       "       pre_dispatch='2*n_jobs', refit=True, scoring=None, verbose=0)"
      ]
     },
     "execution_count": 83,
     "metadata": {},
     "output_type": "execute_result"
    }
   ],
   "source": [
    "# instantiate and train model with grid search\n",
    "rfc_grid = RandomForestClassifier(n_jobs=1, random_state=42)\n",
    "rfc_grid_estimator = GridSearchCV(rfc_grid, dict(n_estimators=n_estimators, max_features=max_features, min_samples_split=min_samples_split), cv=None, n_jobs=-1)\n",
    "rfc_grid_estimator.fit(X_train, y_train)"
   ]
  },
  {
   "cell_type": "code",
   "execution_count": 84,
   "metadata": {
    "collapsed": false
   },
   "outputs": [
    {
     "data": {
      "text/plain": [
       "RandomForestClassifier(bootstrap=True, class_weight=None, criterion='gini',\n",
       "            max_depth=None, max_features='auto', max_leaf_nodes=None,\n",
       "            min_samples_leaf=1, min_samples_split=50,\n",
       "            min_weight_fraction_leaf=0.0, n_estimators=300, n_jobs=1,\n",
       "            oob_score=False, random_state=42, verbose=0, warm_start=False)"
      ]
     },
     "execution_count": 84,
     "metadata": {},
     "output_type": "execute_result"
    }
   ],
   "source": [
    "# best hyperparameters\n",
    "rfc_grid_estimator.best_estimator_"
   ]
  },
  {
   "cell_type": "code",
   "execution_count": 85,
   "metadata": {
    "collapsed": false,
    "scrolled": true
   },
   "outputs": [
    {
     "name": "stdout",
     "output_type": "stream",
     "text": [
      "Accuracy:  0.964285714286 \n",
      "AUC:  0.96783625731 \n",
      "Precision:  0.916666666667 \n",
      "Recall:  0.977777777778 \n",
      "\n",
      "              precision    recall  f1-score   support\n",
      "\n",
      "          0       0.99      0.96      0.97        95\n",
      "          1       0.92      0.98      0.95        45\n",
      "\n",
      "avg / total       0.97      0.96      0.96       140\n",
      "\n"
     ]
    }
   ],
   "source": [
    "# evaulate performance\n",
    "rfc_grid_best = rfc_grid_estimator.best_estimator_\n",
    "y_pred_grid = rfc_grid_best.predict(X_test)\n",
    "accuracy_grid = accuracy_score(y_test, y_pred_grid)\n",
    "auc_grid = roc_auc_score(y_test, y_pred_grid)\n",
    "precision_grid = precision_score(y_test, y_pred_grid)\n",
    "recall_grid = recall_score(y_test, y_pred_grid)\n",
    "confusionX_grid = classification_report(y_test, y_pred_grid)\n",
    "print (\"Accuracy: \", accuracy_grid, \"\\nAUC: \", auc_grid, \"\\nPrecision: \", precision_grid, \"\\nRecall: \", recall_grid, \"\\n\\n\", confusionX_grid)"
   ]
  },
  {
   "cell_type": "markdown",
   "metadata": {},
   "source": [
    "### Random Forest with K-Fold Cross Validation"
   ]
  },
  {
   "cell_type": "code",
   "execution_count": 86,
   "metadata": {
    "collapsed": false
   },
   "outputs": [],
   "source": [
    "def getMeanAndConfidence(scores, name):\n",
    "    mean_score = scores.mean()\n",
    "    std_dev = scores.std()\n",
    "    std_error = scores.std() / math.sqrt(scores.shape[0])\n",
    "    ci =  2.262 * std_error\n",
    "    lower_bound = mean_score - ci\n",
    "    upper_bound = mean_score + ci\n",
    "    print (\"%s is %f +/-  %f\" % (name, mean_score, ci))\n",
    "    print ('95 percent probability that if this experiment were repeated over and over the average score would be between %f and %f' % (lower_bound, upper_bound))"
   ]
  },
  {
   "cell_type": "code",
   "execution_count": 87,
   "metadata": {
    "collapsed": false
   },
   "outputs": [
    {
     "name": "stdout",
     "output_type": "stream",
     "text": [
      "Accuracy is 0.965794 +/-  0.019312\n",
      "95 percent probability that if this experiment were repeated over and over the average score would be between 0.946481 and 0.985106\n"
     ]
    }
   ],
   "source": [
    "accuracy_cv = cross_validation.cross_val_score(rfc_grid_best, X, y, cv=10, scoring='accuracy')\n",
    "getMeanAndConfidence(accuracy_cv, 'Accuracy')"
   ]
  },
  {
   "cell_type": "code",
   "execution_count": 88,
   "metadata": {
    "collapsed": false
   },
   "outputs": [
    {
     "name": "stdout",
     "output_type": "stream",
     "text": [
      "AUC is 0.991235 +/-  0.007271\n",
      "95 percent probability that if this experiment were repeated over and over the average score would be between 0.983964 and 0.998507\n"
     ]
    }
   ],
   "source": [
    "roc_auc_cv = cross_validation.cross_val_score(rfc_grid_best, X, y, cv=10, scoring='roc_auc')\n",
    "getMeanAndConfidence(roc_auc_cv, 'AUC')"
   ]
  },
  {
   "cell_type": "code",
   "execution_count": 89,
   "metadata": {
    "collapsed": false
   },
   "outputs": [
    {
     "name": "stdout",
     "output_type": "stream",
     "text": [
      "Precision is 0.943596 +/-  0.043713\n",
      "95 percent probability that if this experiment were repeated over and over the average score would be between 0.899882 and 0.987309\n"
     ]
    }
   ],
   "source": [
    "precision_cv = cross_validation.cross_val_score(rfc_grid_best, X, y, cv=10, scoring='precision')\n",
    "getMeanAndConfidence(precision_cv, 'Precision')"
   ]
  },
  {
   "cell_type": "code",
   "execution_count": 90,
   "metadata": {
    "collapsed": false
   },
   "outputs": [
    {
     "name": "stdout",
     "output_type": "stream",
     "text": [
      "Recall is 0.962833 +/-  0.020498\n",
      "95 percent probability that if this experiment were repeated over and over the average score would be between 0.942336 and 0.983331\n"
     ]
    }
   ],
   "source": [
    "recall_cv = cross_validation.cross_val_score(rfc_grid_best, X, y, cv=10, scoring='recall')\n",
    "getMeanAndConfidence(recall_cv, 'Recall')"
   ]
  },
  {
   "cell_type": "markdown",
   "metadata": {
    "collapsed": true
   },
   "source": [
    "### Summary"
   ]
  },
  {
   "cell_type": "markdown",
   "metadata": {},
   "source": [
    "**Report on how the K-Fold CV score compared to your single holdout AUC**\n",
    "\n",
    "The K-Fold CV AUC outperformed the single holdout AUC by 2.3 percent.  The K-Fold CV confidence range was also very narrow at 0.7%.  This demonstrates that growing multiple random forests using multiple slightly different datasets improves the performance of our predictions."
   ]
  },
  {
   "cell_type": "markdown",
   "metadata": {},
   "source": [
    "**Write a short description of your model's performance.   Include AUC, Accuracy, Precision, and Recall in your discussion.**\n",
    "\n",
    "The final model, which implemented Random Forest Classification, Grid Search, and K-Fold Cross Validation, performed very well.  The following are the AUC, Accuracy, Precision, and Recall scores in a 95% confidenece interval with k=10 folds:\n",
    "- **AUC:** 0.9912\n",
    "- **Accuracy:** 0.9658\n",
    "- **Precision:** 0.9436\n",
    "- **Recall:** 0.9628\n",
    "\n",
    "The K-Fold CV model outperformed the single holdout model in AUC, Accuracy, and Precision.  The single holdout model performed better on Recall.  However, because we performed the former on 10 combinations of the dataset, we can feel more confident that the K-Fold CV model will generalize better to unseen data."
   ]
  },
  {
   "cell_type": "code",
   "execution_count": null,
   "metadata": {
    "collapsed": true
   },
   "outputs": [],
   "source": []
  }
 ],
 "metadata": {
  "anaconda-cloud": {},
  "kernelspec": {
   "display_name": "Python 3",
   "language": "python",
   "name": "python3"
  },
  "language_info": {
   "codemirror_mode": {
    "name": "ipython",
    "version": 3
   },
   "file_extension": ".py",
   "mimetype": "text/x-python",
   "name": "python",
   "nbconvert_exporter": "python",
   "pygments_lexer": "ipython3",
   "version": "3.6.0"
  }
 },
 "nbformat": 4,
 "nbformat_minor": 2
}
