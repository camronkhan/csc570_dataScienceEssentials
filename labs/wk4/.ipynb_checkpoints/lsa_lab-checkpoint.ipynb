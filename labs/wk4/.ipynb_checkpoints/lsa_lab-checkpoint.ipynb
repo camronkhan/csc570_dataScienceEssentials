{
 "cells": [
  {
   "cell_type": "markdown",
   "metadata": {},
   "source": [
    "### Import Dependencies"
   ]
  },
  {
   "cell_type": "code",
   "execution_count": 377,
   "metadata": {
    "collapsed": true
   },
   "outputs": [],
   "source": [
    "from bs4 import BeautifulSoup\n",
    "import nltk\n",
    "from nltk.corpus import stopwords\n",
    "from sklearn.feature_extraction.text import TfidfVectorizer\n",
    "from sklearn.decomposition import TruncatedSVD"
   ]
  },
  {
   "cell_type": "code",
   "execution_count": 378,
   "metadata": {
    "collapsed": false
   },
   "outputs": [
    {
     "name": "stdout",
     "output_type": "stream",
     "text": [
      "[nltk_data] Downloading package stopwords to\n",
      "[nltk_data]     C:\\Users\\camro\\AppData\\Roaming\\nltk_data...\n",
      "[nltk_data]   Package stopwords is already up-to-date!\n"
     ]
    },
    {
     "data": {
      "text/plain": [
       "True"
      ]
     },
     "execution_count": 378,
     "metadata": {},
     "output_type": "execute_result"
    }
   ],
   "source": [
    "nltk.download('stopwords')"
   ]
  },
  {
   "cell_type": "markdown",
   "metadata": {},
   "source": [
    "### Import Data"
   ]
  },
  {
   "cell_type": "code",
   "execution_count": 379,
   "metadata": {
    "collapsed": false
   },
   "outputs": [],
   "source": [
    "from sklearn.datasets import fetch_20newsgroups\n",
    "categories = ['talk.politics.mideast']\n",
    "dataset = fetch_20newsgroups(subset='all', shuffle=True, random_state=42, categories=categories)\n",
    "corpus = dataset.data"
   ]
  },
  {
   "cell_type": "markdown",
   "metadata": {},
   "source": [
    "### Define Stopwords"
   ]
  },
  {
   "cell_type": "code",
   "execution_count": 380,
   "metadata": {
    "collapsed": true
   },
   "outputs": [],
   "source": [
    "stopset = set(stopwords.words('english'))\n",
    "stopset.update(['From', 'Subject', 'Re', 'Lines', 'In-reply-to', 'Organization', 'NNTP-Posting-Host', '\\n', 'GMT', 'writes', 'wrote', 'edu', 'com', 'ed', 'professor', '00', '150', 'bony', '000', 'also', 'said', 'university', 'history', 'cs', 'bony1', 'like', 'org', 'could', 'would', 'say', 'nntp', 'posting', 'host', 'might', 'subject', 'uucp', 'organization', '>', '000246', '0000', '11186', '000413', '25123', 'reply', '00081100', 'ysub', 'ysu', '000th', '0006', '003336', '10198', '002811', '22496', '002118', '24102'])"
   ]
  },
  {
   "cell_type": "markdown",
   "metadata": {},
   "source": [
    "### TF-IDF Vectorizing"
   ]
  },
  {
   "cell_type": "code",
   "execution_count": 381,
   "metadata": {
    "collapsed": false
   },
   "outputs": [
    {
     "data": {
      "text/plain": [
       "'From: amoss@shuldig.cs.huji.ac.il (Amos Shapira)\\nSubject: Re: Final Solution in Palestine ?\\nOrganization: Inst. of Comp. Sci., Hebrew University, Jerusalem, Israel\\nLines: 30\\nNNTP-Posting-Host: shuldig.cs.huji.ac.il\\nIn-reply-to: ahmeda@McRCIM.McGill.EDU\\'s message of Sun, 25 Apr 93 17:10:03 GMT\\n\\nahmeda@McRCIM.McGill.EDU (Ahmed Abu-Abed) writes:\\n\\n|What Hamas and Islamic Jihad believe in, as far as I can get from the Arab\\n|media,\\n|is an Islamic state that protects the rights of all its inhabitants under\\n|Koranic\\n|Law. This would be a reversal of the 1948 situation in which the Jews in\\n|Palestine took control of the land and its (mostly Muslim) inhabitants.\\n\\nThe borders of the Jewish state as drawn by the U.N. included the areas which\\ncontained mostly Jews,  that\\'s what the surveys and the numerous commitees\\nwhere after when they visited here.\\n\\n|However, whoever committed crimes against humanity (torture, blowing up their\\n|homes, murders,...) must be treated and tried as a war criminal. The political\\n|thought of these movements shows that a freedom of choice will be given to the\\n|Jews in living under the new law or leaving to the destintion of their choice.\\n\\nI never touched an Arab during my army service and never voted for anyone more\\nright than the Green party.  Will I be spared by these \"humanist standards\"?\\n(or will anyone stop to consider this before sloughtering me?)\\n\\nI doubt it.  And not only because of the past record of murdering helpless\\nwomen and children since the turn of the century up to these days.\\n\\n--\\n--Amos Shapira (Jumper Extraordinaire) |  \"It is true that power corrupts,\\nC.S. System Group, Hebrew University,  |   but absolute power is better!\"\\nJerusalem 91904, ISRAEL                |\\namoss@cs.huji.ac.il                    |          -- the Demon to his son\\n'"
      ]
     },
     "execution_count": 381,
     "metadata": {},
     "output_type": "execute_result"
    }
   ],
   "source": [
    "# Example document before metadata removal and vectorizing\n",
    "corpus[0]"
   ]
  },
  {
   "cell_type": "code",
   "execution_count": 382,
   "metadata": {
    "collapsed": false
   },
   "outputs": [],
   "source": [
    "# Remove metadata by locating the index of the last instance of 'writes:' and slicing from the beginning of the doc to this index\n",
    "corpusWithoutMetadata = []\n",
    "target = 'writes:'\n",
    "for doc in corpus:\n",
    "    targetIdx = doc.rfind(target)\n",
    "    if targetIdx >= 0:\n",
    "        corpusWithoutMetadata.append(doc[targetIdx + 7:])\n",
    "    else:\n",
    "        corpusWithoutMetadata.append(doc)"
   ]
  },
  {
   "cell_type": "code",
   "execution_count": 383,
   "metadata": {
    "collapsed": false
   },
   "outputs": [
    {
     "data": {
      "text/plain": [
       "'\\n\\n|What Hamas and Islamic Jihad believe in, as far as I can get from the Arab\\n|media,\\n|is an Islamic state that protects the rights of all its inhabitants under\\n|Koranic\\n|Law. This would be a reversal of the 1948 situation in which the Jews in\\n|Palestine took control of the land and its (mostly Muslim) inhabitants.\\n\\nThe borders of the Jewish state as drawn by the U.N. included the areas which\\ncontained mostly Jews,  that\\'s what the surveys and the numerous commitees\\nwhere after when they visited here.\\n\\n|However, whoever committed crimes against humanity (torture, blowing up their\\n|homes, murders,...) must be treated and tried as a war criminal. The political\\n|thought of these movements shows that a freedom of choice will be given to the\\n|Jews in living under the new law or leaving to the destintion of their choice.\\n\\nI never touched an Arab during my army service and never voted for anyone more\\nright than the Green party.  Will I be spared by these \"humanist standards\"?\\n(or will anyone stop to consider this before sloughtering me?)\\n\\nI doubt it.  And not only because of the past record of murdering helpless\\nwomen and children since the turn of the century up to these days.\\n\\n--\\n--Amos Shapira (Jumper Extraordinaire) |  \"It is true that power corrupts,\\nC.S. System Group, Hebrew University,  |   but absolute power is better!\"\\nJerusalem 91904, ISRAEL                |\\namoss@cs.huji.ac.il                    |          -- the Demon to his son\\n'"
      ]
     },
     "execution_count": 383,
     "metadata": {},
     "output_type": "execute_result"
    }
   ],
   "source": [
    "# Example document after metadata removal\n",
    "corpusWithoutMetadata[0]"
   ]
  },
  {
   "cell_type": "code",
   "execution_count": 384,
   "metadata": {
    "collapsed": true
   },
   "outputs": [],
   "source": [
    "# Initialize vectorizer\n",
    "vectorizer = TfidfVectorizer(stop_words=stopset, use_idf=True, ngram_range=(1,3))"
   ]
  },
  {
   "cell_type": "code",
   "execution_count": 385,
   "metadata": {
    "collapsed": true
   },
   "outputs": [],
   "source": [
    "# Populate maxtrix\n",
    "X = vectorizer.fit_transform(corpus)"
   ]
  },
  {
   "cell_type": "code",
   "execution_count": 386,
   "metadata": {
    "collapsed": false
   },
   "outputs": [
    {
     "data": {
      "text/plain": [
       "<1x319861 sparse matrix of type '<class 'numpy.float64'>'\n",
       "\twith 430 stored elements in Compressed Sparse Row format>"
      ]
     },
     "execution_count": 386,
     "metadata": {},
     "output_type": "execute_result"
    }
   ],
   "source": [
    "# Transformed document after TF-IDF\n",
    "X[0]"
   ]
  },
  {
   "cell_type": "code",
   "execution_count": 387,
   "metadata": {
    "collapsed": false,
    "scrolled": true
   },
   "outputs": [
    {
     "name": "stdout",
     "output_type": "stream",
     "text": [
      "  (0, 142193)\t0.0440712732703\n",
      "  (0, 14116)\t0.0440712732703\n",
      "  (0, 23494)\t0.0440712732703\n",
      "  (0, 151018)\t0.0440712732703\n",
      "  (0, 12415)\t0.0440712732703\n",
      "  (0, 154736)\t0.0440712732703\n",
      "  (0, 47349)\t0.0440712732703\n",
      "  (0, 224150)\t0.0440712732703\n",
      "  (0, 13856)\t0.0440712732703\n",
      "  (0, 134580)\t0.0440712732703\n",
      "  (0, 128766)\t0.0440712732703\n",
      "  (0, 278513)\t0.0440712732703\n",
      "  (0, 75117)\t0.0440712732703\n",
      "  (0, 224168)\t0.0440712732703\n",
      "  (0, 293000)\t0.0440712732703\n",
      "  (0, 106080)\t0.0440712732703\n",
      "  (0, 158111)\t0.0440712732703\n",
      "  (0, 258153)\t0.043171256467\n",
      "  (0, 23487)\t0.043171256467\n",
      "  (0, 81516)\t0.0546643795893\n",
      "  (0, 60547)\t0.0546643795893\n",
      "  (0, 295827)\t0.0546643795893\n",
      "  (0, 261839)\t0.0546643795893\n",
      "  (0, 62669)\t0.0546643795893\n",
      "  (0, 313512)\t0.0546643795893\n",
      "  :\t:\n",
      "  (0, 27797)\t0.0263815801851\n",
      "  (0, 8065)\t0.0262878205919\n",
      "  (0, 276382)\t0.039795075007\n",
      "  (0, 185207)\t0.0261036837065\n",
      "  (0, 182718)\t0.0592453951354\n",
      "  (0, 182839)\t0.0643300113931\n",
      "  (0, 19621)\t0.0847323280043\n",
      "  (0, 8965)\t0.0254085400591\n",
      "  (0, 171836)\t0.00769018946554\n",
      "  (0, 150919)\t0.0291003092985\n",
      "  (0, 154728)\t0.0529530090471\n",
      "  (0, 134576)\t0.0674415372563\n",
      "  (0, 251544)\t0.039795075007\n",
      "  (0, 69727)\t0.039795075007\n",
      "  (0, 146555)\t0.0440712732703\n",
      "  (0, 210709)\t0.0506518609745\n",
      "  (0, 264879)\t0.0279464779785\n",
      "  (0, 111393)\t0.0273884702127\n",
      "  (0, 258137)\t0.0807227141362\n",
      "  (0, 23474)\t0.0807227141362\n",
      "  (0, 142162)\t0.0931342888798\n",
      "  (0, 14094)\t0.0971063581972\n",
      "  (0, 139673)\t0.104329254978\n",
      "  (0, 260131)\t0.0807227141362\n",
      "  (0, 23488)\t0.0807227141362\n"
     ]
    }
   ],
   "source": [
    "# Display term index and associated TF-IDF score\n",
    "# Only terms with a TF-IDF score > 0 are stored\n",
    "print(X[0])"
   ]
  },
  {
   "cell_type": "markdown",
   "metadata": {},
   "source": [
    "### Latent Semantic Analysis\n",
    "Matrix Decomponsition:\n",
    "\n",
    "$$X \\approx USV^{T}$$\n",
    "\n",
    "**X**: m x n matrix, where m = # documents, n = # terms, k = # concepts\n",
    "\n",
    "**U**: m x k matrix, where row (m) = documents and col (k) = concepts\n",
    "\n",
    "**S**: k x k diagonal matix, which shows amt of variation captured from each concept\n",
    "\n",
    "**V**: n x k matrix, where row (n) = terms and col (k) = concepts"
   ]
  },
  {
   "cell_type": "code",
   "execution_count": 388,
   "metadata": {
    "collapsed": false
   },
   "outputs": [
    {
     "data": {
      "text/plain": [
       "(940, 319861)"
      ]
     },
     "execution_count": 388,
     "metadata": {},
     "output_type": "execute_result"
    }
   ],
   "source": [
    "# Number of documents by number of terms\n",
    "# Term count includes bigrams and trigrams in addition to singular terms\n",
    "X.shape"
   ]
  },
  {
   "cell_type": "code",
   "execution_count": 389,
   "metadata": {
    "collapsed": false
   },
   "outputs": [],
   "source": [
    "# Instantiate an instance of TruncatedSVD\n",
    "# TruncatedSVD is engine used to perform matrix decomposition\n",
    "lsa = TruncatedSVD(n_components=12, n_iter=100, random_state=333)"
   ]
  },
  {
   "cell_type": "code",
   "execution_count": 390,
   "metadata": {
    "collapsed": false
   },
   "outputs": [
    {
     "data": {
      "text/plain": [
       "TruncatedSVD(algorithm='randomized', n_components=12, n_iter=100,\n",
       "       random_state=333, tol=0.0)"
      ]
     },
     "execution_count": 390,
     "metadata": {},
     "output_type": "execute_result"
    }
   ],
   "source": [
    "# Decompose maxtrix X into matrices U, S, and V\n",
    "lsa.fit(X)"
   ]
  },
  {
   "cell_type": "code",
   "execution_count": 391,
   "metadata": {
    "collapsed": false
   },
   "outputs": [
    {
     "data": {
      "text/plain": [
       "array([ 0.00024147,  0.00024147,  0.00024147, ...,  0.00134017,\n",
       "        0.00134017,  0.00134017])"
      ]
     },
     "execution_count": 391,
     "metadata": {},
     "output_type": "execute_result"
    }
   ],
   "source": [
    "# First row of V\n",
    "# V(row) = term, V(col) = concept\n",
    "# Each value represents the importance of the term to the concept\n",
    "lsa.components_[0]"
   ]
  },
  {
   "cell_type": "code",
   "execution_count": 392,
   "metadata": {
    "collapsed": false,
    "scrolled": false
   },
   "outputs": [
    {
     "name": "stdout",
     "output_type": "stream",
     "text": [
      "Concept 0:\n",
      "armenian\n",
      "armenians\n",
      "turkish\n",
      "israel\n",
      "people\n",
      "jews\n",
      "israeli\n",
      "serdar\n",
      "armenia\n",
      "one\n",
      "argic\n",
      "serdar argic\n",
      " \n",
      "Concept 1:\n",
      "armenian\n",
      "turkish\n",
      "istanbul\n",
      "005225\n",
      "turkey\n",
      "many\n",
      "ankara\n",
      "genocide\n",
      "new\n",
      "russian\n",
      "soviet armenia\n",
      "people\n",
      " \n",
      "Concept 2:\n",
      "istanbul\n",
      "ankara\n",
      "osmanli\n",
      "ermeni\n",
      "foreign office\n",
      "new york\n",
      "office\n",
      "york\n",
      "mecmuasi\n",
      "nezareti\n",
      "umumiye\n",
      "1983\n",
      " \n",
      "Concept 3:\n",
      "russian\n",
      "armenians\n",
      "genocide\n",
      "world\n",
      "government\n",
      "ottoman\n",
      "van\n",
      "israel\n",
      "fo\n",
      "war\n",
      "jews\n",
      "state\n",
      " \n",
      "Concept 4:\n",
      "government\n",
      "hojali\n",
      "serdar\n",
      "azerbaijan\n",
      "israel\n",
      "dead\n",
      "jews\n",
      "turkish\n",
      "genocide\n",
      "soviet armenia\n",
      "new\n",
      "azeri\n",
      " \n",
      "Concept 5:\n",
      "turkish\n",
      "tartar\n",
      "first\n",
      "government\n",
      "paragraph\n",
      "turkey\n",
      "zuma\n",
      "005019 10716 midway\n",
      "greek\n",
      "even\n",
      "rights\n",
      "sdpa\n",
      " \n",
      "Concept 6:\n",
      "israeli\n",
      "world\n",
      "005019 10716\n",
      "tartars\n",
      "know\n",
      "armenians\n",
      "home\n",
      "one\n",
      "tartar\n",
      "today\n",
      "think\n",
      "israel\n",
      " \n",
      "Concept 7:\n",
      "005225\n",
      "first\n",
      "israeli\n",
      "yalanci\n",
      "paragraph\n",
      "hojali\n",
      "fact\n",
      "dead\n",
      "005019 10716 midway\n",
      "even\n",
      "turkey\n",
      "armenia\n",
      " \n",
      "Concept 8:\n",
      "one\n",
      "005225 8231\n",
      "turkish\n",
      "article\n",
      "jews\n",
      "war\n",
      "armenia\n",
      "ottoman\n",
      "jews latvia\n",
      "latvia\n",
      "armenian\n",
      "russian\n",
      " \n",
      "Concept 9:\n",
      "israel\n",
      "jews\n",
      "soviet\n",
      "armenian\n",
      "004917 3047 news\n",
      "005225\n",
      "genocide\n",
      "today\n",
      "005019\n",
      "government\n",
      "muslim\n",
      "dead\n",
      " \n",
      "Concept 10:\n",
      "turkish\n",
      "armenian\n",
      "genocide\n",
      "well\n",
      "many\n",
      "004917 3047\n",
      "world\n",
      "today\n",
      "things\n",
      "israeli\n",
      "turkey\n",
      "killed\n",
      " \n",
      "Concept 11:\n",
      "war\n",
      "armenian\n",
      "right\n",
      "one\n",
      "many\n",
      "today\n",
      "constitution\n",
      "center\n",
      "well\n",
      "new\n",
      "serdar argic\n",
      "muslims\n",
      " \n"
     ]
    }
   ],
   "source": [
    "# For each concept return the top 12 most significant terms sorted by significance in descending order\n",
    "terms = vectorizer.get_feature_names()\n",
    "for i, comp in enumerate(lsa.components_): \n",
    "    termsInComp = zip (terms,comp)\n",
    "    sortedTerms = sorted(termsInComp, key=lambda x: x[1], reverse=True) [:12]\n",
    "    print(\"Concept %d:\" % i )\n",
    "    for term in sortedTerms:\n",
    "        print(term[0])\n",
    "    print (\" \")"
   ]
  }
 ],
 "metadata": {
  "anaconda-cloud": {},
  "kernelspec": {
   "display_name": "Python [conda root]",
   "language": "python",
   "name": "conda-root-py"
  },
  "language_info": {
   "codemirror_mode": {
    "name": "ipython",
    "version": 3
   },
   "file_extension": ".py",
   "mimetype": "text/x-python",
   "name": "python",
   "nbconvert_exporter": "python",
   "pygments_lexer": "ipython3",
   "version": "3.5.2"
  }
 },
 "nbformat": 4,
 "nbformat_minor": 1
}
