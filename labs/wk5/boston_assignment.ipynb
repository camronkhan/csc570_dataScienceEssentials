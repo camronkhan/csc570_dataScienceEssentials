{
 "cells": [
  {
   "cell_type": "markdown",
   "metadata": {},
   "source": [
    "## Boston Housing Assignment\n",
    "\n",
    "In this assignment you'll be using linear regression to estimate the cost of house in boston, using a well known dataset.\n",
    "\n",
    "Goals:\n",
    "+  Measure the performance of the model I created using $R^{2}$ and MSE\n",
    "> Learn how to use sklearn.metrics.r2_score and sklearn.metrics.mean_squared_error\n",
    "+  Implement a new model using L2 regularization\n",
    "> Use sklearn.linear_model.Ridge or sklearn.linear_model.Lasso \n",
    "+  Get the best model you can by optimizing the regularization parameter.   "
   ]
  },
  {
   "cell_type": "code",
   "execution_count": 185,
   "metadata": {
    "collapsed": false
   },
   "outputs": [],
   "source": [
    "from sklearn import datasets\n",
    "import pandas as pd\n",
    "import numpy as np\n",
    "from sklearn.preprocessing import StandardScaler\n",
    "from sklearn.cross_validation import train_test_split\n",
    "from sklearn.metrics import mean_squared_error\n",
    "from sklearn.metrics import r2_score\n",
    "from sklearn.linear_model import LinearRegression\n",
    "from sklearn.linear_model import Ridge"
   ]
  },
  {
   "cell_type": "code",
   "execution_count": 186,
   "metadata": {
    "collapsed": false
   },
   "outputs": [
    {
     "name": "stdout",
     "output_type": "stream",
     "text": [
      "Boston House Prices dataset\n",
      "===========================\n",
      "\n",
      "Notes\n",
      "------\n",
      "Data Set Characteristics:  \n",
      "\n",
      "    :Number of Instances: 506 \n",
      "\n",
      "    :Number of Attributes: 13 numeric/categorical predictive\n",
      "    \n",
      "    :Median Value (attribute 14) is usually the target\n",
      "\n",
      "    :Attribute Information (in order):\n",
      "        - CRIM     per capita crime rate by town\n",
      "        - ZN       proportion of residential land zoned for lots over 25,000 sq.ft.\n",
      "        - INDUS    proportion of non-retail business acres per town\n",
      "        - CHAS     Charles River dummy variable (= 1 if tract bounds river; 0 otherwise)\n",
      "        - NOX      nitric oxides concentration (parts per 10 million)\n",
      "        - RM       average number of rooms per dwelling\n",
      "        - AGE      proportion of owner-occupied units built prior to 1940\n",
      "        - DIS      weighted distances to five Boston employment centres\n",
      "        - RAD      index of accessibility to radial highways\n",
      "        - TAX      full-value property-tax rate per $10,000\n",
      "        - PTRATIO  pupil-teacher ratio by town\n",
      "        - B        1000(Bk - 0.63)^2 where Bk is the proportion of blacks by town\n",
      "        - LSTAT    % lower status of the population\n",
      "        - MEDV     Median value of owner-occupied homes in $1000's\n",
      "\n",
      "    :Missing Attribute Values: None\n",
      "\n",
      "    :Creator: Harrison, D. and Rubinfeld, D.L.\n",
      "\n",
      "This is a copy of UCI ML housing dataset.\n",
      "http://archive.ics.uci.edu/ml/datasets/Housing\n",
      "\n",
      "\n",
      "This dataset was taken from the StatLib library which is maintained at Carnegie Mellon University.\n",
      "\n",
      "The Boston house-price data of Harrison, D. and Rubinfeld, D.L. 'Hedonic\n",
      "prices and the demand for clean air', J. Environ. Economics & Management,\n",
      "vol.5, 81-102, 1978.   Used in Belsley, Kuh & Welsch, 'Regression diagnostics\n",
      "...', Wiley, 1980.   N.B. Various transformations are used in the table on\n",
      "pages 244-261 of the latter.\n",
      "\n",
      "The Boston house-price data has been used in many machine learning papers that address regression\n",
      "problems.   \n",
      "     \n",
      "**References**\n",
      "\n",
      "   - Belsley, Kuh & Welsch, 'Regression diagnostics: Identifying Influential Data and Sources of Collinearity', Wiley, 1980. 244-261.\n",
      "   - Quinlan,R. (1993). Combining Instance-Based and Model-Based Learning. In Proceedings on the Tenth International Conference of Machine Learning, 236-243, University of Massachusetts, Amherst. Morgan Kaufmann.\n",
      "   - many more! (see http://archive.ics.uci.edu/ml/datasets/Housing)\n",
      "\n"
     ]
    }
   ],
   "source": [
    "bean = datasets.load_boston()\n",
    "print(bean.DESCR)"
   ]
  },
  {
   "cell_type": "code",
   "execution_count": 187,
   "metadata": {
    "collapsed": false
   },
   "outputs": [],
   "source": [
    "def load_boston():\n",
    "    scaler = StandardScaler()\n",
    "    boston = datasets.load_boston()\n",
    "    X=boston.data\n",
    "    y=boston.target\n",
    "    X = scaler.fit_transform(X)\n",
    "    return train_test_split(X,y)\n",
    "    "
   ]
  },
  {
   "cell_type": "code",
   "execution_count": 188,
   "metadata": {
    "collapsed": false
   },
   "outputs": [],
   "source": [
    "X_train, X_test, y_train, y_test = load_boston()"
   ]
  },
  {
   "cell_type": "code",
   "execution_count": 189,
   "metadata": {
    "collapsed": false
   },
   "outputs": [
    {
     "data": {
      "text/plain": [
       "(379, 13)"
      ]
     },
     "execution_count": 189,
     "metadata": {},
     "output_type": "execute_result"
    }
   ],
   "source": [
    "X_train.shape"
   ]
  },
  {
   "cell_type": "markdown",
   "metadata": {},
   "source": [
    "### Fitting a Linear Regression\n",
    "\n",
    "It's as easy as instantiating a new regression object (line 1) and giving your regression object your training data\n",
    "(line 2) by calling .fit(independent variables, dependent variable)\n",
    "\n"
   ]
  },
  {
   "cell_type": "code",
   "execution_count": 190,
   "metadata": {
    "collapsed": false
   },
   "outputs": [
    {
     "data": {
      "text/plain": [
       "LinearRegression(copy_X=True, fit_intercept=True, n_jobs=1, normalize=False)"
      ]
     },
     "execution_count": 190,
     "metadata": {},
     "output_type": "execute_result"
    }
   ],
   "source": [
    "clf_LR = LinearRegression()\n",
    "clf_LR.fit(X_train, y_train)"
   ]
  },
  {
   "cell_type": "markdown",
   "metadata": {},
   "source": [
    "### Making a Prediction\n",
    "X_test is our holdout set of data.  We know the answer (y_test) but the computer does not.   \n",
    "\n",
    "Using the command below, I create a tuple for each observation, where I'm combining the real value (y_test) with\n",
    "the value our regressor predicts (clf.predict(X_test))\n",
    "\n",
    "Use a similiar format to get your r2 and mse metrics working.  Using the [scikit learn api](http://scikit-learn.org/stable/modules/model_evaluation.html) if you need help!"
   ]
  },
  {
   "cell_type": "code",
   "execution_count": 191,
   "metadata": {
    "collapsed": false
   },
   "outputs": [
    {
     "name": "stdout",
     "output_type": "stream",
     "text": [
      "[(13.4, 13.134130012297117), (27.5, 15.216812002105762), (22.800000000000001, 28.196814870901264), (24.300000000000001, 29.397187796849643), (23.899999999999999, 24.564737292913385), (8.5, 7.4439331573708145), (26.600000000000001, 27.743503824161198), (44.0, 36.678482548766731), (7.0, -3.8648966360456214), (14.6, 19.173169747246359), (19.300000000000001, 17.895891989188303), (19.100000000000001, 24.789607576218486), (22.199999999999999, 25.837272166013022), (20.699999999999999, 20.941954229197147), (21.699999999999999, 22.702562387372325), (31.5, 31.181523387496341), (50.0, 42.304321183752563), (50.0, 38.553641970179882), (21.800000000000001, 21.339781727220561), (37.299999999999997, 33.616199484075082), (31.5, 31.987213465444206), (32.0, 33.358631879054585), (13.300000000000001, 20.034325331914548), (19.5, 19.917187351133535), (20.600000000000001, 21.493906917716682), (21.0, 21.335950651218063), (45.399999999999999, 38.013741378129403), (32.0, 33.339958215955996), (33.100000000000001, 34.765317213008146), (20.100000000000001, 18.841509233935156), (32.200000000000003, 31.026024000995307), (36.100000000000001, 32.556449536898043), (23.699999999999999, 26.729836331405647), (20.600000000000001, 19.691182358880308), (23.399999999999999, 24.089124391375528), (24.699999999999999, 23.001665177705863), (20.5, 23.713285696661234), (13.800000000000001, 7.0690525018023216), (43.799999999999997, 34.343580729945387), (43.100000000000001, 36.705738822298798), (22.600000000000001, 19.029223180420338), (13.5, 12.57808773915286), (21.399999999999999, 21.723523210269803), (19.399999999999999, 23.283818959953013), (25.199999999999999, 27.166413506418927), (19.300000000000001, 22.342703858081755), (5.5999999999999996, 11.914923337821175), (27.5, 24.056696903198265), (16.600000000000001, 17.981335179648596), (22.899999999999999, 23.09686530128959), (15.0, 24.591948022359503), (36.200000000000003, 27.037030841177618), (20.399999999999999, 20.642552923001094), (15.199999999999999, 19.063276600639622), (16.0, 17.970433486722726), (33.200000000000003, 31.58907476917615), (20.600000000000001, 15.476397388148387), (8.3000000000000007, 13.15269661367738), (23.100000000000001, 24.517419357007327), (42.799999999999997, 28.454119701296804), (36.5, 35.543778905206409), (18.800000000000001, 21.002571153936138), (12.1, 18.139412257665843), (35.200000000000003, 34.930893825738657), (17.0, 22.900086781438048), (27.899999999999999, 20.052486835420051), (22.600000000000001, 24.224372676322247), (22.600000000000001, 26.771570477500802), (50.0, 24.790111699813554), (24.100000000000001, 25.722598728954132), (24.800000000000001, 30.144820943664584), (10.199999999999999, 16.789976434595332), (50.0, 40.366820023235881), (10.9, 13.398980128172177), (24.5, 26.77457419499677), (22.899999999999999, 19.446017446595512), (20.699999999999999, 26.110069132174687), (21.0, 23.152992164559546), (28.600000000000001, 28.423052119221349), (12.699999999999999, 11.35087739564235), (26.600000000000001, 20.979176623453931), (10.199999999999999, 7.1716102332110907), (35.399999999999999, 30.008115516590983), (16.100000000000001, 18.439377286509597), (19.199999999999999, 19.791136098042088), (19.600000000000001, 19.196608970179689), (16.600000000000001, 15.129423985551378), (23.0, 19.794613910848383), (50.0, 40.200538924362498), (11.800000000000001, 12.787027227619003), (22.5, 22.241102270775919), (22.699999999999999, 25.350391732569577), (21.699999999999999, 24.779571345459377), (14.9, 16.896517045231967), (17.300000000000001, 16.985000477708667), (16.800000000000001, 20.50613909563279), (24.100000000000001, 19.421930240860217), (23.100000000000001, 20.293152944756191), (31.600000000000001, 32.318359795703699), (18.699999999999999, 21.115238609162006), (28.399999999999999, 30.422813430973399), (20.100000000000001, 21.212296871267306), (19.699999999999999, 21.268356286250896), (37.899999999999999, 33.205554626355202), (17.100000000000001, 19.195643899853103), (19.100000000000001, 19.620655911248242), (31.0, 34.140681982556352), (19.300000000000001, 21.372307952190269), (18.399999999999999, 18.87681584617895), (23.899999999999999, 27.081896972851606), (23.699999999999999, 28.235398605781093), (42.299999999999997, 36.349294526183428), (8.4000000000000004, 14.1554622621455), (21.899999999999999, 23.472726159276185), (14.1, 15.372633677697667), (32.700000000000003, 29.529927742147255), (13.6, 14.127238229025266), (33.399999999999999, 27.755886167457685), (41.700000000000003, 36.852722316926453), (22.800000000000001, 28.881708256345576), (22.0, 21.052603238841897), (17.699999999999999, 19.95321864493614), (15.0, 14.504031891083747), (33.0, 22.164253973120193), (31.600000000000001, 31.845039622272729), (10.4, 7.0853501649860053), (32.399999999999999, 36.113226589735376)]\n"
     ]
    }
   ],
   "source": [
    "# List<Tuple<real, predicted>>\n",
    "output_LR = list(zip (y_test, clf_LR.predict(X_test)))\n",
    "y_pred_LR = [x[1] for x in output_LR]\n",
    "print(output_LR)"
   ]
  },
  {
   "cell_type": "markdown",
   "metadata": {},
   "source": [
    "### Calculate R2 and RMSE\n",
    "\n",
    "The goal is to maximize R2 and minimize RMSE"
   ]
  },
  {
   "cell_type": "code",
   "execution_count": 192,
   "metadata": {
    "collapsed": false
   },
   "outputs": [
    {
     "name": "stdout",
     "output_type": "stream",
     "text": [
      "0.746414605529\n"
     ]
    }
   ],
   "source": [
    "R2_LR = r2_score(y_test, y_pred_LR)\n",
    "print(R2_LR)"
   ]
  },
  {
   "cell_type": "code",
   "execution_count": 193,
   "metadata": {
    "collapsed": false
   },
   "outputs": [
    {
     "name": "stdout",
     "output_type": "stream",
     "text": [
      "5.02534883762\n"
     ]
    }
   ],
   "source": [
    "RMSE_LR = np.sqrt(mean_squared_error(y_test, y_pred_LR))\n",
    "print(RMSE_LR)"
   ]
  },
  {
   "cell_type": "markdown",
   "metadata": {},
   "source": [
    "### Implementing a New Model with L2 Regularization: sklearn.linear_model.Ridge"
   ]
  },
  {
   "cell_type": "code",
   "execution_count": 194,
   "metadata": {
    "collapsed": false
   },
   "outputs": [
    {
     "data": {
      "text/plain": [
       "Ridge(alpha=1, copy_X=True, fit_intercept=True, max_iter=None,\n",
       "   normalize=False, random_state=None, solver='auto', tol=0.001)"
      ]
     },
     "execution_count": 194,
     "metadata": {},
     "output_type": "execute_result"
    }
   ],
   "source": [
    "clf_Ridge = Ridge(alpha=1)\n",
    "clf_Ridge.fit(X_train, y_train)"
   ]
  },
  {
   "cell_type": "code",
   "execution_count": 195,
   "metadata": {
    "collapsed": false
   },
   "outputs": [
    {
     "name": "stdout",
     "output_type": "stream",
     "text": [
      "[(13.4, 13.111527994897568), (27.5, 15.120329038563343), (22.800000000000001, 28.183844785177406), (24.300000000000001, 29.333326081042976), (23.899999999999999, 24.570402779317625), (8.5, 7.4779368880497188), (26.600000000000001, 27.753864211164856), (44.0, 36.601108072544953), (7.0, -3.8221401917207132), (14.6, 19.137036880889909), (19.300000000000001, 17.89192888751991), (19.100000000000001, 24.749846720927163), (22.199999999999999, 25.810644522324242), (20.699999999999999, 20.973440951793954), (21.699999999999999, 22.736159698028978), (31.5, 31.13472471576722), (50.0, 42.190165884898548), (50.0, 38.529369141422293), (21.800000000000001, 21.293359521318486), (37.299999999999997, 33.531176767471408), (31.5, 31.964653372836501), (32.0, 33.284879548586545), (13.300000000000001, 20.019289798990759), (19.5, 19.917989353804511), (20.600000000000001, 21.450220329991581), (21.0, 21.350525491208366), (45.399999999999999, 37.948894663722214), (32.0, 33.321302525714032), (33.100000000000001, 34.732158337740053), (20.100000000000001, 18.803557568136132), (32.200000000000003, 31.022639495240792), (36.100000000000001, 32.48473990286984), (23.699999999999999, 26.677546882839174), (20.600000000000001, 19.662855854138595), (23.399999999999999, 24.091125307415126), (24.699999999999999, 22.994423890882622), (20.5, 23.696364352513243), (13.800000000000001, 7.0408668406582482), (43.799999999999997, 34.371998034060951), (43.100000000000001, 36.664267510227738), (22.600000000000001, 19.03640934466922), (13.5, 12.591230311037165), (21.399999999999999, 21.680485222284723), (19.399999999999999, 23.261396787518063), (25.199999999999999, 27.122598423336118), (19.300000000000001, 22.321145004120616), (5.5999999999999996, 11.928715844000839), (27.5, 24.093843489731398), (16.600000000000001, 17.986273598438373), (22.899999999999999, 23.099824334298326), (15.0, 24.58349872321072), (36.200000000000003, 27.076781653714292), (20.399999999999999, 20.667653746516049), (15.199999999999999, 19.068307492402692), (16.0, 17.955174378554169), (33.200000000000003, 31.608458768363256), (20.600000000000001, 15.573582648177457), (8.3000000000000007, 13.140545725566442), (23.100000000000001, 24.553144239199433), (42.799999999999997, 28.552716949007433), (36.5, 35.492595913449748), (18.800000000000001, 20.870439500984588), (12.1, 18.127587206577218), (35.200000000000003, 34.929998670750187), (17.0, 22.97340569361473), (27.899999999999999, 19.990588675683867), (22.600000000000001, 24.330502971094184), (22.600000000000001, 26.731765918652187), (50.0, 24.718462938694344), (24.100000000000001, 25.73642582379167), (24.800000000000001, 30.15327903519464), (10.199999999999999, 16.775713878240452), (50.0, 40.358022786034844), (10.9, 13.422184971197897), (24.5, 26.779347745408209), (22.899999999999999, 19.579846345362583), (20.699999999999999, 26.075467697782575), (21.0, 23.139161795234035), (28.600000000000001, 28.401220547303787), (12.699999999999999, 11.403103663509725), (26.600000000000001, 21.124792832337533), (10.199999999999999, 7.1586718309134998), (35.399999999999999, 29.979630053540397), (16.100000000000001, 18.436534693271053), (19.199999999999999, 19.82551230830704), (19.600000000000001, 19.232133957018959), (16.600000000000001, 15.175904820037735), (23.0, 19.829128651901282), (50.0, 40.162344905023119), (11.800000000000001, 12.80449987833765), (22.5, 22.239332308405878), (22.699999999999999, 25.310129706149713), (21.699999999999999, 24.740292064331591), (14.9, 16.908459013539556), (17.300000000000001, 16.86845542291028), (16.800000000000001, 20.53150279697967), (24.100000000000001, 19.569469927560203), (23.100000000000001, 20.335221464738225), (31.600000000000001, 32.255856340038065), (18.699999999999999, 21.105142052044567), (28.399999999999999, 30.324476834526099), (20.100000000000001, 21.234093376639866), (19.699999999999999, 21.261424357494036), (37.899999999999999, 33.150379519570222), (17.100000000000001, 19.22880648166386), (19.100000000000001, 19.592188891265842), (31.0, 34.101766978648868), (19.300000000000001, 21.47222668674301), (18.399999999999999, 18.927257606231318), (23.899999999999999, 27.105426073721965), (23.699999999999999, 28.215253045080836), (42.299999999999997, 36.362624126315609), (8.4000000000000004, 14.18597673764039), (21.899999999999999, 23.512420251357302), (14.1, 15.386152118087894), (32.700000000000003, 29.590883481376984), (13.6, 14.269542858872883), (33.399999999999999, 27.789235410634973), (41.700000000000003, 36.838944415609419), (22.800000000000001, 28.809503010408008), (22.0, 21.09864817457828), (17.699999999999999, 19.949185549506506), (15.0, 14.483863630304539), (33.0, 22.242359185793873), (31.600000000000001, 31.799354512539232), (10.4, 7.0906995548713638), (32.399999999999999, 36.059159102739585)]\n"
     ]
    }
   ],
   "source": [
    "output_Ridge = list(zip (y_test, clf_Ridge.predict(X_test)))\n",
    "y_pred_Ridge = [x[1] for x in output_Ridge]\n",
    "print(output_Ridge)"
   ]
  },
  {
   "cell_type": "code",
   "execution_count": 196,
   "metadata": {
    "collapsed": false
   },
   "outputs": [
    {
     "name": "stdout",
     "output_type": "stream",
     "text": [
      "0.746590364036\n"
     ]
    }
   ],
   "source": [
    "R2_Ridge = r2_score(y_test, y_pred_Ridge)\n",
    "print(R2_Ridge)"
   ]
  },
  {
   "cell_type": "code",
   "execution_count": 197,
   "metadata": {
    "collapsed": false
   },
   "outputs": [
    {
     "name": "stdout",
     "output_type": "stream",
     "text": [
      "5.02360701627\n"
     ]
    }
   ],
   "source": [
    "RMSE_Ridge = np.sqrt(mean_squared_error(y_test, y_pred_Ridge))\n",
    "print(RMSE_Ridge)"
   ]
  },
  {
   "cell_type": "markdown",
   "metadata": {},
   "source": [
    "### Compare Performance"
   ]
  },
  {
   "cell_type": "code",
   "execution_count": 198,
   "metadata": {
    "collapsed": false
   },
   "outputs": [
    {
     "name": "stdout",
     "output_type": "stream",
     "text": [
      "0.000175758507355\n"
     ]
    }
   ],
   "source": [
    "# Ridge Performance over Linear Regression - R2\n",
    "R2_Ridge_Over_LR = R2_Ridge - R2_LR\n",
    "print(R2_Ridge_Over_LR)"
   ]
  },
  {
   "cell_type": "code",
   "execution_count": 199,
   "metadata": {
    "collapsed": false
   },
   "outputs": [
    {
     "name": "stdout",
     "output_type": "stream",
     "text": [
      "-0.00174182134774\n"
     ]
    }
   ],
   "source": [
    "# Ridge Performance over Linear Regression - RMSE\n",
    "RMSE_Ridge_Over_LR = RMSE_Ridge - RMSE_LR\n",
    "print(RMSE_Ridge_Over_LR)"
   ]
  }
 ],
 "metadata": {
  "kernelspec": {
   "display_name": "Python 3",
   "language": "python",
   "name": "python3"
  },
  "language_info": {
   "codemirror_mode": {
    "name": "ipython",
    "version": 3
   },
   "file_extension": ".py",
   "mimetype": "text/x-python",
   "name": "python",
   "nbconvert_exporter": "python",
   "pygments_lexer": "ipython3",
   "version": "3.6.0"
  }
 },
 "nbformat": 4,
 "nbformat_minor": 0
}
